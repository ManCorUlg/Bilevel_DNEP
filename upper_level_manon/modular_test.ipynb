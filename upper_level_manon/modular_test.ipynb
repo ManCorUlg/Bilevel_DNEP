{
 "cells": [
  {
   "attachments": {},
   "cell_type": "markdown",
   "metadata": {},
   "source": [
    "[comment]: <> (Section)\n",
    "<hr style=\"color:#c6cde1;\">\n",
    "<p align=\"center\">\n",
    "    <b style=\"font-size:2vw; color:#c6cde1;\">\n",
    "    1. Initialization\n",
    "    </b>\n",
    "</p>\n",
    "<hr style=\"color:#c6cde1;\">\n",
    "\n",
    "[comment]: <> (Description)\n",
    "<p align=\"justify\">\n",
    "    In this section, one will be able to:\n",
    "    <ul>\n",
    "        <li style=\"margin-bottom:10px\">Initialize all the librairies needed for the project;</li>"
   ]
  },
  {
   "cell_type": "code",
   "execution_count": 4,
   "metadata": {},
   "outputs": [],
   "source": [
    "# -- IMPORTATION OF THE PACKAGES --\n",
    "import XLSX, DataFrames\n",
    "using JuMP, Gurobi, Printf, Dates"
   ]
  },
  {
   "cell_type": "code",
   "execution_count": 5,
   "metadata": {},
   "outputs": [
    {
     "data": {
      "text/plain": [
       "print_title (generic function with 1 method)"
      ]
     },
     "execution_count": 5,
     "metadata": {},
     "output_type": "execute_result"
    }
   ],
   "source": [
    "# -- FUNCTION TO PRINT TITLE --\n",
    "\n",
    "function print_title(title::String)\n",
    "    println(title)\n",
    "    for i in 1:length(title) @printf(\"-\") end\n",
    "    @printf(\"\\n\")\n",
    "end"
   ]
  },
  {
   "cell_type": "code",
   "execution_count": 6,
   "metadata": {},
   "outputs": [
    {
     "data": {
      "text/plain": [
       "print_vector (generic function with 1 method)"
      ]
     },
     "execution_count": 6,
     "metadata": {},
     "output_type": "execute_result"
    }
   ],
   "source": [
    "# -- FUNCTION TO PRINT 1D ARRAY --\n",
    "\n",
    "function print_vector(vector::Vector{<:Number}, units)\n",
    "    println(\"[\"*join(vector, \", \")*\"] [$units]\")\n",
    "end"
   ]
  },
  {
   "cell_type": "markdown",
   "metadata": {},
   "source": [
    "[comment]: <> (Section)\n",
    "<hr style=\"color:#c6cde1;\">\n",
    "<p align=\"center\">\n",
    "    <b style=\"font-size:2vw; color:#c6cde1;\">\n",
    "    2. Definition of the network model \n",
    "    </b>\n",
    "</p>\n",
    "<hr style=\"color:#c6cde1;\">\n",
    "\n",
    "[comment]: <> (Description)\n",
    "<p align=\"justify\">\n",
    "    In this section, one will be able to:\n",
    "    <ul>\n",
    "        <li style=\"margin-bottom:10px\">Load a network model from an Excel file;</li>\n",
    "        <li style=\"margin-bottom:10px\">Initialize the parameters defining the network</li>\n",
    "    </ul> "
   ]
  },
  {
   "cell_type": "code",
   "execution_count": 7,
   "metadata": {},
   "outputs": [
    {
     "data": {
      "text/plain": [
       "\"/Users/manoncornet/Documents/University/TFE/DNEP/network_models/network_Nahman_Peric_2S23H.xlsx\""
      ]
     },
     "execution_count": 7,
     "metadata": {},
     "output_type": "execute_result"
    }
   ],
   "source": [
    "# -- LOADING OF THE EXCEL FILE --\n",
    "\n",
    "XLSX_FILE_PATH = joinpath(splitdir(@__DIR__)[1], \"network_models/network_Nahman_Peric_2S23H.xlsx\")"
   ]
  },
  {
   "cell_type": "code",
   "execution_count": 9,
   "metadata": {},
   "outputs": [
    {
     "name": "stdout",
     "output_type": "stream",
     "text": [
      "Per-unit basis:\n",
      "---------------\n",
      "Base Admittance : 8.402e-04 [S]\n",
      "Base Impedance  : 1.190e+03 [Ohm]\n",
      "Base Voltage    : 3.450e+01 [kV]\n",
      "Base Current    : 2.899e-02 [kA]\n",
      "Base Power      : 1.000e+00 [MVA]\n"
     ]
    }
   ],
   "source": [
    "# -- DEFINITION OF THE PER UNIT BASIS --\n",
    "# Values obtained by reading the Paper \"A Constructive Heuristic Algorithm for Distribution System Planning\"\n",
    "\n",
    "const BASE_VOLTAGE    = 34.5                             # [kV]\n",
    "const BASE_POWER      = 1                                # [MVA]\n",
    "const BASE_CURRENT    = BASE_POWER / BASE_VOLTAGE        # [kA]\n",
    "const BASE_ADMITTANCE = BASE_CURRENT / BASE_VOLTAGE      # [S]\n",
    "const BASE_IMPEDANCE  = 1/BASE_ADMITTANCE                # [Ohm]\n",
    "print_title(\"Per-unit basis:\")\n",
    "\n",
    "@printf(\"Base Admittance : %.3e [S]\\n\", BASE_ADMITTANCE)\n",
    "@printf(\"Base Impedance  : %.3e [Ohm]\\n\", BASE_IMPEDANCE)\n",
    "@printf(\"Base Voltage    : %.3e [kV]\\n\", BASE_VOLTAGE)\n",
    "@printf(\"Base Current    : %.3e [kA]\\n\", BASE_CURRENT)\n",
    "@printf(\"Base Power      : %.3e [MVA]\\n\", BASE_POWER)"
   ]
  },
  {
   "cell_type": "code",
   "execution_count": 10,
   "metadata": {},
   "outputs": [
    {
     "data": {
      "text/plain": [
       "process_conductors (generic function with 1 method)"
      ]
     },
     "execution_count": 10,
     "metadata": {},
     "output_type": "execute_result"
    }
   ],
   "source": [
    "# -- FUNCTION THAT PROCESSES THE LINE PROPRETIES  --\n",
    "\n",
    "function process_conductors(df_cond::DataFrames.DataFrame, \n",
    "                            len_lines::Vector{Float64},  \n",
    "                            nb_lines::Integer, \n",
    "                        )\n",
    "\n",
    "    nb_cond = DataFrames.nrow(df_cond)\n",
    "    max_i   = Array{Float64}(undef, nb_lines, nb_cond) # absolute, [pu]\n",
    "    r       = Array{Float64}(undef, nb_lines, nb_cond) # absolute, [pu]\n",
    "    x       = Array{Float64}(undef, nb_lines, nb_cond) # absolute, [pu]\n",
    "    g       = Array{Float64}(undef, nb_lines, nb_cond) # absolute, [pu]\n",
    "    b       = Array{Float64}(undef, nb_lines, nb_cond) # absolute, [pu]\n",
    "    \n",
    "    line_cost = Array{Float64}(undef, nb_lines, nb_cond) # [€/km]\n",
    "\n",
    "    # Only take the first conductors of the list in the file\n",
    "    for l in 1:nb_lines\n",
    "        for k in 1:nb_cond\n",
    "            max_i[l, k] = df_cond.max_i_ka[k] ./ BASE_CURRENT\n",
    "\n",
    "            r[l, k] = len_lines[l] * df_cond.r_ohm_per_km[k] ./ BASE_IMPEDANCE\n",
    "            x[l, k] = len_lines[l] * df_cond.x_ohm_per_km[k] ./ BASE_IMPEDANCE\n",
    "            y = 1/(r[l, k]+im*x[l, k])\n",
    "\n",
    "            g[l, k] = real(y) \n",
    "            b[l, k] = abs(imag(y))\n",
    "\n",
    "            line_cost[l, k] = df_cond.cost_kdollars_per_km[k] * len_lines[l]\n",
    "        end\n",
    "    end\n",
    "    return max_i, line_cost, r, x, g, b\n",
    "end"
   ]
  },
  {
   "cell_type": "code",
   "execution_count": 11,
   "metadata": {},
   "outputs": [
    {
     "data": {
      "text/html": [
       "<div><div style = \"float: left;\"><span>2×8 DataFrame</span></div><div style = \"clear: both;\"></div></div><div class = \"data-frame\" style = \"overflow-x: scroll;\"><table class = \"data-frame\" style = \"margin-bottom: 6px;\"><thead><tr class = \"header\"><th class = \"rowNumber\" style = \"font-weight: bold; text-align: right;\">Row</th><th style = \"text-align: left;\">idx</th><th style = \"text-align: left;\">Name</th><th style = \"text-align: left;\">d_mm</th><th style = \"text-align: left;\">q_mm2</th><th style = \"text-align: left;\">r_ohm_per_km</th><th style = \"text-align: left;\">x_ohm_per_km</th><th style = \"text-align: left;\">max_i_ka</th><th style = \"text-align: left;\">cost_kdollars_per_km</th></tr><tr class = \"subheader headerLastRow\"><th class = \"rowNumber\" style = \"font-weight: bold; text-align: right;\"></th><th title = \"Any\" style = \"text-align: left;\">Any</th><th title = \"Any\" style = \"text-align: left;\">Any</th><th title = \"Any\" style = \"text-align: left;\">Any</th><th title = \"Any\" style = \"text-align: left;\">Any</th><th title = \"Any\" style = \"text-align: left;\">Any</th><th title = \"Any\" style = \"text-align: left;\">Any</th><th title = \"Any\" style = \"text-align: left;\">Any</th><th title = \"Any\" style = \"text-align: left;\">Any</th></tr></thead><tbody><tr><td class = \"rowNumber\" style = \"font-weight: bold; text-align: right;\">1</td><td style = \"text-align: left;\">1</td><td style = \"text-align: left;\">AAC (1/0)</td><td style = \"text-align: left;\">9.35</td><td style = \"text-align: left;\">53.5</td><td style = \"text-align: left;\">0.5502</td><td style = \"text-align: left;\">0.429</td><td style = \"text-align: left;\">0.23</td><td style = \"text-align: left;\">10</td></tr><tr><td class = \"rowNumber\" style = \"font-weight: bold; text-align: right;\">2</td><td style = \"text-align: left;\">2</td><td style = \"text-align: left;\">AAC (4/0)</td><td style = \"text-align: left;\">13.26</td><td style = \"text-align: left;\">107.3</td><td style = \"text-align: left;\">0.2707</td><td style = \"text-align: left;\">0.402</td><td style = \"text-align: left;\">0.34</td><td style = \"text-align: left;\">20</td></tr></tbody></table></div>"
      ],
      "text/latex": [
       "\\begin{tabular}{r|cccccccc}\n",
       "\t& idx & Name & d\\_mm & q\\_mm2 & r\\_ohm\\_per\\_km & x\\_ohm\\_per\\_km & max\\_i\\_ka & cost\\_kdollars\\_per\\_km\\\\\n",
       "\t\\hline\n",
       "\t& Any & Any & Any & Any & Any & Any & Any & Any\\\\\n",
       "\t\\hline\n",
       "\t1 & 1 & AAC (1/0) & 9.35 & 53.5 & 0.5502 & 0.429 & 0.23 & 10 \\\\\n",
       "\t2 & 2 & AAC (4/0) & 13.26 & 107.3 & 0.2707 & 0.402 & 0.34 & 20 \\\\\n",
       "\\end{tabular}\n"
      ],
      "text/plain": [
       "\u001b[1m2×8 DataFrame\u001b[0m\n",
       "\u001b[1m Row \u001b[0m│\u001b[1m idx \u001b[0m\u001b[1m Name      \u001b[0m\u001b[1m d_mm  \u001b[0m\u001b[1m q_mm2 \u001b[0m\u001b[1m r_ohm_per_km \u001b[0m\u001b[1m x_ohm_per_km \u001b[0m\u001b[1m max_i_ka \u001b[0m\u001b[1m cos\u001b[0m ⋯\n",
       "     │\u001b[90m Any \u001b[0m\u001b[90m Any       \u001b[0m\u001b[90m Any   \u001b[0m\u001b[90m Any   \u001b[0m\u001b[90m Any          \u001b[0m\u001b[90m Any          \u001b[0m\u001b[90m Any      \u001b[0m\u001b[90m Any\u001b[0m ⋯\n",
       "─────┼──────────────────────────────────────────────────────────────────────────\n",
       "   1 │ 1    AAC (1/0)  9.35   53.5   0.5502        0.429         0.23      10  ⋯\n",
       "   2 │ 2    AAC (4/0)  13.26  107.3  0.2707        0.402         0.34      20\n",
       "\u001b[36m                                                                1 column omitted\u001b[0m"
      ]
     },
     "execution_count": 11,
     "metadata": {},
     "output_type": "execute_result"
    }
   ],
   "source": [
    "# -- FETCH THE DATA FROM THE EXCEL SHEET --\n",
    "\n",
    "df_bus  = DataFrames.DataFrame(XLSX.readtable(XLSX_FILE_PATH, \"bus\"))\n",
    "df_line = DataFrames.DataFrame(XLSX.readtable(XLSX_FILE_PATH, \"line\"))\n",
    "df_cond = DataFrames.DataFrame(XLSX.readtable(XLSX_FILE_PATH, \"conductor\"))"
   ]
  },
  {
   "cell_type": "code",
   "execution_count": 12,
   "metadata": {},
   "outputs": [
    {
     "name": "stdout",
     "output_type": "stream",
     "text": [
      "Network lines summary:\n",
      "----------------------\n",
      "Number of lines : 34\n"
     ]
    }
   ],
   "source": [
    "# -- LINE PARAMETERS DEFINITION --\n",
    "\n",
    "L_size = DataFrames.nrow(df_line)                                   # Number of lines in the network\n",
    "L      = 1:L_size                                                   # Line set\n",
    "line_ends = [(df_line.from_bus[l], df_line.to_bus[l]) for l in L]   # Indices of the line extremities\n",
    "len_lines = convert(Vector{Float64}, df_line.length_km)             # Line lengths [km]\n",
    "\n",
    "print_title(\"Network lines summary:\")\n",
    "@printf(\"Number of lines : %d\\n\", L_size)"
   ]
  },
  {
   "cell_type": "code",
   "execution_count": 13,
   "metadata": {},
   "outputs": [
    {
     "name": "stdout",
     "output_type": "stream",
     "text": [
      "Conductor properties:\n",
      "---------------------\n",
      "\u001b[1m2×8 DataFrame\u001b[0m\n",
      "\u001b[1m Row \u001b[0m│\u001b[1m idx \u001b[0m\u001b[1m Name      \u001b[0m\u001b[1m d_mm  \u001b[0m\u001b[1m q_mm2 \u001b[0m\u001b[1m r_ohm_per_km \u001b[0m\u001b[1m x_ohm_per_km \u001b[0m\u001b[1m max_i_ka \u001b[0m\u001b[1m cost_kdollars_per_km \u001b[0m\n",
      "     │\u001b[90m Any \u001b[0m\u001b[90m Any       \u001b[0m\u001b[90m Any   \u001b[0m\u001b[90m Any   \u001b[0m\u001b[90m Any          \u001b[0m\u001b[90m Any          \u001b[0m\u001b[90m Any      \u001b[0m\u001b[90m Any                  \u001b[0m\n",
      "─────┼──────────────────────────────────────────────────────────────────────────────────────────\n",
      "   1 │ 1    AAC (1/0)  9.35   53.5   0.5502        0.429         0.23      10\n",
      "   2 │ 2    AAC (4/0)  13.26  107.3  0.2707        0.402         0.34      20\n"
     ]
    }
   ],
   "source": [
    "# -- DEFINITION OF THE PHYSICAL QUANTITIES ASSOCIATED TO NETWORK LINES --\n",
    "\n",
    "K_size = DataFrames.nrow(df_cond)   # Number of conductor types\n",
    "K      = 1:K_size                   # Set of conductors\n",
    "\n",
    "max_i, line_cost, R, X, G, B, = process_conductors(df_cond, len_lines, L_size)\n",
    "\n",
    "print_title(\"Conductor properties:\")\n",
    "println(df_cond)"
   ]
  },
  {
   "cell_type": "code",
   "execution_count": 14,
   "metadata": {},
   "outputs": [
    {
     "name": "stdout",
     "output_type": "stream",
     "text": [
      "Network buses summary:\n",
      "----------------------\n",
      "Number of buses            : 23\n",
      "Number of load buses       : 21\n",
      "Number of existing substation buses : 1\n",
      "Number of substation buses : 2\n"
     ]
    }
   ],
   "source": [
    "# -- BUS PARAMETERS DEFINITION --\n",
    "\n",
    "N_size = DataFrames.nrow(df_bus)            # Number of buses in the network\n",
    "N      = 1:N_size                           # Buses set\n",
    "\n",
    "Ns_size = sum(df_bus.type .== \"substation\") # Number of substation buses\n",
    "Nu_size = sum(df_bus.type .== \"user\")       # Number of load nodes\n",
    "\n",
    "Ns_init_size = sum(df_bus.S_G_init_mva .> 0)\n",
    "Ns = 1:Ns_size                              # Set of substation buses\n",
    "Nu = (1:Nu_size) .+ Ns_size                 # Set of load buses\n",
    "Ns_init = 1:Ns_init_size\n",
    "\n",
    "print_title(\"Network buses summary:\")\n",
    "@printf(\"Number of buses            : %d\\n\", N_size)\n",
    "@printf(\"Number of load buses       : %d\\n\", Nu_size)\n",
    "@printf(\"Number of existing substation buses : %d\\n\", Ns_init_size)\n",
    "@printf(\"Number of substation buses : %d\\n\", Ns_size)"
   ]
  },
  {
   "cell_type": "code",
   "execution_count": 15,
   "metadata": {},
   "outputs": [
    {
     "name": "stdout",
     "output_type": "stream",
     "text": [
      "Network buses additional info:\n",
      "------------------------------\n",
      "Power factor  : 0.9\n",
      "Voltage range : [0.97, 1.03] [pu]"
     ]
    }
   ],
   "source": [
    "# -- DEFINITION OF THE PHYSICAL QUANTITIES ASSOCIATED TO NETWORK BUSES --\n",
    "\n",
    "# Limits on voltage\n",
    "MIN_VOLTAGE = 0.97  # [pu]\n",
    "MAX_VOLTAGE = 1.03  # [pu]\n",
    "\n",
    "# Demand at buses\n",
    "# Assumption: load power factor is constant for all loads and is lagging (inductive)\n",
    "cos_phi = 0.9\n",
    "S_D     = convert(Vector{Float64}, df_bus.S_D_mva) ./ BASE_POWER\n",
    "P_D     = S_D * cos_phi\n",
    "Q_D     = S_D * sin(acos(cos_phi))\n",
    "\n",
    "print_title(\"Network buses additional info:\")\n",
    "@printf(\"Power factor  : %.3g\\n\", cos_phi)\n",
    "@printf(\"Voltage range : [%1.3g, %1.3g] [pu]\", MIN_VOLTAGE, MAX_VOLTAGE)"
   ]
  },
  {
   "cell_type": "code",
   "execution_count": 16,
   "metadata": {},
   "outputs": [
    {
     "name": "stdout",
     "output_type": "stream",
     "text": [
      "Substation buses additional info:\n",
      "---------------------------------\n",
      "Initial rating of substations: [4.0, 0.0] [pu]\n",
      "Maximum rating of substations: [4.0, 4.0] [pu]\n",
      "Substation construction cost : 1e+03 [k$]\n",
      "Substation operation cost    : 0.0001 [k$/kVA^2]"
     ]
    }
   ],
   "source": [
    "# -- SUBSTATION PARAMETERS DEFINITION --\n",
    "\n",
    "S_rating_init    = convert(Vector{Float64}, df_bus.S_G_init_mva[Ns]) ./ BASE_POWER # [pu]\n",
    "S_rating_max     = convert(Vector{Float64}, df_bus.S_G_max_mva[Ns]) ./ BASE_POWER # [pu]\n",
    "sub_install_cost = 1e3      # k$\n",
    "sub_op_cost      = 0.1*1e-3 # k$/kVah^2\n",
    "\n",
    "print_title(\"Substation buses additional info:\")\n",
    "print(\"Initial rating of substations: \"); print_vector(S_rating_init, \"pu\");\n",
    "print(\"Maximum rating of substations: \"); print_vector(S_rating_max, \"pu\");\n",
    "@printf(\"Substation construction cost : %.3g [k\\$]\\n\", sub_install_cost)\n",
    "@printf(\"Substation operation cost    : %.3g [k\\$/kVA^2]\", sub_op_cost)"
   ]
  },
  {
   "cell_type": "code",
   "execution_count": 17,
   "metadata": {},
   "outputs": [
    {
     "name": "stdout",
     "output_type": "stream",
     "text": [
      "Link btw lines and nodes:\n",
      "-------------------------\n",
      "Omega sending  : Dict{Int64, Vector{Any}}(5 => [21, 22], 16 => [], 20 => [], 12 => [18], 8 => [28, 29, 30, 33], 17 => [17], 1 => [1], 19 => [5, 6, 7], 22 => [8, 9], 23 => [19, 20], 6 => [25, 26], 11 => [10, 11], 9 => [32], 14 => [24], 3 => [34], 7 => [27], 4 => [23, 31], 13 => [12], 15 => [13, 14, 15], 2 => [], 10 => [2, 3, 4], 18 => [16], 21 => [])\n",
      "Omega receiving: Dict{Int64, Vector{Any}}(5 => [20], 16 => [8, 25, 34], 20 => [2, 5], 12 => [15], 8 => [27], 17 => [16], 1 => [], 19 => [4], 22 => [7], 23 => [18], 6 => [23, 24], 11 => [9], 9 => [29, 31], 14 => [3, 17, 19, 21], 3 => [32, 33], 7 => [26], 4 => [22, 30], 13 => [11], 15 => [12], 2 => [28], 10 => [1], 18 => [14], 21 => [6, 10, 13])\n"
     ]
    }
   ],
   "source": [
    "# -- LINK BTW LINES AND NODES --\n",
    "\n",
    "Omega_sending   = Dict(n => [] for n in N)\n",
    "Omega_receiving = Dict(n => [] for n in N)\n",
    "for l in L\n",
    "    push!(Omega_sending[line_ends[l][1]], l)\n",
    "    push!(Omega_receiving[line_ends[l][2]], l)\n",
    "end\n",
    "\n",
    "print_title(\"Link btw lines and nodes:\")\n",
    "println(\"Omega sending  : $Omega_sending\")\n",
    "println(\"Omega receiving: $Omega_receiving\")"
   ]
  },
  {
   "cell_type": "markdown",
   "metadata": {},
   "source": [
    "[comment]: <> (Section)\n",
    "<hr style=\"color:#c6cde1;\">\n",
    "<p align=\"center\">\n",
    "    <b style=\"font-size:2vw; color:#c6cde1;\">\n",
    "    3. Definition of the objective function parameters \n",
    "    </b>\n",
    "</p>\n",
    "<hr style=\"color:#c6cde1;\">\n",
    "\n",
    "[comment]: <> (Description)\n",
    "<p align=\"justify\">\n",
    "    In this section, one will be able to:\n",
    "    <ul>\n",
    "        <li style=\"margin-bottom:10px\">Set the parameters that are required in the objective function;</li>\n",
    "    </ul> "
   ]
  },
  {
   "cell_type": "code",
   "execution_count": 18,
   "metadata": {},
   "outputs": [
    {
     "data": {
      "text/plain": [
       "CRF (generic function with 1 method)"
      ]
     },
     "execution_count": 18,
     "metadata": {},
     "output_type": "execute_result"
    }
   ],
   "source": [
    "# -- FUNCTION FOR COMPUTING THE NPV --\n",
    "\n",
    "function PV_coeff(tau, lambda)\n",
    "    return (1 - 1/(1 + tau)^lambda)/tau  \n",
    "end\n",
    "\n",
    "# Capital recovery rate formula\n",
    "# tau: interest rate \n",
    "# n : number of annuity received\n",
    "function CRF(tau, n)\n",
    "    return (tau * (1 + tau)^n)/((1 + tau)^n - 1)  \n",
    "end"
   ]
  },
  {
   "cell_type": "code",
   "execution_count": 19,
   "metadata": {},
   "outputs": [
    {
     "data": {
      "text/plain": [
       "0.9090909090909094"
      ]
     },
     "execution_count": 19,
     "metadata": {},
     "output_type": "execute_result"
    }
   ],
   "source": [
    "# -- OBJECTIVE FUNCTION PARAMETERS --\n",
    "\n",
    "nb_years_planning = 1\n",
    "delta_t           = 1 # [h]\n",
    "\n",
    "tau = 0.1\n",
    "\n",
    "line_loss_factor = 0.35     # phi_l : loss factor of lines\n",
    "sub_loss_factor  = 0.35     # phi_s : cost per energy lost [€/kWh]\n",
    "\n",
    "K_l = CRF(tau, 1)           # Capital recovery rate of line constructions\n",
    "K_s = CRF(tau, 1)           # Capital recovery rate of substation construction or reinforcement\n",
    "\n",
    "loss_cost = 0.05*1e-3       # [k$/kWh]\n",
    "tau_l     = tau             # tau_l : interest rate of circuits\n",
    "tau_s     = tau             # tau_s : interest rate of substations\n",
    "\n",
    "f_l = PV_coeff(tau_l, nb_years_planning)\n",
    "f_s = PV_coeff(tau_s, nb_years_planning)"
   ]
  },
  {
   "cell_type": "code",
   "execution_count": 20,
   "metadata": {},
   "outputs": [
    {
     "data": {
      "text/plain": [
       "Dict{Symbol, Tuple{Float64, Float64, Vararg{Any}}} with 4 entries:\n",
       "  :NPV_coeff => (0.909091, 0.909091)\n",
       "  :LF        => (0.35, 0.35)\n",
       "  :CRF       => (1.1, 1.1)\n",
       "  :costs     => (5.0e-5, 1000.0, 0.0001, [2.02092 4.04183; 6.97278 13.9456; … ;…"
      ]
     },
     "execution_count": 20,
     "metadata": {},
     "output_type": "execute_result"
    }
   ],
   "source": [
    "# -- CREATION OF THE NETWORK DICT --\n",
    "# Rmq: all the costs are in k$\n",
    "Ns_init = [1]\n",
    "network_dict = Dict(:bus       => (N, Omega_sending, Omega_receiving, MIN_VOLTAGE, MAX_VOLTAGE),\n",
    "                    :load_bus  => (Nu, P_D, Q_D, delta_t),\n",
    "                    :sub_bus   => (Ns, Ns_init, S_rating_init, S_rating_max),\n",
    "                    :line      => (L, line_ends, max_i, R, X, G, B),\n",
    "                    :conductor => (K)\n",
    "                    )\n",
    "                    \n",
    "obj_fct_dict = Dict(:LF  => (line_loss_factor, sub_loss_factor),\n",
    "                    :CRF => (K_l, K_s),\n",
    "                    :NPV_coeff => (f_l, f_s),\n",
    "                    :costs => (loss_cost, sub_install_cost, sub_op_cost, line_cost)\n",
    "                    )"
   ]
  },
  {
   "cell_type": "code",
   "execution_count": 29,
   "metadata": {},
   "outputs": [],
   "source": [
    "# -- CONFIGURATION STRUCTURE --\n",
    "# It becomes very very hard to code => Think of other ways\n",
    "abstract type PowerFlowFormulation end      # can be either Jabr or distflow\n",
    "abstract type TypeofProdFormulation end     # No_DG or DG generation (boolean) => replace by a \"if\" \n",
    "abstract type NetworkGraphFormulation end   # directed or undirected (boolean) => complicated to replace by a \"if\"\n",
    "abstract type RadialityFormulation end      # simple - single commodity flow - multi-commodity - spanning tree constraints\n",
    "abstract type CondVarsFormulation end\n",
    "\n",
    "struct BIM <: PowerFlowFormulation end\n",
    "struct BFM <: PowerFlowFormulation end\n",
    "\n",
    "struct NoDG <: TypeofProdFormulation end\n",
    "struct DG <: TypeofProdFormulation end\n",
    "\n",
    "struct DirectedGraph <: NetworkGraphFormulation end\n",
    "struct UnDirectedGraph <: NetworkGraphFormulation end\n",
    "\n",
    "struct SimpleRadiality <: RadialityFormulation end\n",
    "struct SingleCommodityFlow <: RadialityFormulation end\n",
    "\n",
    "# Choice to aggregate or not with a variable the values of branch variables over all conductors\n",
    "struct AggrCondVars <: CondVarsFormulation end \n",
    "struct NonAggrCondVars <: CondVarsFormulation end\n",
    "\n",
    "struct Formulation\n",
    "    powerflow::PowerFlowFormulation \n",
    "    production::TypeofProdFormulation\n",
    "    radiality::RadialityFormulation\n",
    "    networkgraph::NetworkGraphFormulation\n",
    "    condvars::CondVarsFormulation\n",
    "\n",
    "    function Formulation(;\n",
    "        powerflow::PowerFlowFormulation = BFM(),\n",
    "        production::TypeofProdFormulation = NoDG(),\n",
    "        radiality::RadialityFormulation = SimpleRadiality(),  \n",
    "        networkgraph::NetworkGraphFormulation = DirectedGraph(),\n",
    "        condvars::CondVarsFormulation = NonAggrCondVars()           \n",
    "        )                     \n",
    "        return new(powerflow, production, radiality, networkgraph, condvars)\n",
    "    end\n",
    "end"
   ]
  },
  {
   "cell_type": "code",
   "execution_count": 30,
   "metadata": {},
   "outputs": [
    {
     "data": {
      "text/plain": [
       "_add_BusVariables! (generic function with 2 methods)"
      ]
     },
     "execution_count": 30,
     "metadata": {},
     "output_type": "execute_result"
    }
   ],
   "source": [
    "# -- BUS VARIABLES --\n",
    " \n",
    "function _add_BusVariables!(model, ::NoDG)::Nothing \n",
    "\n",
    "    N   = model[:network_data][:bus][1]\n",
    "    Ns  = model[:network_data][:sub_bus][1]\n",
    "    MIN_VOLTAGE = model[:network_data][:bus][4]\n",
    "    MAX_VOLTAGE = model[:network_data][:bus][5]\n",
    "\n",
    "    @variables( model,   \n",
    "                begin \n",
    "                MIN_VOLTAGE^2 <= V_sqr[N] <= MAX_VOLTAGE^2 , (container=Array)\n",
    "                P_G[N] >= 0                                , (container=Array)\n",
    "                Q_G[N]                                     , (container=Array)\n",
    "                S_G[N]                                     , (container=Array)\n",
    "                beta[Ns]                                   , (container=Array, binary=true)    \n",
    "                end\n",
    "            )\n",
    "            \n",
    "    for i in Nu\n",
    "        fix(P_G[i], 0.0; force=true) \n",
    "        fix(Q_G[i], 0.0)\n",
    "        fix(S_G[i], 0.0)\n",
    "    end\n",
    "    \n",
    "    return\n",
    "end\n",
    "\n",
    "function _add_BusVariables!(model, ::DG)::Nothing \n",
    "\n",
    "    N   = model[:network_data][:bus][1]\n",
    "    Ns  = model[:network_data][:sub_bus][1]\n",
    "    MIN_VOLTAGE = model[:network_data][:bus][4]\n",
    "    MAX_VOLTAGE = model[:network_data][:bus][5]\n",
    "\n",
    "    @variables( model,   \n",
    "                begin \n",
    "                MIN_VOLTAGE^2 <= V_sqr[N] <= MAX_VOLTAGE^2 , (container=Array)\n",
    "                P_G[N] >= 0                                , (container=Array)\n",
    "                Q_G[N]                                     , (container=Array)\n",
    "                S_G[N]                                     , (container=Array)\n",
    "                beta[Ns]                                   , (container=Array, binary=true)    \n",
    "                end\n",
    "            )\n",
    "    return\n",
    "end"
   ]
  },
  {
   "cell_type": "code",
   "execution_count": 38,
   "metadata": {},
   "outputs": [
    {
     "data": {
      "text/plain": [
       "_add_BranchVariables! (generic function with 4 methods)"
      ]
     },
     "execution_count": 38,
     "metadata": {},
     "output_type": "execute_result"
    }
   ],
   "source": [
    "# -- BRANCH VARIABLES --\n",
    "# Here maybe think to aggregate or not in variables, another option \n",
    "function _add_BranchVariables!(model, ::DirectedGraph, ::NonAggrCondVars)::Nothing \n",
    "    # Here maybe try to test another formulations without variables\n",
    "    L = model[:network_data][:line][1]\n",
    "    K = model[:network_data][:conductor]\n",
    "\n",
    "    JuMP.@variables( model,   \n",
    "                begin \n",
    "                P_ij_k[L, K]        , (container=Array) \n",
    "                Q_ij_k[L, K]        , (container=Array)\n",
    "                I_sqr_k[L, K] >= 0  , (container=Array)\n",
    "                end\n",
    "    )\n",
    "\n",
    "    return\n",
    "end\n",
    "\n",
    "function _add_BranchVariables!(model, ::UnDirectedGraph, ::NonAggrCondVars)::Nothing \n",
    "    # Here maybe try to test another formulations without variables\n",
    "    L   = model[:network_data][:line][1]\n",
    "    K   = model[:network_data][:conductor]\n",
    "\n",
    "    JuMP.@variables( model,   \n",
    "                begin \n",
    "                P_ij_k[L, K]        , (container=Array) \n",
    "                P_ji_k[L, K]        , (container=Array) \n",
    "                Q_ij_k[L, K]        , (container=Array)\n",
    "                Q_ji_k[L, K]        , (container=Array)\n",
    "                I_sqr_k[L, K] >= 0  , (container=Array)\n",
    "                end\n",
    "    )\n",
    "    return\n",
    "end\n",
    "\n",
    "function _add_BranchVariables!(model, ::DirectedGraph, ::AggrCondVars)::Nothing \n",
    "    # Here maybe try to test another formulations without variables\n",
    "    L   = model[:network_data][:line][1]\n",
    "    K   = model[:network_data][:conductor]\n",
    "\n",
    "    JuMP.@variables( model,   \n",
    "                begin \n",
    "                P_ij_k[L, K]        , (container=Array) \n",
    "                Q_ij_k[L, K]        , (container=Array)\n",
    "                I_sqr_k[L, K] >= 0  , (container=Array)\n",
    "                P_ij[L]             , (container=Array) \n",
    "                Q_ij[L]             , (container=Array) \n",
    "                I_sqr[L] >= 0       , (container=Array)\n",
    "                end\n",
    "    )\n",
    "\n",
    "    return\n",
    "end\n",
    "\n",
    "function _add_BranchVariables!(model, ::UnDirectedGraph, ::AggrCondVars)::Nothing \n",
    "    # Here maybe try to test another formulations without variables\n",
    "    L   = model[:network_data][:line][1]\n",
    "    K   = model[:network_data][:conductor]\n",
    "\n",
    "    JuMP.@variables( model,   \n",
    "                begin \n",
    "                P_ij_k[L, K]        , (container=Array) \n",
    "                P_ji_k[L, K]        , (container=Array) \n",
    "                Q_ij_k[L, K]        , (container=Array)\n",
    "                Q_ji_k[L, K]        , (container=Array)\n",
    "                I_sqr_k[L, K] >= 0  , (container=Array)\n",
    "                P_ij[L]             , (container=Array)\n",
    "                P_ji[L]             , (container=Array) \n",
    "                Q_ij[L]             , (container=Array)\n",
    "                Q_ji[L]             , (container=Array)  \n",
    "                I_sqr[L] >= 0       , (container=Array)\n",
    "                end\n",
    "    )\n",
    "\n",
    "    return\n",
    "end"
   ]
  },
  {
   "cell_type": "code",
   "execution_count": 32,
   "metadata": {},
   "outputs": [
    {
     "data": {
      "text/plain": [
       "_add_RefVoltages! (generic function with 1 method)"
      ]
     },
     "execution_count": 32,
     "metadata": {},
     "output_type": "execute_result"
    }
   ],
   "source": [
    "# -- REFERENCE VOLTAGE AT SUBSTATIONS -- \n",
    "\n",
    "function _add_RefVoltages!(model)::Nothing\n",
    "\n",
    "    Ns      = model[:network_data][:sub_bus][1]\n",
    "    Ns_init = model[:network_data][:sub_bus][2]\n",
    "    Ns_notinit = setdiff(Ns, Ns_init)\n",
    "    MIN_VOLTAGE = model[:network_data][:bus][4]\n",
    "    MAX_VOLTAGE = model[:network_data][:bus][5]\n",
    "\n",
    "    JuMP.@constraint(model, \n",
    "                ref_voltage_sub_init[i=Ns_init], \n",
    "                model[:V_sqr][i] == 1\n",
    "    )\n",
    "    \n",
    "    JuMP.@constraint(model, \n",
    "                ref_voltage_sub_notinit1[i=Ns_notinit], \n",
    "                model[:V_sqr][i] - 1 <= (MAX_VOLTAGE^2 - 1)*(1 - model[:beta][i])\n",
    "    )\n",
    "\n",
    "    JuMP.@constraint(model, \n",
    "                ref_voltage_sub_notinit2[i=Ns_notinit], \n",
    "                model[:V_sqr][i] - 1 >= (MIN_VOLTAGE^2 - 1)*(1 - model[:beta][i])\n",
    "    ) \n",
    "    \n",
    "    return \n",
    "end"
   ]
  },
  {
   "cell_type": "code",
   "execution_count": 33,
   "metadata": {},
   "outputs": [
    {
     "data": {
      "text/plain": [
       "_add_LoadOverSatisfaction! (generic function with 1 method)"
      ]
     },
     "execution_count": 33,
     "metadata": {},
     "output_type": "execute_result"
    }
   ],
   "source": [
    "# -- LOAD OVERSATISFACTION CONSTRAINTS --\n",
    "\n",
    "function _add_LoadOverSatisfaction!(model)::Nothing\n",
    "\n",
    "    N   = model[:network_data][:bus][1]\n",
    "    P_D = model[:network_data][:load_bus][2]\n",
    "    Q_D = model[:network_data][:load_bus][3]\n",
    "    \n",
    "    JuMP.@constraint(model, \n",
    "                    LoadOverSatisfaction_active, \n",
    "                    sum(model[:P_G][i] - P_D[i] for i in N) >= 0\n",
    "    )\n",
    "\n",
    "    JuMP.@constraint(model, \n",
    "                    LoadOverSatisfaction_reactive, \n",
    "                    sum(model[:Q_G][i] - Q_D[i] for i in N) >= 0\n",
    "    )\n",
    "\n",
    "    return \n",
    "end"
   ]
  },
  {
   "cell_type": "code",
   "execution_count": null,
   "metadata": {},
   "outputs": [],
   "source": []
  },
  {
   "cell_type": "code",
   "execution_count": 39,
   "metadata": {},
   "outputs": [
    {
     "data": {
      "text/plain": [
       "build_model (generic function with 1 method)"
      ]
     },
     "execution_count": 39,
     "metadata": {},
     "output_type": "execute_result"
    }
   ],
   "source": [
    "# Function that builds the model\n",
    "function build_model(network_dict, obj_dict;\n",
    "    formulation = Formulation()\n",
    "    )::JuMP.Model\n",
    "\n",
    "    @info \"Building model...\"\n",
    "    time_model = @elapsed begin\n",
    "        model = JuMP.Model(Gurobi.Optimizer)\n",
    "        set_optimizer_attribute(model, \"TimeLimit\", 200)\n",
    "        set_optimizer_attribute(model, \"Presolve\", 0)\n",
    "\n",
    "        model[:network_data] = network_dict\n",
    "        model[:obj_data]     = obj_dict\n",
    "\n",
    "        _add_BusVariables!(model, formulation.production)\n",
    "        _add_BranchVariables!(model, formulation.networkgraph, formulation.condvars)\n",
    "        _add_RefVoltages!(model)\n",
    "        _add_LoadOverSatisfaction!(model)\n",
    "        _add_PowerFlowEqs!(model, formulation.powerflow, formulation.networkgraph, formulation.condvars)\n",
    "            \n",
    "    end\n",
    "\n",
    "    @info @sprintf(\"Built model in %.2f seconds\", time_model)\n",
    "\n",
    "\n",
    "    return model\n",
    "end"
   ]
  },
  {
   "cell_type": "code",
   "execution_count": 40,
   "metadata": {},
   "outputs": [
    {
     "name": "stderr",
     "output_type": "stream",
     "text": [
      "\u001b[36m\u001b[1m[ \u001b[22m\u001b[39m\u001b[36m\u001b[1mInfo: \u001b[22m\u001b[39mBuilding model...\n",
      "\u001b[36m\u001b[1m[ \u001b[22m\u001b[39m\u001b[36m\u001b[1mInfo: \u001b[22m\u001b[39mBuilt model in 1.23 seconds\n"
     ]
    },
    {
     "name": "stdout",
     "output_type": "stream",
     "text": [
      "Set parameter Username\n",
      "Academic license - for non-commercial use only - expires 2023-11-10\n",
      "Set parameter TimeLimit to value 200\n",
      "Set parameter Presolve to value 0\n"
     ]
    },
    {
     "data": {
      "text/latex": [
       "$$ \\begin{aligned}\n",
       "\\text{feasibility}\\\\\n",
       "\\text{Subject to} \\quad & V\\_sqr_{1} = 1.0\\\\\n",
       " & V\\_sqr_{2} - 0.05910000000000004 beta_{2} \\geq 0.9409\\\\\n",
       " & P\\_G_{1} + P\\_G_{2} + P\\_G_{3} + P\\_G_{4} + P\\_G_{5} + P\\_G_{6} + P\\_G_{7} + P\\_G_{8} + P\\_G_{9} + P\\_G_{10} + P\\_G_{11} + P\\_G_{12} + P\\_G_{13} + P\\_G_{14} + P\\_G_{15} + P\\_G_{16} + P\\_G_{17} + P\\_G_{18} + P\\_G_{19} + P\\_G_{20} + P\\_G_{21} + P\\_G_{22} + P\\_G_{23} \\geq 6.336000000000004\\\\\n",
       " & Q\\_G_{1} + Q\\_G_{2} + Q\\_G_{3} + Q\\_G_{4} + Q\\_G_{5} + Q\\_G_{6} + Q\\_G_{7} + Q\\_G_{8} + Q\\_G_{9} + Q\\_G_{10} + Q\\_G_{11} + Q\\_G_{12} + Q\\_G_{13} + Q\\_G_{14} + Q\\_G_{15} + Q\\_G_{16} + Q\\_G_{17} + Q\\_G_{18} + Q\\_G_{19} + Q\\_G_{20} + Q\\_G_{21} + Q\\_G_{22} + Q\\_G_{23} \\geq 3.068664856252635\\\\\n",
       " & V\\_sqr_{2} + 0.060899999999999954 beta_{2} \\leq 1.0609\\\\\n",
       " & P\\_G_{3} = 0.0\\\\\n",
       " & P\\_G_{4} = 0.0\\\\\n",
       " & P\\_G_{5} = 0.0\\\\\n",
       " & P\\_G_{6} = 0.0\\\\\n",
       " & P\\_G_{7} = 0.0\\\\\n",
       " & P\\_G_{8} = 0.0\\\\\n",
       " & P\\_G_{9} = 0.0\\\\\n",
       " & P\\_G_{10} = 0.0\\\\\n",
       " & P\\_G_{11} = 0.0\\\\\n",
       " & P\\_G_{12} = 0.0\\\\\n",
       " & P\\_G_{13} = 0.0\\\\\n",
       " & P\\_G_{14} = 0.0\\\\\n",
       " & P\\_G_{15} = 0.0\\\\\n",
       " & P\\_G_{16} = 0.0\\\\\n",
       " & P\\_G_{17} = 0.0\\\\\n",
       " & P\\_G_{18} = 0.0\\\\\n",
       " & P\\_G_{19} = 0.0\\\\\n",
       " & P\\_G_{20} = 0.0\\\\\n",
       " & P\\_G_{21} = 0.0\\\\\n",
       " & P\\_G_{22} = 0.0\\\\\n",
       " & P\\_G_{23} = 0.0\\\\\n",
       " & Q\\_G_{3} = 0.0\\\\\n",
       " & Q\\_G_{4} = 0.0\\\\\n",
       " & Q\\_G_{5} = 0.0\\\\\n",
       " & Q\\_G_{6} = 0.0\\\\\n",
       " & Q\\_G_{7} = 0.0\\\\\n",
       " & Q\\_G_{8} = 0.0\\\\\n",
       " & Q\\_G_{9} = 0.0\\\\\n",
       " & Q\\_G_{10} = 0.0\\\\\n",
       " & Q\\_G_{11} = 0.0\\\\\n",
       " & Q\\_G_{12} = 0.0\\\\\n",
       " & Q\\_G_{13} = 0.0\\\\\n",
       " & Q\\_G_{14} = 0.0\\\\\n",
       " & Q\\_G_{15} = 0.0\\\\\n",
       " & Q\\_G_{16} = 0.0\\\\\n",
       " & Q\\_G_{17} = 0.0\\\\\n",
       " & Q\\_G_{18} = 0.0\\\\\n",
       " & Q\\_G_{19} = 0.0\\\\\n",
       " & Q\\_G_{20} = 0.0\\\\\n",
       " & Q\\_G_{21} = 0.0\\\\\n",
       " & Q\\_G_{22} = 0.0\\\\\n",
       " & Q\\_G_{23} = 0.0\\\\\n",
       " & S\\_G_{3} = 0.0\\\\\n",
       " & S\\_G_{4} = 0.0\\\\\n",
       " & S\\_G_{5} = 0.0\\\\\n",
       " & S\\_G_{6} = 0.0\\\\\n",
       " & S\\_G_{7} = 0.0\\\\\n",
       " & S\\_G_{8} = 0.0\\\\\n",
       " & S\\_G_{9} = 0.0\\\\\n",
       " & S\\_G_{10} = 0.0\\\\\n",
       " & S\\_G_{11} = 0.0\\\\\n",
       " & S\\_G_{12} = 0.0\\\\\n",
       " & S\\_G_{13} = 0.0\\\\\n",
       " & S\\_G_{14} = 0.0\\\\\n",
       " & S\\_G_{15} = 0.0\\\\\n",
       " & S\\_G_{16} = 0.0\\\\\n",
       " & S\\_G_{17} = 0.0\\\\\n",
       " & S\\_G_{18} = 0.0\\\\\n",
       " & S\\_G_{19} = 0.0\\\\\n",
       " & S\\_G_{20} = 0.0\\\\\n",
       " & S\\_G_{21} = 0.0\\\\\n",
       " & S\\_G_{22} = 0.0\\\\\n",
       " & S\\_G_{23} = 0.0\\\\\n",
       " & V\\_sqr_{1} \\geq 0.9409\\\\\n",
       " & V\\_sqr_{2} \\geq 0.9409\\\\\n",
       " & V\\_sqr_{3} \\geq 0.9409\\\\\n",
       " & V\\_sqr_{4} \\geq 0.9409\\\\\n",
       " & V\\_sqr_{5} \\geq 0.9409\\\\\n",
       " & V\\_sqr_{6} \\geq 0.9409\\\\\n",
       " & V\\_sqr_{7} \\geq 0.9409\\\\\n",
       " & V\\_sqr_{8} \\geq 0.9409\\\\\n",
       " & V\\_sqr_{9} \\geq 0.9409\\\\\n",
       " & V\\_sqr_{10} \\geq 0.9409\\\\\n",
       " & V\\_sqr_{11} \\geq 0.9409\\\\\n",
       " & V\\_sqr_{12} \\geq 0.9409\\\\\n",
       " & V\\_sqr_{13} \\geq 0.9409\\\\\n",
       " & V\\_sqr_{14} \\geq 0.9409\\\\\n",
       " & V\\_sqr_{15} \\geq 0.9409\\\\\n",
       " & V\\_sqr_{16} \\geq 0.9409\\\\\n",
       " & V\\_sqr_{17} \\geq 0.9409\\\\\n",
       " & V\\_sqr_{18} \\geq 0.9409\\\\\n",
       " & V\\_sqr_{19} \\geq 0.9409\\\\\n",
       " & V\\_sqr_{20} \\geq 0.9409\\\\\n",
       " & V\\_sqr_{21} \\geq 0.9409\\\\\n",
       " & V\\_sqr_{22} \\geq 0.9409\\\\\n",
       " & V\\_sqr_{23} \\geq 0.9409\\\\\n",
       " & P\\_G_{1} \\geq 0.0\\\\\n",
       " & P\\_G_{2} \\geq 0.0\\\\\n",
       " & I\\_sqr\\_k_{1,1} \\geq 0.0\\\\\n",
       " & I\\_sqr\\_k_{2,1} \\geq 0.0\\\\\n",
       " & I\\_sqr\\_k_{3,1} \\geq 0.0\\\\\n",
       " & I\\_sqr\\_k_{4,1} \\geq 0.0\\\\\n",
       " & I\\_sqr\\_k_{5,1} \\geq 0.0\\\\\n",
       " & I\\_sqr\\_k_{6,1} \\geq 0.0\\\\\n",
       " & I\\_sqr\\_k_{7,1} \\geq 0.0\\\\\n",
       " & I\\_sqr\\_k_{8,1} \\geq 0.0\\\\\n",
       " & I\\_sqr\\_k_{9,1} \\geq 0.0\\\\\n",
       " & I\\_sqr\\_k_{10,1} \\geq 0.0\\\\\n",
       " & I\\_sqr\\_k_{11,1} \\geq 0.0\\\\\n",
       " & I\\_sqr\\_k_{12,1} \\geq 0.0\\\\\n",
       " & I\\_sqr\\_k_{13,1} \\geq 0.0\\\\\n",
       " & I\\_sqr\\_k_{14,1} \\geq 0.0\\\\\n",
       " & I\\_sqr\\_k_{15,1} \\geq 0.0\\\\\n",
       " & I\\_sqr\\_k_{16,1} \\geq 0.0\\\\\n",
       " & I\\_sqr\\_k_{17,1} \\geq 0.0\\\\\n",
       " & I\\_sqr\\_k_{18,1} \\geq 0.0\\\\\n",
       " & I\\_sqr\\_k_{19,1} \\geq 0.0\\\\\n",
       " & I\\_sqr\\_k_{20,1} \\geq 0.0\\\\\n",
       " & I\\_sqr\\_k_{21,1} \\geq 0.0\\\\\n",
       " & I\\_sqr\\_k_{22,1} \\geq 0.0\\\\\n",
       " & I\\_sqr\\_k_{23,1} \\geq 0.0\\\\\n",
       " & I\\_sqr\\_k_{24,1} \\geq 0.0\\\\\n",
       " & I\\_sqr\\_k_{25,1} \\geq 0.0\\\\\n",
       " & I\\_sqr\\_k_{26,1} \\geq 0.0\\\\\n",
       " & I\\_sqr\\_k_{27,1} \\geq 0.0\\\\\n",
       " & I\\_sqr\\_k_{28,1} \\geq 0.0\\\\\n",
       " & I\\_sqr\\_k_{29,1} \\geq 0.0\\\\\n",
       " & I\\_sqr\\_k_{30,1} \\geq 0.0\\\\\n",
       " & I\\_sqr\\_k_{31,1} \\geq 0.0\\\\\n",
       " & I\\_sqr\\_k_{32,1} \\geq 0.0\\\\\n",
       " & I\\_sqr\\_k_{33,1} \\geq 0.0\\\\\n",
       " & I\\_sqr\\_k_{34,1} \\geq 0.0\\\\\n",
       " & I\\_sqr\\_k_{1,2} \\geq 0.0\\\\\n",
       " & I\\_sqr\\_k_{2,2} \\geq 0.0\\\\\n",
       " & I\\_sqr\\_k_{3,2} \\geq 0.0\\\\\n",
       " & I\\_sqr\\_k_{4,2} \\geq 0.0\\\\\n",
       " & I\\_sqr\\_k_{5,2} \\geq 0.0\\\\\n",
       " & I\\_sqr\\_k_{6,2} \\geq 0.0\\\\\n",
       " & I\\_sqr\\_k_{7,2} \\geq 0.0\\\\\n",
       " & I\\_sqr\\_k_{8,2} \\geq 0.0\\\\\n",
       " & I\\_sqr\\_k_{9,2} \\geq 0.0\\\\\n",
       " & I\\_sqr\\_k_{10,2} \\geq 0.0\\\\\n",
       " & I\\_sqr\\_k_{11,2} \\geq 0.0\\\\\n",
       " & I\\_sqr\\_k_{12,2} \\geq 0.0\\\\\n",
       " & I\\_sqr\\_k_{13,2} \\geq 0.0\\\\\n",
       " & I\\_sqr\\_k_{14,2} \\geq 0.0\\\\\n",
       " & I\\_sqr\\_k_{15,2} \\geq 0.0\\\\\n",
       " & I\\_sqr\\_k_{16,2} \\geq 0.0\\\\\n",
       " & I\\_sqr\\_k_{17,2} \\geq 0.0\\\\\n",
       " & I\\_sqr\\_k_{18,2} \\geq 0.0\\\\\n",
       " & I\\_sqr\\_k_{19,2} \\geq 0.0\\\\\n",
       " & I\\_sqr\\_k_{20,2} \\geq 0.0\\\\\n",
       " & I\\_sqr\\_k_{21,2} \\geq 0.0\\\\\n",
       " & I\\_sqr\\_k_{22,2} \\geq 0.0\\\\\n",
       " & I\\_sqr\\_k_{23,2} \\geq 0.0\\\\\n",
       " & I\\_sqr\\_k_{24,2} \\geq 0.0\\\\\n",
       " & I\\_sqr\\_k_{25,2} \\geq 0.0\\\\\n",
       " & I\\_sqr\\_k_{26,2} \\geq 0.0\\\\\n",
       " & I\\_sqr\\_k_{27,2} \\geq 0.0\\\\\n",
       " & I\\_sqr\\_k_{28,2} \\geq 0.0\\\\\n",
       " & I\\_sqr\\_k_{29,2} \\geq 0.0\\\\\n",
       " & I\\_sqr\\_k_{30,2} \\geq 0.0\\\\\n",
       " & I\\_sqr\\_k_{31,2} \\geq 0.0\\\\\n",
       " & I\\_sqr\\_k_{32,2} \\geq 0.0\\\\\n",
       " & I\\_sqr\\_k_{33,2} \\geq 0.0\\\\\n",
       " & I\\_sqr\\_k_{34,2} \\geq 0.0\\\\\n",
       " & V\\_sqr_{1} \\leq 1.0609\\\\\n",
       " & V\\_sqr_{2} \\leq 1.0609\\\\\n",
       " & V\\_sqr_{3} \\leq 1.0609\\\\\n",
       " & V\\_sqr_{4} \\leq 1.0609\\\\\n",
       " & V\\_sqr_{5} \\leq 1.0609\\\\\n",
       " & V\\_sqr_{6} \\leq 1.0609\\\\\n",
       " & V\\_sqr_{7} \\leq 1.0609\\\\\n",
       " & V\\_sqr_{8} \\leq 1.0609\\\\\n",
       " & V\\_sqr_{9} \\leq 1.0609\\\\\n",
       " & V\\_sqr_{10} \\leq 1.0609\\\\\n",
       " & V\\_sqr_{11} \\leq 1.0609\\\\\n",
       " & V\\_sqr_{12} \\leq 1.0609\\\\\n",
       " & V\\_sqr_{13} \\leq 1.0609\\\\\n",
       " & V\\_sqr_{14} \\leq 1.0609\\\\\n",
       " & V\\_sqr_{15} \\leq 1.0609\\\\\n",
       " & V\\_sqr_{16} \\leq 1.0609\\\\\n",
       " & V\\_sqr_{17} \\leq 1.0609\\\\\n",
       " & V\\_sqr_{18} \\leq 1.0609\\\\\n",
       " & V\\_sqr_{19} \\leq 1.0609\\\\\n",
       " & V\\_sqr_{20} \\leq 1.0609\\\\\n",
       " & V\\_sqr_{21} \\leq 1.0609\\\\\n",
       " & V\\_sqr_{22} \\leq 1.0609\\\\\n",
       " & V\\_sqr_{23} \\leq 1.0609\\\\\n",
       " & beta_{1} \\in \\{0, 1\\}\\\\\n",
       " & beta_{2} \\in \\{0, 1\\}\\\\\n",
       "\\end{aligned} $$"
      ]
     },
     "metadata": {},
     "output_type": "display_data"
    }
   ],
   "source": [
    "model = build_model(network_dict, obj_fct_dict)\n",
    "print(model)"
   ]
  },
  {
   "cell_type": "code",
   "execution_count": null,
   "metadata": {},
   "outputs": [],
   "source": []
  }
 ],
 "metadata": {
  "kernelspec": {
   "display_name": "Julia 1.8.2",
   "language": "julia",
   "name": "julia-1.8"
  },
  "language_info": {
   "file_extension": ".jl",
   "mimetype": "application/julia",
   "name": "julia",
   "version": "1.8.2"
  },
  "orig_nbformat": 4
 },
 "nbformat": 4,
 "nbformat_minor": 2
}
