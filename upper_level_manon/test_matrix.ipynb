{
 "cells": [
  {
   "attachments": {},
   "cell_type": "markdown",
   "metadata": {},
   "source": [
    "### Packages"
   ]
  },
  {
   "cell_type": "code",
   "execution_count": 22,
   "metadata": {},
   "outputs": [
    {
     "data": {
      "text/plain": [
       "add_var_to_XLSX (generic function with 1 method)"
      ]
     },
     "metadata": {},
     "output_type": "display_data"
    }
   ],
   "source": [
    "# --- Packages ---\n",
    "#\n",
    "import XLSX\n",
    "import DataFrames\n",
    "import Dates\n",
    "\n",
    "using JuMP, Gurobi\n",
    "using ArgParse, Random\n",
    "\n",
    "include(\"parameters.jl\")\n",
    "include(\"post_process.jl\")"
   ]
  },
  {
   "cell_type": "code",
   "execution_count": 23,
   "metadata": {},
   "outputs": [
    {
     "name": "stdout",
     "output_type": "stream",
     "text": [
      "Set parameter Username\n",
      "Academic license - for non-commercial use only - expires 2023-11-10\n",
      "Set parameter TimeLimit to value 100\n",
      "Set parameter Presolve to value 0\n",
      "Set parameter TimeLimit to value 100\n",
      "Set parameter Presolve to value 0\n",
      "Gurobi Optimizer version 10.0.0 build v10.0.0rc2 (mac64[arm])\n",
      "\n",
      "CPU model: Apple M1 Pro\n",
      "Thread count: 10 physical cores, 10 logical processors, using up to 10 threads\n",
      "\n",
      "Optimize a model with 4854 rows, 3662 columns and 14129 nonzeros\n",
      "Model fingerprint: 0xae691d1d\n",
      "Model has 264 quadratic constraints\n",
      "Variable types: 3650 continuous, 12 integer (12 binary)\n",
      "Coefficient statistics:\n",
      "  Matrix range     [2e-04, 4e+07]\n",
      "  QMatrix range    [1e+00, 1e+00]\n",
      "  Objective range  [1e+03, 7e+05]\n",
      "  Bounds range     [0e+00, 0e+00]\n",
      "  RHS range        [1e-05, 2e+00]\n",
      "Variable types: 3650 continuous, 12 integer (12 binary)\n",
      "\n",
      "Root relaxation: objective 2.000000e+03, 1872 iterations, 0.02 seconds (0.02 work units)\n",
      "\n",
      "    Nodes    |    Current Node    |     Objective Bounds      |     Work\n",
      " Expl Unexpl |  Obj  Depth IntInf | Incumbent    BestBd   Gap | It/Node Time\n",
      "\n",
      "     0     0 2000.00000    0    -          - 2000.00000      -     -    0s\n",
      "     0     0 2000.00802    0    4          - 2000.00802      -     -    0s\n",
      "     0     0 2000.00874    0    4          - 2000.00874      -     -    0s\n",
      "     0     0 2000.01016    0    3          - 2000.01016      -     -    0s\n",
      "H    0     0                    5904.7857152 2000.01016  66.1%     -    0s\n",
      "     0     0 2414.21558    0    - 5904.78572 2414.21558  59.1%     -    0s\n",
      "*    0     0               0    4504.7857143 4504.78571  0.00%     -    0s\n",
      "\n",
      "Cutting planes:\n",
      "  Implied bound: 62\n",
      "  Relax-and-lift: 12\n",
      "\n",
      "Explored 1 nodes (2926 simplex iterations) in 0.16 seconds (0.17 work units)\n",
      "Thread count was 10 (of 10 available processors)\n",
      "\n",
      "Solution count 2: 4504.79 5904.79 \n",
      "\n",
      "Optimal solution found (tolerance 1.00e-04)\n",
      "Best objective 4.504785714259e+03, best bound 4.504785714259e+03, gap 0.0000%\n",
      "\n",
      "User-callback calls 94, time in user-callback 0.00 sec\n",
      "[\"Q_G\", \"P_G\", \"P_cond_forward\", \"P_losses\", \"x\", \"I_squared\", \"V_squared\", \"Q_cond_forward\", \"Q_cond_backward\", \"X_ij_im\", \"X_i_ij\", \"alpha\", \"S_allocated\", \"X_ij_re\", \"S_G\", \"P_cond_backward\"]\n"
     ]
    },
    {
     "data": {
      "text/plain": [
       "(Dict{String, Array{Float64}}(\"Q_G\" => [2.7758118908668367e-5 0.0 0.0 0.0; 5.994291661915802e-5 0.0 0.0 0.0; … ; 0.0004305148193431839 0.0 0.0 0.0; 9.496038264549205e-5 0.0 0.0 0.0], \"P_G\" => [0.0 0.00013670000000000002 0.0 0.0; 0.00029519999999999997 0.0 0.0 0.0; … ; 0.0021201500000000003 0.0 0.0 0.0; 0.00046765 0.0 0.0 0.0], \"P_cond_forward\" => [1.0676200629674028e-5 0.00013670001538912402 -0.0012159288003772417; 0.00027214503443114257 -6.821210263296962e-13 0.0013506714851700963; … ; 0.0021201500269967255 0.0 0.0028681954834155476; 0.00046765 -6.821210263296962e-13 0.001501945484733369;;; 0.0 -1.5389124002895826e-11 0.0; -5.4569682106375694e-12 -3.637978807091713e-12 7.475731308659306e-5; … ; -2.699672473419068e-11 0.0 0.0; 0.0 0.0 0.0;;; -1.0676200629674025e-5 0.0 0.0; 2.305497102582561e-5 4.320099833421409e-12 0.0; … ; 0.0 0.0 -1.6370904631912708e-11; 0.0 0.0 -1.7280399333685637e-11], \"P_losses\" => [0.0, 0.0, -7.275957614183426e-12, 0.0, 0.0, 0.0, -7.275957614183426e-12, 0.0, 0.0, 0.0  …  0.0, 0.0, 0.0, 0.0, 0.0, 0.0, 0.0, 0.0, 0.0, 0.0], \"x\" => [1.0, 0.0, 1.0], \"I_squared\" => [2.016399999964051 0.0 -2.016400001011789; -2.0163999958895147 0.0 2.016399999964051; … ; -2.0164000019431114 0.0 2.016399999964051; -2.0164000005461276 0.0 2.016400001011789;;; 0.0 0.0 0.0; 0.0 0.0 0.0; … ; 0.0 0.0 0.0; 0.0 0.0 0.0;;; 0.0 0.0 0.0; 0.0 0.0 0.0; … ; 0.0 0.0 0.0; 0.0 0.0 0.0], \"V_squared\" => [0.9024999999999999 0.9024999999999999 0.902500831270228 0.902501572676869; 0.9025012043632208 0.9025 0.9025 0.9024990829343229; … ; 0.9025065573277907 0.9025 0.9025029186112264 0.9024999999999999; 0.902502579497524 0.9025 0.9025011182930309 0.9024999999999999], \"Q_cond_forward\" => [-2.7284841053187847e-12 -2.7758084797824267e-5 -0.0001514007893206326; 5.994294724587235e-5 0.0 0.00016736119999904986; … ; 0.0004305148193431839 0.0 0.00048690780383253696; 9.496038264549205e-5 9.094947017729282e-13 0.0002094789051625412;;; 0.0 2.7758084797824267e-5 0.0; 5.994289404043229e-5 1.1232259566895663e-11 2.65803782895091e-5; … ; 0.0 0.0 0.0; 0.0 0.0 0.0;;; 2.7758121637152473e-5 0.0 0.0; -5.994292466714662e-5 -1.1232265118010787e-11 0.0; … ; 0.0 0.0 4.18367562815547e-11; 0.0 -9.094947017729282e-13 4.547473508864641e-11], \"Q_cond_backward\" => [0.00016736120275595567 2.7758084797824267e-5 -1.5960410725832725e-5; -0.00022730414688965084 0.0 -0.0; … ; -0.000597876019440946 0.0 -0.0003195466037766437; -0.000262321582724212 0.0 -4.211770507822621e-5;;; 0.0 -2.7758084797824267e-5 0.0; -5.994289404043229e-5 -1.0231815394945443e-11 -2.65803782895091e-5; … ; 0.0 0.0 0.0; 0.0 0.0 0.0;;; -2.775812163235969e-5 0.0 0.0; 5.99429245085048e-5 1.1368683772161603e-11 0.0; … ; 0.0 0.0 -4.18367562815547e-11; 0.0 0.0 -4.547473508864641e-11], \"X_ij_im\" => [8.861264015126613e-10 4.124807241948081e-8 -3.72278368598461e-9; -1.589533427451273e-8 0.0 4.65984287267851e-9; … ; -1.0041806177759589e-7 0.0 -7.453458493076525e-8; -2.2149615658405893e-8 0.0 -9.823981888114495e-9;;; 0.0 -8.832570244643456e-9 0.0; -1.3487151589997026e-8 -3.6637359812630166e-15 0.0; … ; -2.1649348980190553e-15 0.0 0.0; 0.0 0.0 0.0;;; -6.627785376078776e-9 0.0 0.0; 1.431252599770616e-8 3.774758283725532e-15 0.0; … ; 0.0 0.0 -9.992007221626409e-15; 0.0 0.0 -1.0880185641326534e-14]…), Dict(\"Q_G\" => [\"time\", \"node\"], \"P_G\" => [\"time\", \"node\"], \"X_i_ij\" => [\"time\", \"node\"], \"P_cond_forward\" => [\"time\", \"line\", \"conductor\"], \"alpha\" => [\"line\", \"conductor\"], \"P_losses\" => [\"time\"], \"x\" => [\"line\"], \"I_squared\" => [\"time\", \"line\", \"conductor\"], \"S_allocated\" => [\"node\"], \"X_ij_re\" => [\"time\", \"line\", \"conductor\"]…))"
      ]
     },
     "metadata": {},
     "output_type": "display_data"
    }
   ],
   "source": [
    "# --- Run time-dependent formulation ---\n",
    "#\n",
    "include(\"DNEP_time_formulation.jl\")\n",
    "\n",
    "sets  = (N, Ns, Ns_init, K, L, L_init, Y, T, Omega_sending, Omega_receiving)\n",
    "costs = (sub_expan_cost, sub_install_cost, line_cost, losses_cost, DSO_INTEREST_RATE)\n",
    "substation_param = (S_rating_init, S_rating_max)\n",
    "conductor_param  = (max_current, conductance, susceptance)\n",
    "demand           = (load_profiles, tan_phi)\n",
    "     \n",
    "var_values, var_sets = time_dependent_formulation(sets, costs, substation_param, conductor_param, demand, delta_t)"
   ]
  },
  {
   "cell_type": "code",
   "execution_count": 14,
   "metadata": {},
   "outputs": [
    {
     "name": "stdout",
     "output_type": "stream",
     "text": [
      "(24, 3, 3)\n"
     ]
    }
   ],
   "source": [
    "println(size(var_values[\"P_cond_forward\"]))"
   ]
  },
  {
   "cell_type": "code",
   "execution_count": 24,
   "metadata": {},
   "outputs": [
    {
     "name": "stdout",
     "output_type": "stream",
     "text": [
      "(24, 3)\n",
      "\u001b[1m24×5 DataFrame\u001b[0m\n",
      "\u001b[1m Row \u001b[0m│\u001b[1m date       \u001b[0m\u001b[1m time     \u001b[0m\u001b[1m line_1      \u001b[0m\u001b[1m line_2       \u001b[0m\u001b[1m line_3       \u001b[0m\n",
      "     │\u001b[90m Any        \u001b[0m\u001b[90m Any      \u001b[0m\u001b[90m Any         \u001b[0m\u001b[90m Any          \u001b[0m\u001b[90m Any          \u001b[0m\n",
      "─────┼───────────────────────────────────────────────────────────────\n",
      "   1 │ 04-04-2023  00:00:00  0.00129453   -0.0001367    -7.86e-5\n",
      "   2 │ 04-04-2023  01:00:00  -0.00158973  -9.09495e-13  -0.0001309\n",
      "   3 │ 04-04-2023  02:00:00  -0.00129453  -0.00032165   -0.00014825\n",
      "   4 │ 04-04-2023  03:00:00  0.00109595   0.0           -8.285e-5\n",
      "   5 │ 04-04-2023  04:00:00  0.000978229  -9.09495e-13  -0.0001429\n",
      "   6 │ 04-04-2023  05:00:00  -0.00148528  5.68434e-14   -0.00014175\n",
      "   7 │ 04-04-2023  06:00:00  -0.00129453  -0.000354617  -0.00021405\n",
      "   8 │ 04-04-2023  07:00:00  0.000436029  0.0           -0.000449267\n",
      "   9 │ 04-04-2023  08:00:00  0.000454179  -9.09495e-13  -0.0002575\n",
      "  10 │ 04-04-2023  09:00:00  -0.00303798  5.68434e-14   -0.0013445\n",
      "  11 │ 04-04-2023  10:00:00  -0.00129453  -0.000428067  -9.3e-5\n",
      "  12 │ 04-04-2023  11:00:00  0.000929095  -9.09495e-13  -0.000132\n",
      "  13 │ 04-04-2023  12:00:00  -2.44379e-5  -1.98952e-13  -8.4e-5\n",
      "  14 │ 04-04-2023  13:00:00  0.00129453   -0.0003545    -0.000158\n",
      "  15 │ 04-04-2023  14:00:00  0.000794895  -9.09495e-13  -0.000337767\n",
      "  16 │ 04-04-2023  15:00:00  -0.00255303  0.0           -0.00103975\n",
      "  17 │ 04-04-2023  16:00:00  -0.00221217  -1.13687e-13  -0.00240207\n",
      "  18 │ 04-04-2023  17:00:00  -0.00210811  2.36469e-11   -0.000132\n",
      "  19 │ 04-04-2023  18:00:00  0.000537012  -9.09495e-13  -0.00057185\n",
      "  20 │ 04-04-2023  19:00:00  -0.00335643  0.0           -0.00179592\n",
      "  21 │ 04-04-2023  20:00:00  0.000298995  -5.11591e-13  -0.000559367\n",
      "  22 │ 04-04-2023  21:00:00  -0.00344751  0.0           -0.001432\n",
      "  23 │ 04-04-2023  22:00:00  -0.00341468  0.0           -0.00157367\n",
      "  24 │ 04-04-2023  23:00:00  -0.00176218  0.0           -0.000207417"
     ]
    },
    {
     "name": "stdout",
     "output_type": "stream",
     "text": [
      "\n"
     ]
    }
   ],
   "source": [
    "# --- Get all variables from time-depent model ---\n",
    "#\n",
    "var = var_values[\"X_i_ij\"]\n",
    "\n",
    "\n",
    "start_date = DateTime(today() + Day(1))\n",
    "end_date   = DateTime(start_date + Day(1))\n",
    "XLSX_PATH  = \"output.xlsx\"\n",
    "# period covered\n",
    "date_range = start_date:Minute(GRANULARITY*period):(end_date-Second(1))\n",
    "for (key, value) in var_values\n",
    "    if ndims(value) <= 2\n",
    "        add_var_to_XLSX(XLSX_PATH, value, key, var_sets[key], date_range)\n",
    "\n",
    "    elseif ndims(value) == 3\n",
    "        processed_var = process3D_variable(value)\n",
    "        if key == \"P_cond_backward\"\n",
    "            println(size(processed_var))\n",
    "        end\n",
    "        add_var_to_XLSX(XLSX_PATH, processed_var, key, var_sets[key], date_range)\n",
    "\n",
    "    elseif ndims(value) == 4\n",
    "        X_i_ij = process_X_i_ij(value, Omega_receiving, Omega_sending)\n",
    "        add_var_to_XLSX(XLSX_PATH, X_i_ij, \"X_i_ij\", var_sets[key], date_range)\n",
    "    end\n",
    "end"
   ]
  },
  {
   "cell_type": "code",
   "execution_count": 5,
   "metadata": {},
   "outputs": [
    {
     "name": "stdout",
     "output_type": "stream",
     "text": [
      "2023-03-29T00:00:00\n"
     ]
    }
   ],
   "source": [
    "# user enters the simulation data\n",
    "start_date = DateTime(today() + Day(1))\n",
    "end_date   = DateTime(start_date + Day(1))\n",
    "println(DateTime(today()))\n",
    "# period covered\n",
    "date_range = start_date:Minute(GRANULARITY*period):(end_date-Second(1))\n",
    "for (key, value) in var_values\n",
    "    if ndims(value) <= 2\n",
    "        add_var_to_XLSX(\"output.xlsx\", value, key, var_sets[key], date_range)\n",
    "\n",
    "    elseif ndims(value) == 3\n",
    "        processed_var = process3D_variable(value)\n",
    "        add_var_to_XLSX(\"output.xlsx\", processed_var, key, var_sets[key], date_range)\n",
    "\n",
    "    elseif ndims(value) == 4\n",
    "        # note sure this has many sense\n",
    "        X_i_ij, X_j_ij = process_X_i_ij(value)\n",
    "        add_var_to_XLSX(\"output.xlsx\", X_i_ij, \"X_i_ij\", var_sets[key], date_range)\n",
    "        add_var_to_XLSX(\"output.xlsx\", X_j_ij, \"X_j_ij\", var_sets[key], date_range)\n",
    "\n",
    "    end\n",
    "\n",
    "\n",
    "end"
   ]
  },
  {
   "cell_type": "code",
   "execution_count": null,
   "metadata": {},
   "outputs": [],
   "source": [
    "\n",
    "function process_3Dvariable(var::Array{Float64, 3})\n",
    "    # 1st dimension: T, 2nd dimension: L, 3rd dimension: K\n",
    "    T, L, ~ = size(var)\n",
    "    processed_var = Array{Float64}(undef, T, L)\n",
    "    # Trick to remove the kth dimension\n",
    "    for t in 1:T\n",
    "        processed_var[t, :] = sum(var[t, :, :], dims=2) \n",
    "    end    \n",
    "\n",
    "    return processed_var\n",
    "end\n",
    "\n",
    "function process_X_i_ij(var::Array{Float64, 4})\n",
    "    # 1st dim: T, 2nd dim: L, 3rd dim: K, 4th dim: N\n",
    "    T, L, K, N = size(var)\n",
    "    processed_var = Array{Float64}(undef, T, L, N)\n",
    "\n",
    "    for t in T, i in N   \n",
    "        processed_var[t,:,i] = sum(var[t, :, :, i],  dims=2)\n",
    "    end\n",
    "\n",
    "    X_i_ij = Array{Float64}(undef, T, L)\n",
    "    X_j_ij = Array{Float64}(undef, T, L)\n",
    "\n",
    "    for t in T, l in L\n",
    "        ifrom = line_ends[l][1]\n",
    "        ito = line_ends[l][2]\n",
    "        X_i_ij[t,l] = processed_var[t, l, ifrom]\n",
    "        X_j_ij[t,l] = processed_var[t, l, ito]\n",
    "    end\n",
    "\n",
    "    return X_i_ij, X_j_ij\n",
    "end"
   ]
  },
  {
   "cell_type": "code",
   "execution_count": null,
   "metadata": {},
   "outputs": [],
   "source": [
    "X_i_ij, X_j_ij = process_X_i_ij(var_dict[\"X_i_ij\"])\n",
    "processed_var = process_3Dvariable(var_dict[\"P_cond_forward\"])\n"
   ]
  },
  {
   "cell_type": "code",
   "execution_count": null,
   "metadata": {},
   "outputs": [],
   "source": [
    "# --- Function that adds a variable to an XLSX file ---\n",
    "# 2 assumtions for this function to work:\n",
    "# var must be either a scalar, or a Vector type or an Array of dimension 2\n",
    "function add_var_to_XLSX(XLSX_PATH::String, var, var_name::String, dimensions::Vector{String}, date_range::StepRange{DateTime, Minute})\n",
    "    # First we need to check if the XLSX already exists\n",
    "    nb_dim = ndims(var)\n",
    "    isfile(XLSX_PATH) ? mode = \"rw\" : mode = \"w\"\n",
    "\n",
    "    XLSX.openxlsx(XLSX_PATH, mode = mode) do xf\n",
    "        # Mode = \"w\" only when the file must be created\n",
    "        mode == \"w\" && XLSX.rename!(xf[1], var_name)\n",
    "        mode == \"rw\" && !XLSX.hassheet(xf, var_name) && XLSX.addsheet!(xf, var_name)\n",
    "\n",
    "        sheet = xf[var_name]\n",
    "\n",
    "        if nb_dim  == 0\n",
    "            column_names = [var_name]\n",
    "            data = reshape([var], (1,:))\n",
    "            \n",
    "        elseif nb_dim == 1 || nb_dim == 2\n",
    "            # this only works if we make the assumption that the type can be vextor, matrix or array \n",
    "            nb_dim == 1 ? last_col = var_name : last_col=[dimensions[2] * \"_$i\" for i in 1:size(var)[2]]\n",
    "            if dimensions[1] == \"time\"\n",
    "                dates = Dates.format.(Date.(date_range), \"dd-mm-yyyy\")\n",
    "                times = Dates.format.(Time.(date_range), \"HH:MM:SS\")\n",
    "                column_names = [\"date\"; \"time\"; last_col]\n",
    "                data = hcat(dates, times, var)\n",
    "            else\n",
    "                column_names = [dimensions[1]; last_col] \n",
    "                data = hcat(1:size(var)[1], var)\n",
    "            end\n",
    "        end\n",
    "        df=DataFrame(data, column_names)\n",
    "        XLSX.writetable!(sheet, df)\n",
    "    end\n",
    "end"
   ]
  },
  {
   "cell_type": "code",
   "execution_count": null,
   "metadata": {},
   "outputs": [],
   "source": [
    "# --- Testing the function : add_var_to_XLSX---\n",
    "# Idea: add the units\n",
    "var = [1, 3, 4, 5]\n",
    "var_name = \"b\"\n",
    "dimensions = [\"line\"]\n",
    "\n",
    "# user enters the simulation data\n",
    "start_date = DateTime(today() + Day(1))\n",
    "end_date   = DateTime(start_date + Day(1))\n",
    "println(DateTime(today()))\n",
    "# period covered\n",
    "data_range = start_date:Minute(GRANULARITY*period):(end_date-Second(1))\n",
    "println(typeof(data_range))\n",
    "add_var_to_XLSX(\"output.xlsx\", var, var_name, dimensions, data_range)"
   ]
  },
  {
   "attachments": {},
   "cell_type": "markdown",
   "metadata": {},
   "source": [
    "### Parameters"
   ]
  },
  {
   "cell_type": "code",
   "execution_count": null,
   "metadata": {},
   "outputs": [],
   "source": [
    "# ------ RANDOM TABLES --------\n",
    "rng  = 1:10\n",
    "\n",
    "X_ij_re = rand(rng, (nb_daily_steps, L_size, K_size))\n",
    "X_ij_im = rand(rng, (nb_daily_steps, L_size, K_size))\n",
    "X_i_ij  = rand(rng, (nb_daily_steps, L_size, K_size, N_size))\n",
    " \n",
    "alpha = Matrix{Int64}(undef, L_size, K_size)\n",
    "\n",
    "Random.seed!(3)\n",
    "for l in L\n",
    "    count_1 = 0\n",
    "    for k in K\n",
    "        if rand([0 1]) == 1 && count_1 == 0\n",
    "            count_1 += 1\n",
    "            alpha[l, k] = 1\n",
    "        else\n",
    "            alpha[l, k] = 0\n",
    "        end\n",
    "    end\n",
    "end\n",
    "\n",
    "println(alpha)\n",
    "\n",
    "for t in T\n",
    "    X_ij_re[t,:,:] .*= alpha\n",
    "end\n",
    "\n",
    "println(X_ij_re[1,:,:])\n",
    "X_ij_re_flat = Array{Float64}(undef, nb_daily_steps, L_size)\n",
    "# Trick to remove the kth dimension\n",
    "for t in T\n",
    "    X_ij_re_flat[t, :] = sum(X_ij_re[t,:,:], dims=2) \n",
    "end\n",
    "\n",
    "println(X_ij_re_flat[1,:])\n",
    "\n",
    "# Remove the kth dimension of the table "
   ]
  },
  {
   "cell_type": "code",
   "execution_count": null,
   "metadata": {},
   "outputs": [],
   "source": [
    "\n"
   ]
  }
 ],
 "metadata": {
  "kernelspec": {
   "display_name": "Julia 1.8.2",
   "language": "julia",
   "name": "julia-1.8"
  },
  "language_info": {
   "file_extension": ".jl",
   "mimetype": "application/julia",
   "name": "julia",
   "version": "1.8.2"
  },
  "orig_nbformat": 4
 },
 "nbformat": 4,
 "nbformat_minor": 2
}
