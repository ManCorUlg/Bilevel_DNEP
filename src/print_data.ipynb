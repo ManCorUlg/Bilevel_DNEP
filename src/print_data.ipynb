{
 "cells": [
  {
   "cell_type": "code",
   "execution_count": 3,
   "metadata": {},
   "outputs": [
    {
     "ename": "LoadError",
     "evalue": "ArgumentError: Package LatexStrings not found in current path.\n- Run `import Pkg; Pkg.add(\"LatexStrings\")` to install the LatexStrings package.",
     "output_type": "error",
     "traceback": [
      "ArgumentError: Package LatexStrings not found in current path.\n- Run `import Pkg; Pkg.add(\"LatexStrings\")` to install the LatexStrings package.",
      "",
      "Stacktrace:",
      " [1] macro expansion",
      "   @ ./loading.jl:1630 [inlined]",
      " [2] macro expansion",
      "   @ ./lock.jl:267 [inlined]",
      " [3] require(into::Module, mod::Symbol)",
      "   @ Base ./loading.jl:1611"
     ]
    }
   ],
   "source": [
    "# --- Import packages ---\n",
    "import Plots \n",
    "using LatexStrings"
   ]
  },
  {
   "cell_type": "code",
   "execution_count": null,
   "metadata": {},
   "outputs": [],
   "source": [
    "# --- Print raw profiles from Manchester ---"
   ]
  },
  {
   "cell_type": "code",
   "execution_count": null,
   "metadata": {},
   "outputs": [],
   "source": [
    "# --- Print raw network from Nahman and small toy example ---"
   ]
  }
 ],
 "metadata": {
  "kernelspec": {
   "display_name": "Bilevel_DNEP 1.9.1",
   "language": "julia",
   "name": "bilevel_dnep-1.9"
  },
  "language_info": {
   "file_extension": ".jl",
   "mimetype": "application/julia",
   "name": "julia",
   "version": "1.9.1"
  },
  "orig_nbformat": 4
 },
 "nbformat": 4,
 "nbformat_minor": 2
}
