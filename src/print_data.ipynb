{
 "cells": [
  {
   "cell_type": "code",
   "execution_count": null,
   "metadata": {},
   "outputs": [],
   "source": [
    "# --- Import packages ---\n",
    "include(\"./UpperLevel/UpperLevel.jl\")\n",
    "import Plots, XLSX \n",
    "# using ColorSchemes\n",
    "# using LaTeXStrings\n",
    "using .UpperLevel\n",
    "using PGFPlotsX\n",
    "using ColorBrewer"
   ]
  },
  {
   "cell_type": "code",
   "execution_count": 69,
   "metadata": {},
   "outputs": [
    {
     "data": {
      "text/plain": [
       "print_profiles (generic function with 1 method)"
      ]
     },
     "execution_count": 69,
     "metadata": {},
     "output_type": "execute_result"
    }
   ],
   "source": [
    "function print_profiles(profiles, thesis_dir, filename; ylabel=\"Power Consumption [kW]\", pgfplot=true)\n",
    "\n",
    "    colors = [\"#096F7B\", \"#FF8D3E\",\"#842600\"]\n",
    "    dim = size(profiles)\n",
    "\n",
    "    print(dim)\n",
    "    #print(profiles)\n",
    "    # x-axis \n",
    "    time = vec(1:dim[1]) \n",
    "\n",
    "    # figure\n",
    "    pgfplot && Plots.pgfplotsx()\n",
    "    fig = Plots.plot(   xlabel = \"Time [min.]\", \n",
    "                        ylabel=ylabel, tex_output_standalone = false,\n",
    "                        legend = :topleft)\n",
    "    if dim[2] == 1\n",
    "        Plots.plot!(    fig, \n",
    "                        time, \n",
    "                        profiles[:, 1],  \n",
    "                        color=colors[1],\n",
    "                        label=\"\")\n",
    "        Plots.ylims!(fig, -0.01, 2.5)\n",
    "    else\n",
    "        for i in 1:dim[2]\n",
    "            Plots.plot!(    fig, \n",
    "                            time, \n",
    "                            profiles[:, i], \n",
    "                            label=\"Profile $i\", \n",
    "                            color=colors[i])\n",
    "        end\n",
    "        Plots.ylims!(fig, -0.01, 6)\n",
    "    end\n",
    "    Plots.xlims!(fig, 0, 300)\n",
    "   \n",
    "    pgfplot && Plots.savefig(fig, joinpath(thesis_dir, \"$filename.tikz\"))\n",
    "    Plots.savefig(fig, joinpath(thesis_dir, \"$filename.pdf\"))\n",
    "end"
   ]
  },
  {
   "cell_type": "code",
   "execution_count": 41,
   "metadata": {},
   "outputs": [
    {
     "data": {
      "text/plain": [
       "\"/Users/manoncornet/Documents/University/TFE/Bilevel_DNEP/network_models\""
      ]
     },
     "execution_count": 41,
     "metadata": {},
     "output_type": "execute_result"
    }
   ],
   "source": [
    "# -- Definition of the paths --\n",
    "thesis_dir = \"/Users/manoncornet/Documents/University/TFE/ThesisWriting/Master_Thesis/figures\" \n",
    "root_dir = splitdir(@__DIR__)[1]\n",
    "profiles_data_dir = joinpath(root_dir, \"ManchesterData\", \"LCT_profiles\")\n",
    "network_data_dir = joinpath(root_dir, \"network_models\")"
   ]
  },
  {
   "cell_type": "code",
   "execution_count": 70,
   "metadata": {},
   "outputs": [
    {
     "name": "stdout",
     "output_type": "stream",
     "text": [
      "(288, 3)(288, 1)"
     ]
    },
    {
     "data": {
      "text/plain": [
       "\"/Users/manoncornet/Documents/University/TFE/ThesisWriting/Master_Thesis/figures/sum_summer_loads.pdf\""
      ]
     },
     "execution_count": 70,
     "metadata": {},
     "output_type": "execute_result"
    }
   ],
   "source": [
    "# --- Print summer raw load profiles from Manchester ---\n",
    "SUMMER_LOAD_PATH = joinpath(profiles_data_dir, \"Summer_Load_Profiles.xlsx\")\n",
    "\n",
    "# RAW\n",
    "summer_load, ~ = build_daily_load_profiles(SUMMER_LOAD_PATH, 3, seed=10)\n",
    "print_profiles(summer_load, thesis_dir, \"summer_load_profiles\", pgfplot=true)\n",
    "\n",
    "# SUM\n",
    "all_summer_loads, ~ = build_daily_load_profiles(SUMMER_LOAD_PATH, 100)\n",
    "print_profiles(sum(all_summer_loads, dims=2)./100, thesis_dir, \"sum_summer_loads\", pgfplot=true)"
   ]
  },
  {
   "cell_type": "code",
   "execution_count": 71,
   "metadata": {},
   "outputs": [
    {
     "name": "stdout",
     "output_type": "stream",
     "text": [
      "(288, 3)(288, 1)"
     ]
    },
    {
     "data": {
      "text/plain": [
       "\"/Users/manoncornet/Documents/University/TFE/ThesisWriting/Master_Thesis/figures/sum_winter_loads.pdf\""
      ]
     },
     "execution_count": 71,
     "metadata": {},
     "output_type": "execute_result"
    }
   ],
   "source": [
    "# --- Print winter raw load profiles from Manchester ---\n",
    "WINTER_LOAD_PATH = joinpath(profiles_data_dir, \"Winter_Load_Profiles.xlsx\")\n",
    "\n",
    "# RAW\n",
    "winter_load, ~ = build_daily_load_profiles(WINTER_LOAD_PATH, 3, seed=10)\n",
    "print_profiles(winter_load, thesis_dir, \"winter_load_profiles\", pgfplot=true)\n",
    "\n",
    "# SUM\n",
    "all_winter_loads, ~ = build_daily_load_profiles(WINTER_LOAD_PATH, 100)\n",
    "print_profiles(sum(all_winter_loads, dims=2)./100, thesis_dir, \"sum_winter_loads\", pgfplot=true)"
   ]
  },
  {
   "cell_type": "code",
   "execution_count": 72,
   "metadata": {},
   "outputs": [
    {
     "name": "stdout",
     "output_type": "stream",
     "text": [
      "(288, 3)(288, 1)"
     ]
    },
    {
     "data": {
      "text/plain": [
       "\"/Users/manoncornet/Documents/University/TFE/ThesisWriting/Master_Thesis/figures/sum_EV_profiles.pdf\""
      ]
     },
     "execution_count": 72,
     "metadata": {},
     "output_type": "execute_result"
    }
   ],
   "source": [
    "# --- Print EV raw profiles from Manchester ---\n",
    "EV_PATH  = joinpath(profiles_data_dir, \"Winter_EV_Profiles.xlsx\")\n",
    "\n",
    "# RAW\n",
    "EV_load, ~ = build_daily_load_profiles(EV_PATH, 3, seed=10)\n",
    "print_profiles(EV_load, thesis_dir, \"EV_profiles\", pgfplot=true)\n",
    "\n",
    "# SUM\n",
    "all_EV_loads, ~ = build_daily_load_profiles(EV_PATH, 100)\n",
    "print_profiles(sum(all_EV_loads, dims=2)./100, thesis_dir, \"sum_EV_profiles\", pgfplot=true)"
   ]
  },
  {
   "cell_type": "code",
   "execution_count": 73,
   "metadata": {},
   "outputs": [
    {
     "name": "stdout",
     "output_type": "stream",
     "text": [
      "(288, 3)(288, 1)"
     ]
    },
    {
     "data": {
      "text/plain": [
       "\"/Users/manoncornet/Documents/University/TFE/ThesisWriting/Master_Thesis/figures/sum_EHP_profiles.pdf\""
      ]
     },
     "execution_count": 73,
     "metadata": {},
     "output_type": "execute_result"
    }
   ],
   "source": [
    "# --- Print EHP raw profiles from Manchester ---\n",
    "EHP_PATH = joinpath(profiles_data_dir, \"Winter_EHP_Profiles.xlsx\")\n",
    "\n",
    "# RAW\n",
    "EHP_load, ~ = build_daily_load_profiles(EHP_PATH, 3, seed=10)\n",
    "print_profiles(EHP_load, thesis_dir, \"EHP_profiles\", pgfplot=true)\n",
    "\n",
    "# SUM\n",
    "all_EHP_loads, ~ = build_daily_load_profiles(EHP_PATH, 100)\n",
    "print_profiles(sum(all_EHP_loads, dims=2)./100, thesis_dir, \"sum_EHP_profiles\", pgfplot=true)"
   ]
  },
  {
   "cell_type": "code",
   "execution_count": null,
   "metadata": {},
   "outputs": [],
   "source": [
    "# --- Print raw network from Nahman and small toy example ---\n",
    "XLSX_FILE_PATH = joinpath(network_data_dir, \"network_Nahman_Peric_2S23H.xlsx\")"
   ]
  },
  {
   "cell_type": "code",
   "execution_count": null,
   "metadata": {},
   "outputs": [],
   "source": []
  }
 ],
 "metadata": {
  "kernelspec": {
   "display_name": "Bilevel_DNEP 1.9.1",
   "language": "julia",
   "name": "bilevel_dnep-1.9"
  },
  "language_info": {
   "file_extension": ".jl",
   "mimetype": "application/julia",
   "name": "julia",
   "version": "1.9.1"
  },
  "orig_nbformat": 4
 },
 "nbformat": 4,
 "nbformat_minor": 2
}
