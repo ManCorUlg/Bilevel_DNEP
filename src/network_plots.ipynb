{
 "cells": [
  {
   "cell_type": "code",
   "execution_count": 6,
   "metadata": {},
   "outputs": [],
   "source": [
    "# -- IMPORT --\n",
    "import json\n",
    "from pyvis.network import Network\n",
    "import networkx as nx"
   ]
  },
  {
   "cell_type": "code",
   "execution_count": 9,
   "metadata": {},
   "outputs": [
    {
     "name": "stdout",
     "output_type": "stream",
     "text": [
      "{'nodes': [{'id': 1, 'coord': {'x': 0, 'y': 0.1}}, {'id': 2, 'coord': {'x': 0, 'y': 0}}, {'id': 3, 'coord': {'x': 0.1, 'y': 0.1}}, {'id': 4, 'coord': {'x': 0.2, 'y': 0.1}}], 'edges': [{'id': 1, 'from_node': {'id': 1, 'coord': {'x': 0, 'y': 0.1}}, 'to_node': {'id': 3, 'coord': {'x': 0.1, 'y': 0.1}}}, {'id': 2, 'from_node': {'id': 2, 'coord': {'x': 0, 'y': 0}}, 'to_node': {'id': 3, 'coord': {'x': 0.1, 'y': 0.1}}}, {'id': 3, 'from_node': {'id': 3, 'coord': {'x': 0.1, 'y': 0.1}}, 'to_node': {'id': 4, 'coord': {'x': 0.2, 'y': 0.1}}}], 'sending_lines': {'4': [], '2': [2], '3': [3], '1': [1]}, 'receiving_lines': {'4': [3], '2': [], '3': [1, 2], '1': []}}\n"
     ]
    }
   ],
   "source": [
    "# -- FILE --\n",
    "f = open('network_topology.json')\n",
    "topology_data = json.load(f)\n",
    "f.close()\n",
    "\n",
    "f = open('network_data.json')\n",
    "network_data = json.load(f)\n",
    "f.close()\n",
    "\n",
    "print(topology_data)"
   ]
  },
  {
   "cell_type": "code",
   "execution_count": 35,
   "metadata": {},
   "outputs": [
    {
     "data": {
      "text/html": [
       "\n",
       "        <iframe\n",
       "            width=\"100%\"\n",
       "            height=\"750px\"\n",
       "            src=\"nodes.html\"\n",
       "            frameborder=\"0\"\n",
       "            allowfullscreen\n",
       "            \n",
       "        ></iframe>\n",
       "        "
      ],
      "text/plain": [
       "<IPython.lib.display.IFrame at 0x1170e5fc0>"
      ]
     },
     "execution_count": 35,
     "metadata": {},
     "output_type": "execute_result"
    }
   ],
   "source": [
    "# -- NETWORK --\n",
    "nb_nodes = len(topology_data['nodes'])\n",
    "nodes = range(1, nb_nodes)\n",
    "\n",
    "net = Network(height=\"750px\", width=\"100%\",notebook=True, cdn_resources='in_line')\n",
    "net.add_node(1, label= r\"$S_1$\")\n",
    "net.add_node(2, label= 'Cathy')\n",
    "net.add_node(3, label='Gros')\n",
    "\n",
    "net.show_buttons(filter_=['physics'])\n",
    "net.toggle_physics(True)\n",
    "net.show('nodes.html')"
   ]
  },
  {
   "cell_type": "code",
   "execution_count": 13,
   "metadata": {},
   "outputs": [
    {
     "name": "stdout",
     "output_type": "stream",
     "text": [
      "graph-tool version: 2.56\n"
     ]
    }
   ],
   "source": [
    "import graph_tool.all as gt\n",
    "import numpy as np\n",
    "from IPython.display import display\n",
    "%matplotlib inline\n",
    "print(\"graph-tool version: {}\".format(gt.__version__.split(' ')[0]))"
   ]
  },
  {
   "cell_type": "code",
   "execution_count": 15,
   "metadata": {},
   "outputs": [
    {
     "name": "stdout",
     "output_type": "stream",
     "text": [
      "[(0, 2), (1, 2), (2, 3)]\n"
     ]
    }
   ],
   "source": [
    "nb_nodes = len(topology_data['nodes'])\n",
    "nodes = range(1, nb_nodes)\n",
    "edges = [(int(e['from_node']['id'])-1, int(e['to_node']['id'])-1) for e in topology_data['edges']]\n",
    "print(edges)\n",
    "g = gt.Graph(g=nb_nodes, directed=False)\n",
    "g.add_edge_list(edges)\n",
    "\n",
    "v_x = g.new_vertex_property('double')\n",
    "v_y = g.new_vertex_property('double')\n",
    "v_name = g.new_vertex_property('string')\n",
    "\n",
    "\n",
    "g.vp['x'] = v_x \n",
    "g.vp['y'] = v_y\n",
    "g.vertex_properties['name'] = v_name\n",
    "\n",
    "#x\n",
    "SIZE     = 400\n",
    "V_SIZE   = SIZE / 2\n",
    "E_PWIDTH = V_SIZE / 4\n",
    "gt.graph_draw(g, \n",
    "            output_size= (SIZE, SIZE), \n",
    "            vertex_size= V_SIZE, \n",
    "            edge_pen_width = E_PWIDTH,\n",
    "            output_path = 'output.png')\n",
    "\n",
    "Ns = network_data['nb_substations']\n",
    "Nu = network_data['nb_loads']\n",
    "buses = network_data['buses']\n",
    "for (ns, nu) in zip(buses[:Ns], buses[(Ns+1):]):\n",
    "    vs = g.add_vertex()\n",
    "    vu = g.add_vertex()\n",
    "    v_name[vs] = f'S({int(ns['id']) + 1})'\n",
    "    v_name[vu] = f'U({int(nu['id']) + 1})'\n"
   ]
  },
  {
   "cell_type": "code",
   "execution_count": 17,
   "metadata": {},
   "outputs": [
    {
     "data": {
      "text/plain": [
       "[4]"
      ]
     },
     "execution_count": 17,
     "metadata": {},
     "output_type": "execute_result"
    }
   ],
   "source": [
    "a= [1,2,3,4]\n",
    "a[3:]"
   ]
  }
 ],
 "metadata": {
  "kernelspec": {
   "display_name": "Python 3",
   "language": "python",
   "name": "python3"
  },
  "language_info": {
   "codemirror_mode": {
    "name": "ipython",
    "version": 3
   },
   "file_extension": ".py",
   "mimetype": "text/x-python",
   "name": "python",
   "nbconvert_exporter": "python",
   "pygments_lexer": "ipython3",
   "version": "3.10.11"
  },
  "orig_nbformat": 4
 },
 "nbformat": 4,
 "nbformat_minor": 2
}
