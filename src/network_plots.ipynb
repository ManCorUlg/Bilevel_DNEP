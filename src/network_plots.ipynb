{
 "cells": [
  {
   "cell_type": "code",
   "execution_count": 2,
   "metadata": {},
   "outputs": [],
   "source": [
    "# -- IMPORT --\n",
    "import json\n",
    "from pyvis.network import Network\n",
    "import networkx as nx"
   ]
  },
  {
   "cell_type": "code",
   "execution_count": 3,
   "metadata": {},
   "outputs": [
    {
     "name": "stdout",
     "output_type": "stream",
     "text": [
      "{'x': 0, 'y': 0}\n"
     ]
    }
   ],
   "source": [
    "# -- FILE --\n",
    "f = open('network_topology.json')\n",
    "topology_data = json.load(f)\n",
    "f.close()\n",
    "\n",
    "f = open('network_data.json')\n",
    "network_data = json.load(f)\n",
    "f.close()\n",
    "\n",
    "print(network_data['buses'][1]['node']['coord'])"
   ]
  },
  {
   "cell_type": "code",
   "execution_count": 4,
   "metadata": {},
   "outputs": [
    {
     "data": {
      "text/html": [
       "\n",
       "        <iframe\n",
       "            width=\"100%\"\n",
       "            height=\"750px\"\n",
       "            src=\"nodes.html\"\n",
       "            frameborder=\"0\"\n",
       "            allowfullscreen\n",
       "            \n",
       "        ></iframe>\n",
       "        "
      ],
      "text/plain": [
       "<IPython.lib.display.IFrame at 0x115270640>"
      ]
     },
     "execution_count": 4,
     "metadata": {},
     "output_type": "execute_result"
    }
   ],
   "source": [
    "# -- NETWORK --\n",
    "nb_nodes = len(topology_data['nodes'])\n",
    "nodes = range(1, nb_nodes)\n",
    "\n",
    "net = Network(height=\"750px\", width=\"100%\",notebook=True, cdn_resources='in_line')\n",
    "net.add_node(1, label= r\"$S_1$\")\n",
    "net.add_node(2, label= 'Cathy')\n",
    "net.add_node(3, label='Gros')\n",
    "\n",
    "net.show_buttons(filter_=['physics'])\n",
    "net.toggle_physics(True)\n",
    "net.show('nodes.html')"
   ]
  },
  {
   "cell_type": "code",
   "execution_count": 5,
   "metadata": {},
   "outputs": [
    {
     "name": "stdout",
     "output_type": "stream",
     "text": [
      "graph-tool version: 2.56\n"
     ]
    }
   ],
   "source": [
    "import graph_tool.all as gt\n",
    "import numpy as np\n",
    "from IPython.display import display\n",
    "%matplotlib inline\n",
    "print(\"graph-tool version: {}\".format(gt.__version__.split(' ')[0]))"
   ]
  },
  {
   "cell_type": "code",
   "execution_count": 36,
   "metadata": {},
   "outputs": [
    {
     "name": "stdout",
     "output_type": "stream",
     "text": [
      "[(0, 2), (1, 2), (2, 3)]\n"
     ]
    },
    {
     "name": "stderr",
     "output_type": "stream",
     "text": [
      "Error: renderer for xlib is unavailable\n"
     ]
    },
    {
     "data": {
      "text/plain": [
       "<VertexPropertyMap object with value type 'vector<double>', for Graph 0x2977e71c0, at 0x2977e6560>"
      ]
     },
     "execution_count": 36,
     "metadata": {},
     "output_type": "execute_result"
    },
    {
     "ename": "",
     "evalue": "",
     "output_type": "error",
     "traceback": [
      "\u001b[1;31mThe Kernel crashed while executing code in the the current cell or a previous cell. Please review the code in the cell(s) to identify a possible cause of the failure. Click <a href='https://aka.ms/vscodeJupyterKernelCrash'>here</a> for more info. View Jupyter <a href='command:jupyter.viewOutput'>log</a> for further details."
     ]
    }
   ],
   "source": [
    "# -- Topology plot -- \n",
    "\n",
    "nb_nodes = len(topology_data['nodes'])\n",
    "nodes = range(1, nb_nodes)\n",
    "edges = [(int(e['from_node']['id'])-1, int(e['to_node']['id'])-1) for e in topology_data['edges']]\n",
    "print(edges)\n",
    "g = gt.Graph(g=nb_nodes, directed=False)\n",
    "g.add_edge_list(edges)\n",
    "\n",
    "v_coord = g.new_vertex_property('vector<float>')\n",
    "v_name = g.new_vertex_property('string')\n",
    "\n",
    "g.vp['coord'] = v_coord\n",
    "g.vertex_properties['name'] = v_name\n",
    "\n",
    "Ns = network_data['nb_substations']\n",
    "Nu = network_data['nb_loads']\n",
    "buses = network_data['buses']\n",
    "\n",
    "for (ns, nu) in zip(buses[:Ns], buses[Ns:]):\n",
    "    vs = g.add_vertex()\n",
    "    vu = g.add_vertex()\n",
    "    name = int(ns['node']['id'])\n",
    "    v_name[vs] = f'S({name})'\n",
    "    name = int(nu['node']['id']) \n",
    "    v_name[vu] = f'U({name})'\n",
    "    v_coord[vs] = [float(ns['node']['coord']['x']), float(ns['node']['coord']['y'])]\n",
    "    v_coord[vu] = [float(nu['node']['coord']['x']), float(nu['node']['coord']['y'])]\n",
    "\n",
    "\n",
    "\n",
    "#x\n",
    "SIZE     = 400\n",
    "V_SIZE   = SIZE / 10\n",
    "E_PWIDTH = V_SIZE / 4\n",
    "gt.graphviz_draw(g,  \n",
    "            vsize= V_SIZE, \n",
    "            pos = v_coord)\n",
    "\n",
    "\n"
   ]
  },
  {
   "cell_type": "code",
   "execution_count": null,
   "metadata": {},
   "outputs": [],
   "source": [
    "a= [1,2,3,4]\n",
    "type((1,2))"
   ]
  }
 ],
 "metadata": {
  "kernelspec": {
   "display_name": "Python 3",
   "language": "python",
   "name": "python3"
  },
  "language_info": {
   "codemirror_mode": {
    "name": "ipython",
    "version": 3
   },
   "file_extension": ".py",
   "mimetype": "text/x-python",
   "name": "python",
   "nbconvert_exporter": "python",
   "pygments_lexer": "ipython3",
   "version": "3.10.11"
  },
  "orig_nbformat": 4
 },
 "nbformat": 4,
 "nbformat_minor": 2
}
