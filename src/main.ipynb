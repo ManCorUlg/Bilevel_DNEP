{
 "cells": [
  {
   "cell_type": "code",
   "execution_count": 4,
   "metadata": {},
   "outputs": [],
   "source": [
    "using OrderedCollections, Dates, PrettyTables, Latexify"
   ]
  },
  {
   "cell_type": "code",
   "execution_count": 5,
   "metadata": {},
   "outputs": [
    {
     "data": {
      "text/plain": [
       "OrderedDict{String, Vector} with 10 entries:\n",
       "  \"WEIGHT_OP_LIMITS\"          => [0.01, 0.001, 0.1]\n",
       "  \"WINTER\"                    => Bool[1]\n",
       "  \"ELECTRIC_VEHICLES\"         => Bool[0, 1]\n",
       "  \"HEAT_PUMPS\"                => Bool[0, 1]\n",
       "  \"MAX_PV_CAPACITY_PER_NODE\"  => [0.4, 0.0, 0.8, 1.6]\n",
       "  \"PV_SCALE_SUMMER_WINTER\"    => [0.1]\n",
       "  \"IMP_ELECTRICITY_ENRG_COST\" => [0.3, 0.6, 0.9]\n",
       "  \"IMP_ELECTRICITY_DSO_COST\"  => [0.1, 0.2, 0.3]\n",
       "  \"EXP_ELECTRICITY_ENRG_COST\" => [0.1, 0.2, 0.3]\n",
       "  \"GRID_CONNECTION_COST\"      => [80, 120, 160]"
      ]
     },
     "metadata": {},
     "output_type": "display_data"
    }
   ],
   "source": [
    "parameters_values = OrderedDict(\n",
    "    \"WEIGHT_OP_LIMITS\" => [1e-2, 1e-3, 1e-1],\n",
    "\n",
    "    # # CONSUMPTION\n",
    "    \"WINTER\" => [true], # true only\n",
    "    \"ELECTRIC_VEHICLES\" => [false, true], # F/T\n",
    "    \"HEAT_PUMPS\" => [false, true], # F/T\n",
    "\n",
    "    # # PV\n",
    "    \"MAX_PV_CAPACITY_PER_NODE\" => [0.4, 0.0, 0.8, 1.6],\n",
    "    \"PV_SCALE_SUMMER_WINTER\" => [0.1],\n",
    "\n",
    "    # # User related costs\n",
    "    \"IMP_ELECTRICITY_ENRG_COST\" => [0.3, 0.6, 0.9],\n",
    "    \"IMP_ELECTRICITY_DSO_COST\" => [0.1, 0.2, 0.3], # EXP_ELECTRICITY_DSO_COST =\n",
    "    \"EXP_ELECTRICITY_ENRG_COST\" => [0.1, 0.2, 0.3],\n",
    "    \"GRID_CONNECTION_COST\" => [80, 120, 160], # changements significatifs ?\n",
    ")"
   ]
  }
 ],
 "metadata": {
  "kernelspec": {
   "display_name": "Julia 1.8.2",
   "language": "julia",
   "name": "julia-1.8"
  },
  "language_info": {
   "file_extension": ".jl",
   "mimetype": "application/julia",
   "name": "julia",
   "version": "1.8.2"
  },
  "orig_nbformat": 4
 },
 "nbformat": 4,
 "nbformat_minor": 2
}
