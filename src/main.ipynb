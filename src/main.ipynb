{
 "cells": [
  {
   "cell_type": "code",
   "execution_count": null,
   "metadata": {},
   "outputs": [],
   "source": []
  },
  {
   "cell_type": "code",
   "execution_count": null,
   "metadata": {},
   "outputs": [],
   "source": [
    "parameters_values = OrderedDict(\n",
    "    \"WEIGHT_OP_LIMITS\" => [1e-2, 1e-3, 1e-1],\n",
    "\n",
    "    # # CONSUMPTION\n",
    "    \"WINTER\" => [true], # true only\n",
    "    \"ELECTRIC_VEHICLES\" => [false, true], # F/T\n",
    "    \"HEAT_PUMPS\" => [false, true], # F/T\n",
    "\n",
    "    # # PV\n",
    "    \"MAX_PV_CAPACITY_PER_NODE\" => [0.4, 0.0, 0.8, 1.6],\n",
    "    \"PV_SCALE_SUMMER_WINTER\" => [0.1],\n",
    "\n",
    "    # # User related costs\n",
    "    \"IMP_ELECTRICITY_ENRG_COST\" => [0.3, 0.6, 0.9],\n",
    "    \"IMP_ELECTRICITY_DSO_COST\" => [0.1, 0.2, 0.3], # EXP_ELECTRICITY_DSO_COST =\n",
    "    \"EXP_ELECTRICITY_ENRG_COST\" => [0.1, 0.2, 0.3],\n",
    "    \"GRID_CONNECTION_COST\" => [80, 120, 160], # changements significatifs ?\n",
    ")"
   ]
  }
 ],
 "metadata": {
  "language_info": {
   "name": "python"
  },
  "orig_nbformat": 4
 },
 "nbformat": 4,
 "nbformat_minor": 2
}
