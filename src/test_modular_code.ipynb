{
 "cells": [
  {
   "cell_type": "code",
   "execution_count": 1,
   "metadata": {},
   "outputs": [
    {
     "name": "stdout",
     "output_type": "stream",
     "text": [
      "#--------------------------------------------------------------------------------\n",
      "#                                                                                \n",
      "#                                  Bilevel DNEP                                   \n",
      "#                                                                                \n",
      "#                                Graduation work                                 \n",
      "#                                                                                \n",
      "#--------------------------------------------------------------------------------\n",
      "# @ Manon Cornet\n",
      "\n",
      "Running a simulation with the following characteristics:\n",
      "--------------------------------------------------------\n",
      "\n",
      "╭─────────────┬───────┬───────┬─────────┬─────────┬─────────┬─────────┬─────────┬───────────╮\n",
      "│\u001b[33;1m  Model Type \u001b[0m│\u001b[33;1m    EV \u001b[0m│\u001b[33;1m   EHP \u001b[0m│\u001b[33;1m Delta_t \u001b[0m│\u001b[33;1m PV_CAPA \u001b[0m│\u001b[33;1m     EIC \u001b[0m│\u001b[33;1m     EEC \u001b[0m│\u001b[33;1m   DSOEC \u001b[0m│\u001b[33;1m       GCC \u001b[0m│\n",
      "│\u001b[90m         [-] \u001b[0m│\u001b[90m   [-] \u001b[0m│\u001b[90m   [-] \u001b[0m│\u001b[90m   [min] \u001b[0m│\u001b[90m   [MVA] \u001b[0m│\u001b[90m [€/kWh] \u001b[0m│\u001b[90m [€/kWh] \u001b[0m│\u001b[90m [€/kWh] \u001b[0m│\u001b[90m [€/kVA/y] \u001b[0m│\n",
      "├─────────────┼───────┼───────┼─────────┼─────────┼─────────┼─────────┼─────────┼───────────┤\n",
      "│ singlelevel │ false │ false │       5 │     0.4 │     0.3 │     0.1 │     0.1 │      80.0 │\n",
      "╰─────────────┴───────┴───────┴─────────┴─────────┴─────────┴─────────┴─────────┴───────────╯\n"
     ]
    },
    {
     "name": "stdout",
     "output_type": "stream",
     "text": [
      "#--------------------------------------------------------------------------------\n"
     ]
    },
    {
     "name": "stdout",
     "output_type": "stream",
     "text": [
      "hello\n"
     ]
    },
    {
     "name": "stdout",
     "output_type": "stream",
     "text": [
      "hello\n"
     ]
    },
    {
     "name": "stdout",
     "output_type": "stream",
     "text": [
      "1\n"
     ]
    },
    {
     "name": "stdout",
     "output_type": "stream",
     "text": [
      "hello\n"
     ]
    },
    {
     "name": "stdout",
     "output_type": "stream",
     "text": [
      "Matrix{"
     ]
    },
    {
     "name": "stdout",
     "output_type": "stream",
     "text": [
      "Float64}\n",
      "hello\n",
      "Matrix{Float64}\n"
     ]
    },
    {
     "name": "stderr",
     "output_type": "stream",
     "text": [
      "┌ Info: Building model...\n",
      "└ @ Main.UpperLevel /Users/manoncornet/Documents/University/TFE/Bilevel_DNEP/src/UpperLevel/build_model.jl:16\n",
      "┌ Info: Built model in 6.89 seconds\n",
      "└ @ Main.UpperLevel /Users/manoncornet/Documents/University/TFE/Bilevel_DNEP/src/UpperLevel/build_model.jl:59\n"
     ]
    },
    {
     "name": "stdout",
     "output_type": "stream",
     "text": [
      "Set parameter Username\n",
      "Academic license - for non-commercial use only - expires 2023-11-10\n",
      "Set parameter TimeLimit to value 600\n",
      "Set parameter MIPGap to value 0.01\n",
      "Set parameter MIPFocus to value 1\n"
     ]
    },
    {
     "data": {
      "text/plain": [
       "A JuMP Model\n",
       "Minimization problem with:\n",
       "Variables: 41\n",
       "Objective function type: JuMP.AffExpr\n",
       "`JuMP.AffExpr`-in-`MathOptInterface.EqualTo{Float64}`: 12 constraints\n",
       "`JuMP.AffExpr`-in-`MathOptInterface.GreaterThan{Float64}`: 17 constraints\n",
       "`JuMP.AffExpr`-in-`MathOptInterface.LessThan{Float64}`: 27 constraints\n",
       "`Vector{JuMP.VariableRef}`-in-`MathOptInterface.SecondOrderCone`: 2 constraints\n",
       "`Vector{JuMP.AffExpr}`-in-`MathOptInterface.RotatedSecondOrderCone`: 3 constraints\n",
       "`JuMP.VariableRef`-in-`MathOptInterface.GreaterThan{Float64}`: 14 constraints\n",
       "`JuMP.VariableRef`-in-`MathOptInterface.LessThan{Float64}`: 4 constraints\n",
       "`JuMP.VariableRef`-in-`MathOptInterface.ZeroOne`: 11 constraints\n",
       "Model mode: AUTOMATIC\n",
       "CachingOptimizer state: EMPTY_OPTIMIZER\n",
       "Solver name: Gurobi\n",
       "Names registered in the model: Alpha, Beta, DSO_costs, I_sqr_k, P_ij_k, P_sub, Q_ij_k, Q_sub, S_sub, S_sub_capa, User_costs, V_sqr, Y, delta_t, nb_sign_days, network_data, network_topology, time_steps"
      ]
     },
     "metadata": {},
     "output_type": "display_data"
    }
   ],
   "source": [
    "include(\"main.jl\")\n",
    "\n",
    "#println(var_values)"
   ]
  },
  {
   "cell_type": "code",
   "execution_count": 2,
   "metadata": {},
   "outputs": [
    {
     "name": "stdout",
     "output_type": "stream",
     "text": [
      "(base_power = 1.0, base_voltage = 34.5, base_current = 0.028985507246376812, base_impedance = 1190.25)Main.UpperLevel.Conductor"
     ]
    },
    {
     "name": "stdout",
     "output_type": "stream",
     "text": [
      "[Main.UpperLevel.Conductor(\"Poppy\", 0.00046225582860743544, 0.0003604284814114682, 7.9350000000000005, 10.0), Main.UpperLevel.Conductor(\"Oxlip\", 0.0002307918504515858, 0.0003377441713925646, 11.73, 12.0)]"
     ]
    }
   ],
   "source": [
    "print(network.pu_basis)\n",
    "print(network.conductors)"
   ]
  },
  {
   "cell_type": "code",
   "execution_count": 5,
   "metadata": {},
   "outputs": [
    {
     "data": {
      "text/latex": [
       "$$ \\begin{aligned}\n",
       "\\min\\quad & 0.02 Alpha_{1,1} + 0.024000000000000004 Alpha_{1,2} + 0.02828427124746191 Alpha_{2,1} + 0.033941125496954286 Alpha_{2,2} + 0.02 Alpha_{3,1} + 0.024000000000000004 Alpha_{3,2} + 20 S\\_sub\\_capa_{1} + 20 S\\_sub\\_capa_{2} + 0.00885797731568998 I\\_sqr\\_k_{1,1,1} + 0.004422548834278513 I\\_sqr\\_k_{1,1,2} + 0.012527071655041994 I\\_sqr\\_k_{1,2,1} + 0.006254428541693995 I\\_sqr\\_k_{1,2,2} + 0.00885797731568998 I\\_sqr\\_k_{1,3,1} + 0.004422548834278513 I\\_sqr\\_k_{1,3,2}\\\\\n",
       "\\text{Subject to} \\quad & Alpha_{1,1} + Alpha_{1,2} - Y_{1} = 0\\\\\n",
       " & Alpha_{2,1} + Alpha_{2,2} - Y_{2} = 0\\\\\n",
       " & Alpha_{3,1} + Alpha_{3,2} - Y_{3} = 0\\\\\n",
       " & Y_{1} + Y_{2} + Y_{3} = 2\\\\\n",
       " & -P\\_sub_{1,1} + P\\_ij\\_k_{1,1,1} + P\\_ij\\_k_{1,1,2} = 0\\\\\n",
       " & -P\\_sub_{1,2} + P\\_ij\\_k_{1,2,1} + P\\_ij\\_k_{1,2,2} = 0\\\\\n",
       " & -Q\\_sub_{1,1} + Q\\_ij\\_k_{1,1,1} + Q\\_ij\\_k_{1,1,2} = 0\\\\\n",
       " & -Q\\_sub_{1,2} + Q\\_ij\\_k_{1,2,1} + Q\\_ij\\_k_{1,2,2} = 0\\\\\n",
       " & -P\\_ij\\_k_{1,1,1} - P\\_ij\\_k_{1,2,1} + P\\_ij\\_k_{1,3,1} - P\\_ij\\_k_{1,1,2} - P\\_ij\\_k_{1,2,2} + P\\_ij\\_k_{1,3,2} + 4.622558286074355e-5 I\\_sqr\\_k_{1,1,1} + 6.537284621026482e-5 I\\_sqr\\_k_{1,2,1} + 2.3079185045158582e-5 I\\_sqr\\_k_{1,1,2} + 3.263889649938158e-5 I\\_sqr\\_k_{1,2,2} = -0.0879136526741471\\\\\n",
       " & -P\\_ij\\_k_{1,3,1} - P\\_ij\\_k_{1,3,2} + 4.622558286074355e-5 I\\_sqr\\_k_{1,3,1} + 2.3079185045158582e-5 I\\_sqr\\_k_{1,3,2} = -0.09150196502819391\\\\\n",
       " & -Q\\_ij\\_k_{1,1,1} - Q\\_ij\\_k_{1,2,1} + Q\\_ij\\_k_{1,3,1} - Q\\_ij\\_k_{1,1,2} - Q\\_ij\\_k_{1,2,2} + Q\\_ij\\_k_{1,3,2} + 3.604284814114682e-5 I\\_sqr\\_k_{1,1,1} + 5.097228466776374e-5 I\\_sqr\\_k_{1,2,1} + 3.377441713925646e-5 I\\_sqr\\_k_{1,1,2} + 4.77642387795828e-5 I\\_sqr\\_k_{1,2,2} = -0.04257852530712682\\\\\n",
       " & -Q\\_ij\\_k_{1,3,1} - Q\\_ij\\_k_{1,3,2} + 3.604284814114682e-5 I\\_sqr\\_k_{1,3,1} + 3.377441713925646e-5 I\\_sqr\\_k_{1,3,2} = -0.04431642429925444\\\\\n",
       " & V\\_sqr_{1,1} - 0.09750000000000003 Beta_{1} \\geq 0.9025\\\\\n",
       " & V\\_sqr_{1,2} - 0.09750000000000003 Beta_{2} \\geq 0.9025\\\\\n",
       " & P\\_ij\\_k_{1,1,1} + 8.331750000000001 Alpha_{1,1} \\geq 0\\\\\n",
       " & P\\_ij\\_k_{1,2,1} + 8.331750000000001 Alpha_{2,1} \\geq 0\\\\\n",
       " & P\\_ij\\_k_{1,3,1} + 8.331750000000001 Alpha_{3,1} \\geq 0\\\\\n",
       " & P\\_ij\\_k_{1,1,2} + 12.316500000000001 Alpha_{1,2} \\geq 0\\\\\n",
       " & P\\_ij\\_k_{1,2,2} + 12.316500000000001 Alpha_{2,2} \\geq 0\\\\\n",
       " & P\\_ij\\_k_{1,3,2} + 12.316500000000001 Alpha_{3,2} \\geq 0\\\\\n",
       " & Q\\_ij\\_k_{1,1,1} + 8.331750000000001 Alpha_{1,1} \\geq 0\\\\\n",
       " & Q\\_ij\\_k_{1,2,1} + 8.331750000000001 Alpha_{2,1} \\geq 0\\\\\n",
       " & Q\\_ij\\_k_{1,3,1} + 8.331750000000001 Alpha_{3,1} \\geq 0\\\\\n",
       " & Q\\_ij\\_k_{1,1,2} + 12.316500000000001 Alpha_{1,2} \\geq 0\\\\\n",
       " & Q\\_ij\\_k_{1,2,2} + 12.316500000000001 Alpha_{2,2} \\geq 0\\\\\n",
       " & Q\\_ij\\_k_{1,3,2} + 12.316500000000001 Alpha_{3,2} \\geq 0\\\\\n",
       " & -V\\_sqr_{1,1} + V\\_sqr_{1,3} + 9.24511657214871e-5 P\\_ij\\_k_{1,1,1} + 4.6158370090317164e-5 P\\_ij\\_k_{1,1,2} + 7.208569628229363e-5 Q\\_ij\\_k_{1,1,1} + 6.754883427851292e-5 Q\\_ij\\_k_{1,1,2} - 3.4358914129412385e-9 I\\_sqr\\_k_{1,1,1} - 1.673360035445172e-9 I\\_sqr\\_k_{1,1,2} - 0.20000000000000007 Y_{1} \\geq -0.20000000000000007\\\\\n",
       " & -V\\_sqr_{1,2} + V\\_sqr_{1,3} + 0.00013074569242052964 P\\_ij\\_k_{1,2,1} + 6.527779299876316e-5 P\\_ij\\_k_{1,2,2} + 0.00010194456933552748 Q\\_ij\\_k_{1,2,1} + 9.55284775591656e-5 Q\\_ij\\_k_{1,2,2} - 6.871782825882478e-9 I\\_sqr\\_k_{1,2,1} - 3.346720070890345e-9 I\\_sqr\\_k_{1,2,2} - 0.20000000000000007 Y_{2} \\geq -0.20000000000000007\\\\\n",
       " & -V\\_sqr_{1,3} + V\\_sqr_{1,4} + 9.24511657214871e-5 P\\_ij\\_k_{1,3,1} + 4.6158370090317164e-5 P\\_ij\\_k_{1,3,2} + 7.208569628229363e-5 Q\\_ij\\_k_{1,3,1} + 6.754883427851292e-5 Q\\_ij\\_k_{1,3,2} - 3.4358914129412385e-9 I\\_sqr\\_k_{1,3,1} - 1.673360035445172e-9 I\\_sqr\\_k_{1,3,2} - 0.20000000000000007 Y_{3} \\geq -0.20000000000000007\\\\\n",
       " & V\\_sqr_{1,1} + 0.10250000000000004 Beta_{1} \\leq 1.1025\\\\\n",
       " & V\\_sqr_{1,2} + 0.10250000000000004 Beta_{2} \\leq 1.1025\\\\\n",
       " & S\\_sub_{1,1} - S\\_sub\\_capa_{1} \\leq 0\\\\\n",
       " & S\\_sub_{1,2} - S\\_sub\\_capa_{2} \\leq 0\\\\\n",
       " & S\\_sub\\_capa_{1} - 15 Beta_{1} \\leq 0\\\\\n",
       " & S\\_sub\\_capa_{2} - 15 Beta_{2} \\leq 0\\\\\n",
       " & I\\_sqr\\_k_{1,1,1} - 62.964225000000006 Alpha_{1,1} \\leq 0\\\\\n",
       " & I\\_sqr\\_k_{1,2,1} - 62.964225000000006 Alpha_{2,1} \\leq 0\\\\\n",
       " & I\\_sqr\\_k_{1,3,1} - 62.964225000000006 Alpha_{3,1} \\leq 0\\\\\n",
       " & I\\_sqr\\_k_{1,1,2} - 137.59290000000001 Alpha_{1,2} \\leq 0\\\\\n",
       " & I\\_sqr\\_k_{1,2,2} - 137.59290000000001 Alpha_{2,2} \\leq 0\\\\\n",
       " & I\\_sqr\\_k_{1,3,2} - 137.59290000000001 Alpha_{3,2} \\leq 0\\\\\n",
       " & P\\_ij\\_k_{1,1,1} - 8.331750000000001 Alpha_{1,1} \\leq 0\\\\\n",
       " & P\\_ij\\_k_{1,2,1} - 8.331750000000001 Alpha_{2,1} \\leq 0\\\\\n",
       " & P\\_ij\\_k_{1,3,1} - 8.331750000000001 Alpha_{3,1} \\leq 0\\\\\n",
       " & P\\_ij\\_k_{1,1,2} - 12.316500000000001 Alpha_{1,2} \\leq 0\\\\\n",
       " & P\\_ij\\_k_{1,2,2} - 12.316500000000001 Alpha_{2,2} \\leq 0\\\\\n",
       " & P\\_ij\\_k_{1,3,2} - 12.316500000000001 Alpha_{3,2} \\leq 0\\\\\n",
       " & Q\\_ij\\_k_{1,1,1} - 8.331750000000001 Alpha_{1,1} \\leq 0\\\\\n",
       " & Q\\_ij\\_k_{1,2,1} - 8.331750000000001 Alpha_{2,1} \\leq 0\\\\\n",
       " & Q\\_ij\\_k_{1,3,1} - 8.331750000000001 Alpha_{3,1} \\leq 0\\\\\n",
       " & Q\\_ij\\_k_{1,1,2} - 12.316500000000001 Alpha_{1,2} \\leq 0\\\\\n",
       " & Q\\_ij\\_k_{1,2,2} - 12.316500000000001 Alpha_{2,2} \\leq 0\\\\\n",
       " & Q\\_ij\\_k_{1,3,2} - 12.316500000000001 Alpha_{3,2} \\leq 0\\\\\n",
       " & -V\\_sqr_{1,1} + V\\_sqr_{1,3} + 9.24511657214871e-5 P\\_ij\\_k_{1,1,1} + 4.6158370090317164e-5 P\\_ij\\_k_{1,1,2} + 7.208569628229363e-5 Q\\_ij\\_k_{1,1,1} + 6.754883427851292e-5 Q\\_ij\\_k_{1,1,2} - 3.4358914129412385e-9 I\\_sqr\\_k_{1,1,1} - 1.673360035445172e-9 I\\_sqr\\_k_{1,1,2} + 0.20000000000000007 Y_{1} \\leq 0.20000000000000007\\\\\n",
       " & -V\\_sqr_{1,2} + V\\_sqr_{1,3} + 0.00013074569242052964 P\\_ij\\_k_{1,2,1} + 6.527779299876316e-5 P\\_ij\\_k_{1,2,2} + 0.00010194456933552748 Q\\_ij\\_k_{1,2,1} + 9.55284775591656e-5 Q\\_ij\\_k_{1,2,2} - 6.871782825882478e-9 I\\_sqr\\_k_{1,2,1} - 3.346720070890345e-9 I\\_sqr\\_k_{1,2,2} + 0.20000000000000007 Y_{2} \\leq 0.20000000000000007\\\\\n",
       " & -V\\_sqr_{1,3} + V\\_sqr_{1,4} + 9.24511657214871e-5 P\\_ij\\_k_{1,3,1} + 4.6158370090317164e-5 P\\_ij\\_k_{1,3,2} + 7.208569628229363e-5 Q\\_ij\\_k_{1,3,1} + 6.754883427851292e-5 Q\\_ij\\_k_{1,3,2} - 3.4358914129412385e-9 I\\_sqr\\_k_{1,3,1} - 1.673360035445172e-9 I\\_sqr\\_k_{1,3,2} + 0.20000000000000007 Y_{3} \\leq 0.20000000000000007\\\\\n",
       " & [S\\_sub_{1,1}, P\\_sub_{1,1}, Q\\_sub_{1,1}] \\in \\text{MathOptInterface.SecondOrderCone(3)}\\\\\n",
       " & [S\\_sub_{1,2}, P\\_sub_{1,2}, Q\\_sub_{1,2}] \\in \\text{MathOptInterface.SecondOrderCone(3)}\\\\\n",
       " & [0.5 V\\_sqr_{1,1}, I\\_sqr\\_k_{1,1,1} + I\\_sqr\\_k_{1,1,2}, P\\_ij\\_k_{1,1,1} + P\\_ij\\_k_{1,1,2}, Q\\_ij\\_k_{1,1,1} + Q\\_ij\\_k_{1,1,2}] \\in \\text{MathOptInterface.RotatedSecondOrderCone(4)}\\\\\n",
       " & [0.5 V\\_sqr_{1,2}, I\\_sqr\\_k_{1,2,1} + I\\_sqr\\_k_{1,2,2}, P\\_ij\\_k_{1,2,1} + P\\_ij\\_k_{1,2,2}, Q\\_ij\\_k_{1,2,1} + Q\\_ij\\_k_{1,2,2}] \\in \\text{MathOptInterface.RotatedSecondOrderCone(4)}\\\\\n",
       " & [0.5 V\\_sqr_{1,3}, I\\_sqr\\_k_{1,3,1} + I\\_sqr\\_k_{1,3,2}, P\\_ij\\_k_{1,3,1} + P\\_ij\\_k_{1,3,2}, Q\\_ij\\_k_{1,3,1} + Q\\_ij\\_k_{1,3,2}] \\in \\text{MathOptInterface.RotatedSecondOrderCone(4)}\\\\\n",
       " & V\\_sqr_{1,1} \\geq 0.9025\\\\\n",
       " & V\\_sqr_{1,2} \\geq 0.9025\\\\\n",
       " & V\\_sqr_{1,3} \\geq 0.9025\\\\\n",
       " & V\\_sqr_{1,4} \\geq 0.9025\\\\\n",
       " & S\\_sub_{1,1} \\geq 0\\\\\n",
       " & S\\_sub_{1,2} \\geq 0\\\\\n",
       " & S\\_sub\\_capa_{1} \\geq 0\\\\\n",
       " & S\\_sub\\_capa_{2} \\geq 0\\\\\n",
       " & I\\_sqr\\_k_{1,1,1} \\geq 0\\\\\n",
       " & I\\_sqr\\_k_{1,2,1} \\geq 0\\\\\n",
       " & I\\_sqr\\_k_{1,3,1} \\geq 0\\\\\n",
       " & I\\_sqr\\_k_{1,1,2} \\geq 0\\\\\n",
       " & I\\_sqr\\_k_{1,2,2} \\geq 0\\\\\n",
       " & I\\_sqr\\_k_{1,3,2} \\geq 0\\\\\n",
       " & V\\_sqr_{1,1} \\leq 1.1025\\\\\n",
       " & V\\_sqr_{1,2} \\leq 1.1025\\\\\n",
       " & V\\_sqr_{1,3} \\leq 1.1025\\\\\n",
       " & V\\_sqr_{1,4} \\leq 1.1025\\\\\n",
       " & Beta_{1} \\in \\{0, 1\\}\\\\\n",
       " & Beta_{2} \\in \\{0, 1\\}\\\\\n",
       " & Alpha_{1,1} \\in \\{0, 1\\}\\\\\n",
       " & Alpha_{2,1} \\in \\{0, 1\\}\\\\\n",
       " & Alpha_{3,1} \\in \\{0, 1\\}\\\\\n",
       " & Alpha_{1,2} \\in \\{0, 1\\}\\\\\n",
       " & Alpha_{2,2} \\in \\{0, 1\\}\\\\\n",
       " & Alpha_{3,2} \\in \\{0, 1\\}\\\\\n",
       " & Y_{1} \\in \\{0, 1\\}\\\\\n",
       " & Y_{2} \\in \\{0, 1\\}\\\\\n",
       " & Y_{3} \\in \\{0, 1\\}\\\\\n",
       "\\end{aligned} $$"
      ],
      "text/plain": [
       "$$ \\begin{aligned}\n",
       "\\min\\quad & 0.02 Alpha_{1,1} + 0.024000000000000004 Alpha_{1,2} + 0.02828427124746191 Alpha_{2,1} + 0.033941125496954286 Alpha_{2,2} + 0.02 Alpha_{3,1} + 0.024000000000000004 Alpha_{3,2} + 20 S\\_sub\\_capa_{1} + 20 S\\_sub\\_capa_{2} + 0.00885797731568998 I\\_sqr\\_k_{1,1,1} + 0.004422548834278513 I\\_sqr\\_k_{1,1,2} + 0.012527071655041994 I\\_sqr\\_k_{1,2,1} + 0.006254428541693995 I\\_sqr\\_k_{1,2,2} + 0.00885797731568998 I\\_sqr\\_k_{1,3,1} + 0.004422548834278513 I\\_sqr\\_k_{1,3,2}\\\\\n",
       "\\text{Subject to} \\quad & Alpha_{1,1} + Alpha_{1,2} - Y_{1} = 0\\\\\n",
       " & Alpha_{2,1} + Alpha_{2,2} - Y_{2} = 0\\\\\n",
       " & Alpha_{3,1} + Alpha_{3,2} - Y_{3} = 0\\\\\n",
       " & Y_{1} + Y_{2} + Y_{3} = 2\\\\\n",
       " & -P\\_sub_{1,1} + P\\_ij\\_k_{1,1,1} + P\\_ij\\_k_{1,1,2} = 0\\\\\n",
       " & -P\\_sub_{1,2} + P\\_ij\\_k_{1,2,1} + P\\_ij\\_k_{1,2,2} = 0\\\\\n",
       " & -Q\\_sub_{1,1} + Q\\_ij\\_k_{1,1,1} + Q\\_ij\\_k_{1,1,2} = 0\\\\\n",
       " & -Q\\_sub_{1,2} + Q\\_ij\\_k_{1,2,1} + Q\\_ij\\_k_{1,2,2} = 0\\\\\n",
       " & -P\\_ij\\_k_{1,1,1} - P\\_ij\\_k_{1,2,1} + P\\_ij\\_k_{1,3,1} - P\\_ij\\_k_{1,1,2} - P\\_ij\\_k_{1,2,2} + P\\_ij\\_k_{1,3,2} + 4.622558286074355e-5 I\\_sqr\\_k_{1,1,1} + 6.537284621026482e-5 I\\_sqr\\_k_{1,2,1} + 2.3079185045158582e-5 I\\_sqr\\_k_{1,1,2} + 3.263889649938158e-5 I\\_sqr\\_k_{1,2,2} = -0.0879136526741471\\\\\n",
       " & -P\\_ij\\_k_{1,3,1} - P\\_ij\\_k_{1,3,2} + 4.622558286074355e-5 I\\_sqr\\_k_{1,3,1} + 2.3079185045158582e-5 I\\_sqr\\_k_{1,3,2} = -0.09150196502819391\\\\\n",
       " & -Q\\_ij\\_k_{1,1,1} - Q\\_ij\\_k_{1,2,1} + Q\\_ij\\_k_{1,3,1} - Q\\_ij\\_k_{1,1,2} - Q\\_ij\\_k_{1,2,2} + Q\\_ij\\_k_{1,3,2} + 3.604284814114682e-5 I\\_sqr\\_k_{1,1,1} + 5.097228466776374e-5 I\\_sqr\\_k_{1,2,1} + 3.377441713925646e-5 I\\_sqr\\_k_{1,1,2} + 4.77642387795828e-5 I\\_sqr\\_k_{1,2,2} = -0.04257852530712682\\\\\n",
       " & -Q\\_ij\\_k_{1,3,1} - Q\\_ij\\_k_{1,3,2} + 3.604284814114682e-5 I\\_sqr\\_k_{1,3,1} + 3.377441713925646e-5 I\\_sqr\\_k_{1,3,2} = -0.04431642429925444\\\\\n",
       " & V\\_sqr_{1,1} - 0.09750000000000003 Beta_{1} \\geq 0.9025\\\\\n",
       " & V\\_sqr_{1,2} - 0.09750000000000003 Beta_{2} \\geq 0.9025\\\\\n",
       " & P\\_ij\\_k_{1,1,1} + 8.331750000000001 Alpha_{1,1} \\geq 0\\\\\n",
       " & P\\_ij\\_k_{1,2,1} + 8.331750000000001 Alpha_{2,1} \\geq 0\\\\\n",
       " & P\\_ij\\_k_{1,3,1} + 8.331750000000001 Alpha_{3,1} \\geq 0\\\\\n",
       " & P\\_ij\\_k_{1,1,2} + 12.316500000000001 Alpha_{1,2} \\geq 0\\\\\n",
       " & P\\_ij\\_k_{1,2,2} + 12.316500000000001 Alpha_{2,2} \\geq 0\\\\\n",
       " & P\\_ij\\_k_{1,3,2} + 12.316500000000001 Alpha_{3,2} \\geq 0\\\\\n",
       " & Q\\_ij\\_k_{1,1,1} + 8.331750000000001 Alpha_{1,1} \\geq 0\\\\\n",
       " & Q\\_ij\\_k_{1,2,1} + 8.331750000000001 Alpha_{2,1} \\geq 0\\\\\n",
       " & Q\\_ij\\_k_{1,3,1} + 8.331750000000001 Alpha_{3,1} \\geq 0\\\\\n",
       " & Q\\_ij\\_k_{1,1,2} + 12.316500000000001 Alpha_{1,2} \\geq 0\\\\\n",
       " & Q\\_ij\\_k_{1,2,2} + 12.316500000000001 Alpha_{2,2} \\geq 0\\\\\n",
       " & Q\\_ij\\_k_{1,3,2} + 12.316500000000001 Alpha_{3,2} \\geq 0\\\\\n",
       " & -V\\_sqr_{1,1} + V\\_sqr_{1,3} + 9.24511657214871e-5 P\\_ij\\_k_{1,1,1} + 4.6158370090317164e-5 P\\_ij\\_k_{1,1,2} + 7.208569628229363e-5 Q\\_ij\\_k_{1,1,1} + 6.754883427851292e-5 Q\\_ij\\_k_{1,1,2} - 3.4358914129412385e-9 I\\_sqr\\_k_{1,1,1} - 1.673360035445172e-9 I\\_sqr\\_k_{1,1,2} - 0.20000000000000007 Y_{1} \\geq -0.20000000000000007\\\\\n",
       " & -V\\_sqr_{1,2} + V\\_sqr_{1,3} + 0.00013074569242052964 P\\_ij\\_k_{1,2,1} + 6.527779299876316e-5 P\\_ij\\_k_{1,2,2} + 0.00010194456933552748 Q\\_ij\\_k_{1,2,1} + 9.55284775591656e-5 Q\\_ij\\_k_{1,2,2} - 6.871782825882478e-9 I\\_sqr\\_k_{1,2,1} - 3.346720070890345e-9 I\\_sqr\\_k_{1,2,2} - 0.20000000000000007 Y_{2} \\geq -0.20000000000000007\\\\\n",
       " & -V\\_sqr_{1,3} + V\\_sqr_{1,4} + 9.24511657214871e-5 P\\_ij\\_k_{1,3,1} + 4.6158370090317164e-5 P\\_ij\\_k_{1,3,2} + 7.208569628229363e-5 Q\\_ij\\_k_{1,3,1} + 6.754883427851292e-5 Q\\_ij\\_k_{1,3,2} - 3.4358914129412385e-9 I\\_sqr\\_k_{1,3,1} - 1.673360035445172e-9 I\\_sqr\\_k_{1,3,2} - 0.20000000000000007 Y_{3} \\geq -0.20000000000000007\\\\\n",
       " & V\\_sqr_{1,1} + 0.10250000000000004 Beta_{1} \\leq 1.1025\\\\\n",
       " & V\\_sqr_{1,2} + 0.10250000000000004 Beta_{2} \\leq 1.1025\\\\\n",
       " & S\\_sub_{1,1} - S\\_sub\\_capa_{1} \\leq 0\\\\\n",
       " & S\\_sub_{1,2} - S\\_sub\\_capa_{2} \\leq 0\\\\\n",
       " & S\\_sub\\_capa_{1} - 15 Beta_{1} \\leq 0\\\\\n",
       " & S\\_sub\\_capa_{2} - 15 Beta_{2} \\leq 0\\\\\n",
       " & I\\_sqr\\_k_{1,1,1} - 62.964225000000006 Alpha_{1,1} \\leq 0\\\\\n",
       " & I\\_sqr\\_k_{1,2,1} - 62.964225000000006 Alpha_{2,1} \\leq 0\\\\\n",
       " & I\\_sqr\\_k_{1,3,1} - 62.964225000000006 Alpha_{3,1} \\leq 0\\\\\n",
       " & I\\_sqr\\_k_{1,1,2} - 137.59290000000001 Alpha_{1,2} \\leq 0\\\\\n",
       " & I\\_sqr\\_k_{1,2,2} - 137.59290000000001 Alpha_{2,2} \\leq 0\\\\\n",
       " & I\\_sqr\\_k_{1,3,2} - 137.59290000000001 Alpha_{3,2} \\leq 0\\\\\n",
       " & P\\_ij\\_k_{1,1,1} - 8.331750000000001 Alpha_{1,1} \\leq 0\\\\\n",
       " & P\\_ij\\_k_{1,2,1} - 8.331750000000001 Alpha_{2,1} \\leq 0\\\\\n",
       " & P\\_ij\\_k_{1,3,1} - 8.331750000000001 Alpha_{3,1} \\leq 0\\\\\n",
       " & P\\_ij\\_k_{1,1,2} - 12.316500000000001 Alpha_{1,2} \\leq 0\\\\\n",
       " & P\\_ij\\_k_{1,2,2} - 12.316500000000001 Alpha_{2,2} \\leq 0\\\\\n",
       " & P\\_ij\\_k_{1,3,2} - 12.316500000000001 Alpha_{3,2} \\leq 0\\\\\n",
       " & Q\\_ij\\_k_{1,1,1} - 8.331750000000001 Alpha_{1,1} \\leq 0\\\\\n",
       " & Q\\_ij\\_k_{1,2,1} - 8.331750000000001 Alpha_{2,1} \\leq 0\\\\\n",
       " & Q\\_ij\\_k_{1,3,1} - 8.331750000000001 Alpha_{3,1} \\leq 0\\\\\n",
       " & Q\\_ij\\_k_{1,1,2} - 12.316500000000001 Alpha_{1,2} \\leq 0\\\\\n",
       " & Q\\_ij\\_k_{1,2,2} - 12.316500000000001 Alpha_{2,2} \\leq 0\\\\\n",
       " & Q\\_ij\\_k_{1,3,2} - 12.316500000000001 Alpha_{3,2} \\leq 0\\\\\n",
       " & -V\\_sqr_{1,1} + V\\_sqr_{1,3} + 9.24511657214871e-5 P\\_ij\\_k_{1,1,1} + 4.6158370090317164e-5 P\\_ij\\_k_{1,1,2} + 7.208569628229363e-5 Q\\_ij\\_k_{1,1,1} + 6.754883427851292e-5 Q\\_ij\\_k_{1,1,2} - 3.4358914129412385e-9 I\\_sqr\\_k_{1,1,1} - 1.673360035445172e-9 I\\_sqr\\_k_{1,1,2} + 0.20000000000000007 Y_{1} \\leq 0.20000000000000007\\\\\n",
       " & -V\\_sqr_{1,2} + V\\_sqr_{1,3} + 0.00013074569242052964 P\\_ij\\_k_{1,2,1} + 6.527779299876316e-5 P\\_ij\\_k_{1,2,2} + 0.00010194456933552748 Q\\_ij\\_k_{1,2,1} + 9.55284775591656e-5 Q\\_ij\\_k_{1,2,2} - 6.871782825882478e-9 I\\_sqr\\_k_{1,2,1} - 3.346720070890345e-9 I\\_sqr\\_k_{1,2,2} + 0.20000000000000007 Y_{2} \\leq 0.20000000000000007\\\\\n",
       " & -V\\_sqr_{1,3} + V\\_sqr_{1,4} + 9.24511657214871e-5 P\\_ij\\_k_{1,3,1} + 4.6158370090317164e-5 P\\_ij\\_k_{1,3,2} + 7.208569628229363e-5 Q\\_ij\\_k_{1,3,1} + 6.754883427851292e-5 Q\\_ij\\_k_{1,3,2} - 3.4358914129412385e-9 I\\_sqr\\_k_{1,3,1} - 1.673360035445172e-9 I\\_sqr\\_k_{1,3,2} + 0.20000000000000007 Y_{3} \\leq 0.20000000000000007\\\\\n",
       " & [S\\_sub_{1,1}, P\\_sub_{1,1}, Q\\_sub_{1,1}] \\in \\text{MathOptInterface.SecondOrderCone(3)}\\\\\n",
       " & [S\\_sub_{1,2}, P\\_sub_{1,2}, Q\\_sub_{1,2}] \\in \\text{MathOptInterface.SecondOrderCone(3)}\\\\\n",
       " & [0.5 V\\_sqr_{1,1}, I\\_sqr\\_k_{1,1,1} + I\\_sqr\\_k_{1,1,2}, P\\_ij\\_k_{1,1,1} + P\\_ij\\_k_{1,1,2}, Q\\_ij\\_k_{1,1,1} + Q\\_ij\\_k_{1,1,2}] \\in \\text{MathOptInterface.RotatedSecondOrderCone(4)}\\\\\n",
       " & [0.5 V\\_sqr_{1,2}, I\\_sqr\\_k_{1,2,1} + I\\_sqr\\_k_{1,2,2}, P\\_ij\\_k_{1,2,1} + P\\_ij\\_k_{1,2,2}, Q\\_ij\\_k_{1,2,1} + Q\\_ij\\_k_{1,2,2}] \\in \\text{MathOptInterface.RotatedSecondOrderCone(4)}\\\\\n",
       " & [0.5 V\\_sqr_{1,3}, I\\_sqr\\_k_{1,3,1} + I\\_sqr\\_k_{1,3,2}, P\\_ij\\_k_{1,3,1} + P\\_ij\\_k_{1,3,2}, Q\\_ij\\_k_{1,3,1} + Q\\_ij\\_k_{1,3,2}] \\in \\text{MathOptInterface.RotatedSecondOrderCone(4)}\\\\\n",
       " & V\\_sqr_{1,1} \\geq 0.9025\\\\\n",
       " & V\\_sqr_{1,2} \\geq 0.9025\\\\\n",
       " & V\\_sqr_{1,3} \\geq 0.9025\\\\\n",
       " & V\\_sqr_{1,4} \\geq 0.9025\\\\\n",
       " & S\\_sub_{1,1} \\geq 0\\\\\n",
       " & S\\_sub_{1,2} \\geq 0\\\\\n",
       " & S\\_sub\\_capa_{1} \\geq 0\\\\\n",
       " & S\\_sub\\_capa_{2} \\geq 0\\\\\n",
       " & I\\_sqr\\_k_{1,1,1} \\geq 0\\\\\n",
       " & I\\_sqr\\_k_{1,2,1} \\geq 0\\\\\n",
       " & I\\_sqr\\_k_{1,3,1} \\geq 0\\\\\n",
       " & I\\_sqr\\_k_{1,1,2} \\geq 0\\\\\n",
       " & I\\_sqr\\_k_{1,2,2} \\geq 0\\\\\n",
       " & I\\_sqr\\_k_{1,3,2} \\geq 0\\\\\n",
       " & V\\_sqr_{1,1} \\leq 1.1025\\\\\n",
       " & V\\_sqr_{1,2} \\leq 1.1025\\\\\n",
       " & V\\_sqr_{1,3} \\leq 1.1025\\\\\n",
       " & V\\_sqr_{1,4} \\leq 1.1025\\\\\n",
       " & Beta_{1} \\in \\{0, 1\\}\\\\\n",
       " & Beta_{2} \\in \\{0, 1\\}\\\\\n",
       " & Alpha_{1,1} \\in \\{0, 1\\}\\\\\n",
       " & Alpha_{2,1} \\in \\{0, 1\\}\\\\\n",
       " & Alpha_{3,1} \\in \\{0, 1\\}\\\\\n",
       " & Alpha_{1,2} \\in \\{0, 1\\}\\\\\n",
       " & Alpha_{2,2} \\in \\{0, 1\\}\\\\\n",
       " & Alpha_{3,2} \\in \\{0, 1\\}\\\\\n",
       " & Y_{1} \\in \\{0, 1\\}\\\\\n",
       " & Y_{2} \\in \\{0, 1\\}\\\\\n",
       " & Y_{3} \\in \\{0, 1\\}\\\\\n",
       "\\end{aligned} $$"
      ]
     },
     "metadata": {},
     "output_type": "display_data"
    }
   ],
   "source": [
    "using JuMP\n",
    "latex_formulation(upper_model)\n",
    "# Problem is that etiher P_ij or Q_ij_k"
   ]
  },
  {
   "cell_type": "code",
   "execution_count": 6,
   "metadata": {},
   "outputs": [
    {
     "name": "stdout",
     "output_type": "stream",
     "text": [
      "Gurobi Optimizer version 10.0.0 build v10.0.0rc2 (mac64[arm])\n",
      "\n",
      "CPU model: Apple M1 Pro\n",
      "Thread count: 10 physical cores, 10 logical processors, using up to 10 threads\n",
      "\n",
      "Optimize a model with 68 rows, 53 columns and 221 nonzeros\n",
      "Model fingerprint: 0x8f2e82b3\n",
      "Model has 5 quadratic constraints\n",
      "Variable types: 42 continuous, 11 integer (11 binary)\n",
      "Coefficient statistics:\n",
      "  Matrix range     [2e-09, 1e+02]\n",
      "  QMatrix range    [1e+00, 1e+00]\n",
      "  Objective range  [4e-03, 2e+01]\n",
      "  Bounds range     [9e-01, 1e+00]\n",
      "  RHS range        [4e-02, 2e+00]\n",
      "Presolved: 45 rows, 42 columns, 165 nonzeros\n",
      "Presolved model has 5 quadratic constraint(s)\n",
      "\n",
      "Continuing optimization...\n",
      "\n",
      "\n",
      "Cutting planes:\n",
      "  Clique: 1\n",
      "  MIR: 4\n",
      "  Flow cover: 5\n",
      "\n",
      "Explored 1 nodes (41 simplex iterations) in 0.00 seconds (0.00 work units)\n",
      "Thread count was 10 (of 10 available processors)\n",
      "\n",
      "Solution count 1: 4.02752 \n",
      "\n",
      "Optimal solution found (tolerance 1.00e-02)\n",
      "Best objective 4.027515630488e+00, best bound 4.027513927691e+00, gap 0.0000%\n",
      "\n",
      "User-callback calls 35, time in user-callback 0.00 sec\n"
     ]
    },
    {
     "data": {
      "text/plain": [
       "(4.027515630488462, Dict{Symbol, Array{Float64}}(:P_sub => [0.17941793649748322 0.0], :Q_sub => [0.08689675761155029 0.0], :I_sqr_k => [0.03974676501252094 0.0 0.010416017353809074;;; 5.368855451589995e-7 0.0 1.1225615023301025e-7], :Beta => [1.0, 0.0], :Q_ij_k => [0.08689675761592844 0.0 0.04431679972218616;;; 0.0 0.0 0.0], :P_ij_k => [0.1794179365061938 0.0 0.09150244651466717;;; 0.0 0.0 0.0], :Y => [1.0, 0.0, 1.0], :S_sub_capa => [0.1993535643403162, 0.0], :V_sqr => [1.0 0.9534883187450346 0.9999771487259068 0.9999654946464835], :S_sub => [0.1993535643403162 0.0]…), 0.00018715858459472656)"
      ]
     },
     "metadata": {},
     "output_type": "display_data"
    }
   ],
   "source": [
    "objective, var_values, time = UpperLevel.solve_model(upper_model)\n",
    "\n",
    "# What to do is to update the structures when going through this function\n"
   ]
  },
  {
   "cell_type": "code",
   "execution_count": null,
   "metadata": {},
   "outputs": [],
   "source": [
    "# Represent graphically the model "
   ]
  }
 ],
 "metadata": {
  "kernelspec": {
   "display_name": "Julia 1.8.2",
   "language": "julia",
   "name": "julia-1.8"
  },
  "language_info": {
   "file_extension": ".jl",
   "mimetype": "application/julia",
   "name": "julia",
   "version": "1.8.2"
  },
  "orig_nbformat": 4
 },
 "nbformat": 4,
 "nbformat_minor": 2
}
