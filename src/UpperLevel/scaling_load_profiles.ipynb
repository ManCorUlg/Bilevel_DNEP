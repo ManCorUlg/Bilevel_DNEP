{
 "cells": [
  {
   "cell_type": "code",
   "execution_count": 19,
   "metadata": {},
   "outputs": [
    {
     "data": {
      "text/plain": [
       "build_daily_LCT_profiles (generic function with 1 method)"
      ]
     },
     "execution_count": 19,
     "metadata": {},
     "output_type": "execute_result"
    }
   ],
   "source": [
    "# -- LIBRAIRIES & INCLUDE FUNCTION FILES --#\n",
    "\n",
    "import XLSX\n",
    "import DataFrames\n",
    "include(\"building_profiles.jl\")"
   ]
  },
  {
   "cell_type": "code",
   "execution_count": 13,
   "metadata": {},
   "outputs": [
    {
     "data": {
      "text/plain": [
       "4-element Vector{String}:\n",
       " \"/Users/manoncornet/Documents/Un\" ⋯ 39 bytes ⋯ \"rofiles/Summer_PV_Profiles.xlsx\"\n",
       " \"/Users/manoncornet/Documents/Un\" ⋯ 40 bytes ⋯ \"ofiles/Summer_EHP_Profiles.xlsx\"\n",
       " \"/Users/manoncornet/Documents/Un\" ⋯ 39 bytes ⋯ \"rofiles/Winter_EV_Profiles.xlsx\"\n",
       " \"/Users/manoncornet/Documents/Un\" ⋯ 41 bytes ⋯ \"files/Winter_uCHP_Profiles.xlsx\""
      ]
     },
     "execution_count": 13,
     "metadata": {},
     "output_type": "execute_result"
    }
   ],
   "source": [
    "# -- LOAD PROFILES PATH --#\n",
    "\n",
    "PROF_PATH = joinpath(splitdir(@__DIR__)[1], \"Manchester_data/LCT_profiles\")\n",
    "\n",
    "\n",
    "load_files = [joinpath(PROF_PATH, \"Summer_Load_Profiles.xlsx\"),\n",
    "              joinpath(PROF_PATH, \"Winter_Load_Profiles.xlsx\")\n",
    "              ]\n",
    "\n",
    "LCT_files = [joinpath(PROF_PATH, \"Summer_PV_Profiles.xlsx\"),\n",
    "             joinpath(PROF_PATH, \"Summer_EHP_Profiles.xlsx\"),\n",
    "             joinpath(PROF_PATH, \"Winter_EV_Profiles.xlsx\"),\n",
    "             joinpath(PROF_PATH, \"Winter_uCHP_Profiles.xlsx\")\n",
    "             ]"
   ]
  },
  {
   "cell_type": "code",
   "execution_count": 14,
   "metadata": {},
   "outputs": [
    {
     "data": {
      "text/plain": [
       "\"/Users/manoncornet/Documents/University/TFE/DNEP/network_models/network_Nahman_Peric_2S23H.xlsx\""
      ]
     },
     "execution_count": 14,
     "metadata": {},
     "output_type": "execute_result"
    }
   ],
   "source": [
    "# -- NETWORK FILE PATH --\n",
    "\n",
    "XLSX_FILE_PATH = joinpath(splitdir(@__DIR__)[1], \"network_models/network_Nahman_Peric_2S23H.xlsx\")"
   ]
  },
  {
   "cell_type": "code",
   "execution_count": 38,
   "metadata": {},
   "outputs": [
    {
     "name": "stdout",
     "output_type": "stream",
     "text": [
      "[0.64 0.32 0.32 0.32 0.32 0.32 0.32 0.32 0.32 0.32 0.32 0.32 0.32 0.32 0.32 0.32 0.32 0.32 0.32 0.32 0.32]\n"
     ]
    }
   ],
   "source": [
    "# -- SCALING THE LOAD PROFILE DATA --\n",
    "\n",
    "df_bus  = DataFrames.DataFrame(XLSX.readtable(XLSX_FILE_PATH, \"bus\"))\n",
    "Ns_size = sum(df_bus.type .== \"substation\") # nb of substation buses\n",
    "Nu_size = sum(df_bus.type .== \"user\")       # nb of load nodes\n",
    "Nu = (1:Nu_size) .+ Ns_size                 # set of load buses     \n",
    "\n",
    "# Get the max power demand repartition among the nodes in MVA\n",
    "cos_phi = 1\n",
    "S_D     = convert(Vector{Float64}, df_bus.S_D_mva)[Nu]  # [MVA]\n",
    "P_D     = S_D * cos_phi                                 # [MW]\n",
    "Q_D     = S_D * sin(acos(cos_phi))                      # [MVar]                            \n",
    "\n",
    "# The Manchester load profiles are in kW => active power \n",
    "load_profiles = build_daily_load_profiles(load_files; nb_loads = 21) .* 1e-3 # [MW]\n",
    "\n",
    "function norm_col(array::Array{Float64})\n",
    "    return array ./ maximum(array, dims=1)\n",
    "end\n",
    "\n",
    "norm_load_profiles = norm_col(load_profiles)\n",
    "\n",
    "scaled_load_profiles = norm_load_profiles .* P_D'\n",
    "println(maximum(scaled_load_profiles, dims=1))"
   ]
  }
 ],
 "metadata": {
  "kernelspec": {
   "display_name": "Julia 1.8.2",
   "language": "julia",
   "name": "julia-1.8"
  },
  "language_info": {
   "file_extension": ".jl",
   "mimetype": "application/julia",
   "name": "julia",
   "version": "1.8.2"
  },
  "orig_nbformat": 4
 },
 "nbformat": 4,
 "nbformat_minor": 2
}
