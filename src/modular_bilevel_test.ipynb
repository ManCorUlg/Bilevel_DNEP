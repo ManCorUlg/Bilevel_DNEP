{
 "cells": [
  {
   "cell_type": "code",
   "execution_count": null,
   "metadata": {},
   "outputs": [],
   "source": [
    "include(\"./Bilevel/Bilevel.jl\")\n",
    "include(\"utils.jl\")\n",
    "using .Bilevel\n",
    "using Plots\n",
    "using ArgParse, PrettyTables"
   ]
  },
  {
   "cell_type": "code",
   "execution_count": null,
   "metadata": {},
   "outputs": [],
   "source": [
    "# -- DEFAULT PARAMETERS OF A SIMULATION --\n",
    "verbose     = true\n",
    "\n",
    "# ------- Choice of the model -------\n",
    "bilevel     = false \n",
    "storage     = false \n",
    "\n",
    "# ------- Profiles parameters -------\n",
    "nb_days     = 2 \n",
    "delta_t     = 60 \n",
    "peak_power  = 7.0 \n",
    "EV          = false \n",
    "EHP         = false \n",
    "\n",
    "# ------- Users parameters -------\n",
    "PV_pen        = 1.0     \n",
    "storage_pen   = 1.0   \n",
    "storage_eff   = 0.98\n",
    "storage_cost  = 500.0   # kEUR/MVA\n",
    "amort_storage = 15      # years\n",
    "PV_capa       = 0.4     # max in MVA\n",
    "PV_cost       = 500.0   # EUR/kWc \n",
    "PV_conv_cost  = 200.0   # kEUR/MVA\n",
    "amort_PV_conv = 10      # years\n",
    "amort_PV      = 25      # years \n",
    "EIC           = 0.3     # EUR/kWh  \n",
    "EEC           = 0.1     # EUR/kWh   \n",
    "DSOEC         = 0.1     # EUR/kWh  \n",
    "GCC           = 80.0    # EUR/kVA_year\n",
    "cos_phi       = 0.95  \n",
    "\n",
    "# ------- DSO parameters -------\n",
    "substation_cost   = 1e3  # kEUR/MVA\n",
    "amort_DSO         = 50  \n",
    "interest_rate_DSO = 0.06 \n",
    "money_basis = 1.0\n",
    "weight_I = weight_V = 1.0e-2\n",
    "weight_obj1 = weight_obj2 = 1.0"
   ]
  },
  {
   "cell_type": "code",
   "execution_count": null,
   "metadata": {},
   "outputs": [],
   "source": [
    "include(\"main_bilevel.jl\")\n",
    "network.buses"
   ]
  },
  {
   "cell_type": "code",
   "execution_count": null,
   "metadata": {},
   "outputs": [],
   "source": [
    "model = Bilevel.build_model(simulation; set_names=true)\n",
    "simulation.storage"
   ]
  },
  {
   "cell_type": "code",
   "execution_count": null,
   "metadata": {},
   "outputs": [],
   "source": [
    "return_value = Bilevel.solve_model(model, formulation.powerflow)\n",
    "save_struct(network_topology, \"network_topology.json\")\n",
    "save_struct(network, \"network_data.json\")"
   ]
  },
  {
   "cell_type": "code",
   "execution_count": null,
   "metadata": {},
   "outputs": [],
   "source": [
    "thesis_dir = \"/Users/manoncornet/Documents/University/TFE/ThesisWriting/Master_Thesis/figures\" \n",
    "for t in 1:model[:time_steps]\n",
    "    Bilevel.print_network_tikz(model[:network_data], t, 40, 40; dir=thesis_dir, filename=\"OneLevel_graph_$(t)\")\n",
    "end"
   ]
  },
  {
   "cell_type": "code",
   "execution_count": null,
   "metadata": {},
   "outputs": [],
   "source": [
    "Bilevel.print_case_description(model)"
   ]
  },
  {
   "cell_type": "code",
   "execution_count": null,
   "metadata": {},
   "outputs": [],
   "source": [
    "Bilevel.print_network_results(model)"
   ]
  },
  {
   "cell_type": "code",
   "execution_count": null,
   "metadata": {},
   "outputs": [],
   "source": [
    "using JuMP\n",
    "function print_cost_results(model; latex=false)\n",
    "    network = model[:network_data]\n",
    "    DSO_costs = model[:DSO_costs]\n",
    "\n",
    "\n",
    "    L = get_nb_lines(network)\n",
    "    K = get_nb_conductors(network)\n",
    "    lines = network.lines \n",
    "    conductors = network.conductors\n",
    "\n",
    "    # Investements to build new lines in k€\n",
    "    DSO_fixed_line = value(sum(model[:Alpha][l, k] * lines[l].length * conductors[k].cost for l in 1:L, k in 1:K))\n",
    "\n",
    "    BASE_POWER = network.pu_basis.base_power\n",
    "    SUB_COST = DSO_costs.substation\n",
    "    Ns = get_nb_substations(network)\n",
    "   \n",
    "    # Investements to build new substations in k€\n",
    "    DSO_fixed_sub = value(sum(model[:S_sub_capa][i] * BASE_POWER * SUB_COST for i in 1:Ns))\n",
    "\n",
    "   \n",
    "    # Operational costs of losses on the length of the horizon\n",
    "    DSO_loss = value(model[:DSO_loss_costs]) * DSO_costs.amortization\n",
    "\n",
    "    # DSO future value: DSO should get back what he must pay per year for the investment + a certain margin\n",
    "    DSO_future_value = value(model[:DSO_fixed_costs]) * ((1 + DSO_costs.interest_rate)^DSO_costs.amortization) + value(model[:DSO_loss_costs]) * DSO_costs.amortization\n",
    "\n",
    "    # DSO revenues\n",
    "    DSO_revenues = value(sum(model[:grid_costs])) * DSO_costs.amortization\n",
    "    # Other costs\n",
    "    user_costs = value(sum(model[:user_costs]))\n",
    "    PV_costs = value(sum(model[:PV_costs]))\n",
    "    grid_costs = value(sum(model[:grid_costs]))\n",
    "    energy_costs = value(sum(model[:energy_costs]))\n",
    "    energy_revenues = value(sum(model[:energy_revenues]))\n",
    "    if model[:storage]\n",
    "        stor_costs = value(sum(model[:storage_costs]))\n",
    "        kpis_header = ([\"DSO fixed line\", \"DSO fixed sub\", \"DSO loss\", \"DSO future value\", \"DSO revenues\", \"User\", \"PV\", \"Storage\", \"Grid connection\", \"Energy imported\", \"Energy exported\"],\n",
    "        [\"kEUR\", \"kEUR\", \"kEUR\", \"kEUR\", \"kEUR\", \"kEUR/year\", \"kEUR/year\", \"kEUR/year\", \"kEUR/year\", \"kEUR/year\", \"kEUR/year\"])\n",
    "        kpis = sig_round([DSO_fixed_line DSO_fixed_sub DSO_loss DSO_future_value DSO_revenues user_costs PV_costs stor_costs grid_costs energy_costs energy_revenues])\n",
    "    end\n",
    "    kpis_header = ([\"DSO fixed line\", \"DSO fixed sub\", \"DSO loss\", \"DSO future value\", \"DSO revenues\", \"User\", \"PV\", \"Grid connection\", \"Energy imported\", \"Energy exported\"],\n",
    "        [\"kEUR\", \"kEUR\", \"kEUR\", \"kEUR\", \"kEUR\", \"kEUR/year\", \"kEUR/year\", \"kEUR/year\", \"kEUR/year\", \"kEUR/year\"])\n",
    "    kpis = sig_round([DSO_fixed_line DSO_fixed_sub DSO_loss DSO_future_value DSO_revenues user_costs PV_costs grid_costs energy_costs energy_revenues])\n",
    "    if latex\n",
    "        pretty_table(kpis, header=kpis_header, backend=Val(:latex))\n",
    "    else\n",
    "        pretty_table(kpis, header=kpis_header)\n",
    "    end\n",
    "    # returns the table as a Matrix\n",
    "    return vcat([i[j] for i in kpis_header, j in 1:length(kpis_header[1])], kpis)\n",
    "end"
   ]
  },
  {
   "cell_type": "code",
   "execution_count": null,
   "metadata": {},
   "outputs": [],
   "source": [
    "function sig_round(x)\n",
    "    for (i, a) in enumerate(x)\n",
    "        if isa(a, AbstractFloat)\n",
    "            x[i] = round(a, sigdigits=4)\n",
    "            if abs(a) < 1e-3\n",
    "                x[i] = 0\n",
    "            end\n",
    "        end\n",
    "    end\n",
    "    return x\n",
    "end"
   ]
  },
  {
   "cell_type": "code",
   "execution_count": null,
   "metadata": {},
   "outputs": [],
   "source": [
    "print_cost_results(model)"
   ]
  },
  {
   "cell_type": "code",
   "execution_count": null,
   "metadata": {},
   "outputs": [],
   "source": [
    "function print_case_results(model; latex=false)\n",
    "    DAYS_A_YEAR = 365\n",
    "    DELTA_T = model[:delta_t]\n",
    "    NB_PROFILES = model[:nb_sign_days]\n",
    "   \n",
    "    MULTIPLIER = DELTA_T/60 * DAYS_A_YEAR / NB_PROFILES\n",
    "    # PV penetration : p_pv max = peak PV \n",
    "    PV_penetration = sum(value.(model[:p_pv_max]))\n",
    "    # PV energy\n",
    "    PV_energy = sum(value.(model[:p_pv])) * MULTIPLIER / PV_penetration\n",
    "\n",
    "    # PV potential\n",
    "    network = model[:network_data]\n",
    "    Nu = get_nb_loads(network)\n",
    "    Ns = get_nb_substations(network)\n",
    "    T  = model[:time_steps]\n",
    "    buses = network.buses \n",
    "    PV_prod = [(isnothing(buses[Ns + i].PV_installation) ? zeros(Float64, T) : buses[Ns + i].PV_installation.profile.time_serie) for i in 1:Nu]\n",
    "\n",
    "    PV_potential = sum(PV_prod[i][t] * value(model[:p_pv_max][i]) for i in 1:Nu, t in 1:T) * MULTIPLIER / PV_penetration\n",
    "\n",
    "    # Energy exchanges with grid\n",
    "    energy_to_grid = value(sum(model[:p_exp])) * MULTIPLIER\n",
    "    energy_from_grid = value(sum(model[:p_imp])) * MULTIPLIER\n",
    "\n",
    "    # Substations capa\n",
    "    sub_init_capa = [buses[i].S_rating for i in 1:Ns]\n",
    "    substation1_capacity = sub_init_capa[1]\n",
    "    substation2_capacity = sub_init_capa[2]\n",
    "    kpis_header = ([\"PV penetration\", \"PV production\", \"PV potential\", \"Energy bought from grid\", \"Energy sold to grid\", \"Substation1 capacity\", \"Substation2 capacity\"], [\"MVA\", \"MWh/MVA/year\", \"MWh/MVA/year\", \"MWh/year\", \"MWh/year\", \"MVA\", \"MVA\"])\n",
    "    kpis = sig_round([PV_penetration PV_energy PV_potential energy_from_grid energy_to_grid substation1_capacity substation2_capacity])\n",
    "    if latex\n",
    "        pretty_table(kpis, header=kpis_header, backend=Val(:latex))\n",
    "    else\n",
    "        pretty_table(kpis, header=kpis_header)\n",
    "    end\n",
    "    # returns the table as a Matrix\n",
    "    return vcat([i[j] for i in kpis_header, j in 1:length(kpis_header[1])], kpis)\n",
    "end"
   ]
  },
  {
   "cell_type": "code",
   "execution_count": null,
   "metadata": {},
   "outputs": [],
   "source": [
    "print_case_results(model)"
   ]
  },
  {
   "cell_type": "code",
   "execution_count": null,
   "metadata": {},
   "outputs": [],
   "source": [
    "function print_network_results(model; latex=false)\n",
    "    network = model[:network_data]\n",
    "    nb_lines_built = 0\n",
    "    for l in network.lines \n",
    "        if l.built \n",
    "            nb_lines_built += 1\n",
    "        end\n",
    "    end\n",
    "\n",
    "    Ns = get_nb_substations(network)\n",
    "    buses = network.buses\n",
    "    nb_substations = 0\n",
    "    for i in 1:Ns\n",
    "        if buses[i].built\n",
    "            nb_substations += 1\n",
    "        end\n",
    "    end\n",
    " \n",
    "    K = get_nb_conductors(network)\n",
    "    cond_string = [\"Nb lines cond \"*string(i) for i in 1:K]\n",
    "\n",
    "    lines_cond = [[i for (i, a) in enumerate(value.(model[:Alpha])[:, j]) if isapprox(a, 1, rtol=1e-2)] for j in 1:K]\n",
    "\n",
    "    kpis_header = ([[\"Nb lines built\", \"Nb substations\"];cond_string], [[\"-\", \"-\"];fill(\"-\", 1:K)])\n",
    "    kpis = reshape(string.([[nb_lines_built, nb_substations];lines_cond]),1,:)\n",
    "    if latex\n",
    "        pretty_table(kpis, header=kpis_header, backend=Val(:latex))\n",
    "    else\n",
    "        pretty_table(kpis, header=kpis_header)\n",
    "    end\n",
    "    # returns the table as a Matrix\n",
    "    return vcat([i[j] for i in kpis_header, j in 1:length(kpis_header[1])], kpis)\n",
    "end\n"
   ]
  },
  {
   "cell_type": "code",
   "execution_count": null,
   "metadata": {},
   "outputs": [],
   "source": [
    "print_network_results(model)"
   ]
  }
 ],
 "metadata": {
  "kernelspec": {
   "display_name": "Bilevel_DNEP 1.9.1",
   "language": "julia",
   "name": "bilevel_dnep-1.9"
  },
  "language_info": {
   "file_extension": ".jl",
   "mimetype": "application/julia",
   "name": "julia",
   "version": "1.9.1"
  },
  "orig_nbformat": 4
 },
 "nbformat": 4,
 "nbformat_minor": 2
}
