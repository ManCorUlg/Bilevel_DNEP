{
 "cells": [
  {
   "cell_type": "code",
   "execution_count": 1,
   "metadata": {},
   "outputs": [],
   "source": [
    "include(\"./Bilevel/Bilevel.jl\")\n",
    "include(\"utils.jl\")\n",
    "using .Bilevel\n",
    "using Plots\n",
    "using ArgParse, PrettyTables"
   ]
  },
  {
   "cell_type": "code",
   "execution_count": null,
   "metadata": {},
   "outputs": [],
   "source": [
    "# -- DEFAULT PARAMETERS OF A SIMULATION --\n",
    "verbose     = true\n",
    "\n",
    "# ------- Choice of the model -------\n",
    "bilevel     = false \n",
    "storage     = false \n",
    "\n",
    "# ------- Profiles parameters -------\n",
    "nb_days     = 2 \n",
    "delta_t     = 60 \n",
    "peak_power  = 7.0 \n",
    "EV          = false \n",
    "EHP         = false \n",
    "\n",
    "# ------- Users parameters -------\n",
    "PV_pen        = 1.0     \n",
    "storage_pen   = 1.0   \n",
    "storage_eff   = 0.98\n",
    "storage_cost  = 500.0   # kEUR/MVA\n",
    "amort_storage = 15      # years\n",
    "PV_capa       = 0.4     # max in MVA\n",
    "PV_cost       = 500.0   # EUR/kWc \n",
    "PV_conv_cost  = 200.0   # kEUR/MVA\n",
    "amort_PV_conv = 10      # years\n",
    "amort_PV      = 25      # years \n",
    "EIC           = 0.3     # EUR/kWh  \n",
    "EEC           = 0.1     # EUR/kWh   \n",
    "DSOEC         = 0.1     # EUR/kWh  \n",
    "GCC           = 80.0    # EUR/kVA_year\n",
    "cos_phi       = 0.95  \n",
    "\n",
    "# ------- DSO parameters -------\n",
    "substation_cost   = 1e3  # kEUR/MVA\n",
    "amort_DSO         = 50  \n",
    "interest_rate_DSO = 0.06 \n",
    "money_basis = 1.0\n",
    "weight_I = weight_V = 1.0e-2\n",
    "weight_obj1 = weight_obj2 = 1.0"
   ]
  },
  {
   "cell_type": "code",
   "execution_count": 5,
   "metadata": {},
   "outputs": [
    {
     "name": "stdout",
     "output_type": "stream",
     "text": [
      "#--------------------------------------------------------------------------------\n",
      "#                                                                                \n",
      "#                                  Bilevel DNEP                                   \n",
      "#                                                                                \n",
      "#                                Graduation work                                 \n",
      "#                                                                                \n",
      "#--------------------------------------------------------------------------------\n",
      "# @ Manon Cornet\n",
      "\n",
      "Running a simulation with the following characteristics:\n",
      "--------------------------------------------------------\n",
      "\n",
      "╭─────────────┬───────┬───────┬─────────┬─────────┬─────────┬─────────┬─────────┬───────────╮\n",
      "│\u001b[33;1m  Model Type \u001b[0m│\u001b[33;1m    EV \u001b[0m│\u001b[33;1m   EHP \u001b[0m│\u001b[33;1m Delta_t \u001b[0m│\u001b[33;1m PV_CAPA \u001b[0m│\u001b[33;1m     EIC \u001b[0m│\u001b[33;1m     EEC \u001b[0m│\u001b[33;1m   DSOEC \u001b[0m│\u001b[33;1m       GCC \u001b[0m│\n",
      "│\u001b[90m         [-] \u001b[0m│\u001b[90m   [-] \u001b[0m│\u001b[90m   [-] \u001b[0m│\u001b[90m   [min] \u001b[0m│\u001b[90m   [MVA] \u001b[0m│\u001b[90m [€/kWh] \u001b[0m│\u001b[90m [€/kWh] \u001b[0m│\u001b[90m [€/kWh] \u001b[0m│\u001b[90m [€/kVA/y] \u001b[0m│\n",
      "├─────────────┼───────┼───────┼─────────┼─────────┼─────────┼─────────┼─────────┼───────────┤\n",
      "│ singlelevel │ false │ false │     720 │     0.4 │     0.3 │     0.1 │     0.1 │      80.0 │\n",
      "╰─────────────┴───────┴───────┴─────────┴─────────┴─────────┴─────────┴─────────┴───────────╯\n",
      "#--------------------------------------------------------------------------------\n",
      "1:1\n"
     ]
    },
    {
     "data": {
      "text/plain": [
       "4-element Vector{Main.Bilevel.Bus}:\n",
       " Main.Bilevel.Substation(Main.Bilevel.Node(1, (x = 0.0, y = 0.1)), false, (V_min = 0.95, V_max = 1.05), 15.0, 0.0, nothing, nothing, nothing)\n",
       " Main.Bilevel.Substation(Main.Bilevel.Node(2, (x = 0.0, y = 0.0)), false, (V_min = 0.95, V_max = 1.05), 15.0, 0.0, nothing, nothing, nothing)\n",
       " Main.Bilevel.User(Main.Bilevel.Node(3, (x = 0.1, y = 0.1)), (V_min = 0.95, V_max = 1.05), 0.4, nothing, Main.Bilevel.Profile([0.86704535386329, 0.6751924683412124, 0.24981686633378278, 1.5789764924404954], 720), Main.Bilevel.PV(Main.Bilevel.Profile([1.0, 0.9190765189761652, 0.1, 0.09190765189761652], 720), (max_q = 0.3, slope = -1.0), nothing, nothing, nothing), Storage(0.98, nothing, nothing, nothing), 0.9)\n",
       " Main.Bilevel.User(Main.Bilevel.Node(4, (x = 0.2, y = 0.1)), (V_min = 0.95, V_max = 1.05), 0.4, nothing, Main.Bilevel.Profile([0.28666628695107366, 0.24837434261737962, 0.46309441311790805, 0.7650165650927456], 720), nothing, nothing, 0.9)"
      ]
     },
     "execution_count": 5,
     "metadata": {},
     "output_type": "execute_result"
    }
   ],
   "source": [
    "include(\"main_bilevel.jl\")\n",
    "network.buses\n"
   ]
  },
  {
   "cell_type": "code",
   "execution_count": 6,
   "metadata": {},
   "outputs": [
    {
     "name": "stdout",
     "output_type": "stream",
     "text": [
      "Set parameter Username\n",
      "Academic license - for non-commercial use only - expires 2023-11-10\n",
      "Set parameter TimeLimit to value 600\n",
      "Set parameter MIPGap to value 0.01\n",
      "Set parameter MIPFocus to value 1\n"
     ]
    },
    {
     "name": "stderr",
     "output_type": "stream",
     "text": [
      "\u001b[36m\u001b[1m[ \u001b[22m\u001b[39m\u001b[36m\u001b[1mInfo: \u001b[22m\u001b[39mBuilding model...\n",
      "\u001b[36m\u001b[1m[ \u001b[22m\u001b[39m\u001b[36m\u001b[1mInfo: \u001b[22m\u001b[39mBuilt model in 0.01 seconds\n"
     ]
    },
    {
     "data": {
      "text/plain": [
       "true"
      ]
     },
     "execution_count": 6,
     "metadata": {},
     "output_type": "execute_result"
    }
   ],
   "source": [
    "model = Bilevel.build_model(simulation; set_names=true)\n",
    "simulation.storage"
   ]
  },
  {
   "cell_type": "code",
   "execution_count": 7,
   "metadata": {},
   "outputs": [
    {
     "name": "stdout",
     "output_type": "stream",
     "text": [
      "Set parameter MIPGap to value 0.01\n",
      "Set parameter MIPFocus to value 1\n",
      "Set parameter TimeLimit to value 600\n",
      "Gurobi Optimizer version 10.0.0 build v10.0.0rc2 (mac64[arm])\n",
      "\n",
      "CPU model: Apple M1 Pro\n",
      "Thread count: 10 physical cores, 10 logical processors, using up to 10 threads\n",
      "\n",
      "Optimize a model with 474 rows, 333 columns and 1772 nonzeros\n",
      "Model fingerprint: 0x0469c5cf\n",
      "Model has 20 quadratic constraints\n",
      "Variable types: 316 continuous, 17 integer (17 binary)\n",
      "Coefficient statistics:\n",
      "  Matrix range     [1e-09, 2e+05]\n",
      "  QMatrix range    [1e+00, 1e+00]\n",
      "  Objective range  [2e-02, 1e+00]\n",
      "  Bounds range     [4e-01, 1e+00]\n",
      "  RHS range        [1e-01, 1e+01]\n",
      "Warning: Model contains large matrix coefficient range\n",
      "         Consider reformulating model or setting NumericFocus parameter\n",
      "         to avoid numerical issues.\n",
      "Presolve removed 204 rows and 95 columns\n",
      "Presolve time: 0.00s\n",
      "Presolved: 270 rows, 238 columns, 1194 nonzeros\n",
      "Presolved model has 20 quadratic constraint(s)\n",
      "Variable types: 224 continuous, 14 integer (14 binary)\n",
      "\n",
      "Root relaxation: objective 3.664841e+05, 53 iterations, 0.00 seconds (0.00 work units)\n",
      "\n",
      "    Nodes    |    Current Node    |     Objective Bounds      |     Work\n",
      " Expl Unexpl |  Obj  Depth IntInf | Incumbent    BestBd   Gap | It/Node Time\n",
      "\n",
      "     0     0 366484.083    0    2          - 366484.083      -     -    0s\n",
      "     0     0 366484.094    0    7          - 366484.094      -     -    0s\n",
      "     0     0 366530.315    0    2          - 366530.315      -     -    0s\n",
      "     0     0 366530.320    0    7          - 366530.320      -     -    0s\n",
      "     0     0 366530.345    0    6          - 366530.345      -     -    0s\n",
      "     0     0 366530.346    0    6          - 366530.346      -     -    0s\n",
      "H    0     0                    366530.53731 366530.346  0.00%     -    0s\n",
      "\n",
      "Cutting planes:\n",
      "  Implied bound: 35\n",
      "  MIR: 18\n",
      "  Flow cover: 29\n",
      "  Relax-and-lift: 15\n",
      "\n",
      "Explored 1 nodes (349 simplex iterations) in 0.04 seconds (0.02 work units)\n",
      "Thread count was 10 (of 10 available processors)\n",
      "\n",
      "Solution count 1: 366531 \n",
      "\n",
      "Optimal solution found (tolerance 1.00e-02)\n",
      "Best objective 3.665305373114e+05, best bound 3.665303456756e+05, gap 0.0001%\n",
      "\n",
      "User-callback calls 814, time in user-callback 0.00 sec\n"
     ]
    },
    {
     "data": {
      "text/plain": [
       "2-element Vector{Float64}:\n",
       " 0.0\n",
       " 0.0"
      ]
     },
     "execution_count": 7,
     "metadata": {},
     "output_type": "execute_result"
    }
   ],
   "source": [
    "return_value = Bilevel.solve_model(model, formulation.powerflow)\n",
    "save_struct(network_topology, \"network_topology.json\")\n",
    "save_struct(network, \"network_data.json\")\n",
    "using JuMP\n",
    "value.(model[:storage_capacity])"
   ]
  },
  {
   "cell_type": "code",
   "execution_count": null,
   "metadata": {},
   "outputs": [],
   "source": [
    "thesis_dir = \"/Users/manoncornet/Documents/University/TFE/ThesisWriting/Master_Thesis/figures\" \n",
    "for t in 1:model[:time_steps]\n",
    "    Bilevel.print_network_tikz(model[:network_data], t, 40, 40; dir=thesis_dir, filename=\"OneLevel_graph_$(t)\")\n",
    "end"
   ]
  }
 ],
 "metadata": {
  "kernelspec": {
   "display_name": "Bilevel_DNEP 1.9.1",
   "language": "julia",
   "name": "bilevel_dnep-1.9"
  },
  "language_info": {
   "file_extension": ".jl",
   "mimetype": "application/julia",
   "name": "julia",
   "version": "1.9.1"
  },
  "orig_nbformat": 4
 },
 "nbformat": 4,
 "nbformat_minor": 2
}
