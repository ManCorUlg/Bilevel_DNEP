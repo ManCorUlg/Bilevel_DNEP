{
 "cells": [
  {
   "cell_type": "code",
   "execution_count": 4,
   "metadata": {},
   "outputs": [
    {
     "ename": "LoadError",
     "evalue": "LoadError: UndefVarError: VLim not defined\nin expression starting at /Users/manoncornet/Documents/University/TFE/Bilevel_DNEP/src/Bilevel/structs.jl:79",
     "output_type": "error",
     "traceback": [
      "LoadError: UndefVarError: VLim not defined\n",
      "in expression starting at /Users/manoncornet/Documents/University/TFE/Bilevel_DNEP/src/Bilevel/structs.jl:79\n",
      "\n",
      "Stacktrace:\n",
      " [1] top-level scope\n",
      "   @ ~/Documents/University/TFE/Bilevel_DNEP/src/Bilevel/structs.jl:79"
     ]
    }
   ],
   "source": [
    "import DataFrames \n",
    "import XLSX\n",
    "include(\"structs.jl\")"
   ]
  },
  {
   "cell_type": "code",
   "execution_count": 5,
   "metadata": {},
   "outputs": [
    {
     "data": {
      "text/plain": [
       "\"/Users/manoncornet/Documents/University/TFE/Bilevel_DNEP/\""
      ]
     },
     "metadata": {},
     "output_type": "display_data"
    }
   ],
   "source": [
    "# -- FETCHING THE PATH OF THE ROOT DIRECTORY --\n",
    "\n",
    "root_dir = normpath(joinpath(@__FILE__,\"..\",\"..\",\"..\"))"
   ]
  },
  {
   "cell_type": "code",
   "execution_count": 6,
   "metadata": {},
   "outputs": [
    {
     "data": {
      "text/plain": [
       "\"/Users/manoncornet/Documents/University/TFE/Bilevel_DNEP/NetworkModels/network_Nahman_Peric_2S23H.xlsx\""
      ]
     },
     "metadata": {},
     "output_type": "display_data"
    }
   ],
   "source": [
    "# -- LOADING THE EXCEL FILE CONTAINING THE NETWORK TOPOLOGY --\n",
    "\n",
    "network_data_dir = joinpath(root_dir, \"NetworkModels\")\n",
    "XLSX_NETWORK_PATH = joinpath(network_data_dir, \"network_Nahman_Peric_2S23H.xlsx\")"
   ]
  },
  {
   "cell_type": "code",
   "execution_count": 7,
   "metadata": {},
   "outputs": [
    {
     "data": {
      "text/plain": [
       "\"/Users/manoncornet/Documents/University/TFE/Bilevel_DNEP/ManchesterData/LCT_profiles/Winter_EHP_Profiles.xlsx\""
      ]
     },
     "metadata": {},
     "output_type": "display_data"
    }
   ],
   "source": [
    "# -- LOADING THE EXCEL FILES CONTAINING THE DATA FOR LOAD AND PV PROFILES --\n",
    "\n",
    "profiles_data_dir = joinpath(root_dir, \"ManchesterData\", \"LCT_profiles\")\n",
    "XLSX_SUMMER_LOAD_PATH = joinpath(profiles_data_dir, \"Summer_Load_Profiles.xlsx\")\n",
    "XLSX_WINTER_LOAD_PATH = joinpath(profiles_data_dir, \"Winter_Load_Profiles.xlsx\")\n",
    "XLSX_PV_PATH = joinpath(profiles_data_dir, \"Summer_PV_Profiles.xlsx\")\n",
    "XLSX_EV_PATH = joinpath(profiles_data_dir, \"Winter_EV_Profiles.xlsx\")\n",
    "XLSX_HP_PATH = joinpath(profiles_data_dir, \"Winter_EHP_Profiles.xlsx\")"
   ]
  },
  {
   "cell_type": "code",
   "execution_count": 8,
   "metadata": {},
   "outputs": [
    {
     "data": {
      "text/plain": [
       "(base_power = 1.0, base_voltage = 34.5, base_current = 0.028985507246376812, base_impedance = 1190.25)"
      ]
     },
     "metadata": {},
     "output_type": "display_data"
    }
   ],
   "source": [
    "# -- DEFINITION OF THE PER UNIT BASIS --\n",
    "\n",
    "function define_PU_basis(;BASE_POWER::Float64 = 1.0, BASE_VOLTAGE::Float64 = 34.5)\n",
    "    \n",
    "    BASE_CURRENT = BASE_POWER / BASE_VOLTAGE      # [kA]\n",
    "    BASE_IMPEDANCE = BASE_VOLTAGE / BASE_CURRENT  # [Ohm]\n",
    "\n",
    "    PU_basis = (base_power=BASE_POWER, \n",
    "                base_voltage=BASE_VOLTAGE,\n",
    "                base_current=BASE_CURRENT, \n",
    "                base_impedance=BASE_IMPEDANCE\n",
    "                )\n",
    "                \n",
    "    return PU_basis \n",
    "end\n",
    "\n",
    "\n",
    "= \n"
   ]
  },
  {
   "cell_type": "code",
   "execution_count": 9,
   "metadata": {},
   "outputs": [
    {
     "data": {
      "text/plain": [
       "(V_min = 0.95, V_max = 1.05)"
      ]
     },
     "metadata": {},
     "output_type": "display_data"
    }
   ],
   "source": [
    "# -- DEFINITION OF THE VOLTAGE LIMITS --\n",
    "\n",
    "voltage_limits = (V_min=0.95, V_max=1.05)"
   ]
  },
  {
   "cell_type": "code",
   "execution_count": 10,
   "metadata": {},
   "outputs": [
    {
     "ename": "UndefVarError",
     "evalue": "UndefVarError: PU_BASIS not defined",
     "output_type": "error",
     "traceback": [
      "UndefVarError: PU_BASIS not defined\n",
      "\n",
      "Stacktrace:\n",
      " [1] top-level scope\n",
      "   @ ~/Documents/University/TFE/Bilevel_DNEP/src/Bilevel/test_structures.ipynb:3"
     ]
    }
   ],
   "source": [
    "# -- Definition of the buses -- \n",
    "\n",
    "\"\"\" get_network_data \n",
    "\n",
    "    Arguments:\n",
    "    ----------\n",
    "        - XLSX_NETWORK_PATH : path of xlsx file contrainint the network data\n",
    "        - voltage_limits : limits on the bus voltage\n",
    "        - PU_basis : per-unit basis used for the simulation\n",
    "    \n",
    "    Return value:\n",
    "    -------------\n",
    "        - A structure of type DistributionNetwork that contains the network data\n",
    "\"\"\"\n",
    "\n",
    "function get_network_data(XLSX_NETWORK_PATH::String; voltage_limits::VLIM=(V_min=0.95, V_max=1.05), PU_basis::PU_BASIS=define_PU_basis())\n",
    "    \n",
    "    lines = get_lines_data(XLSX_NETWORK_PATH)\n",
    "    buses = get_buses_data(XLSX_NETWORK_PATH, voltage_limits)\n",
    "    conductors = get_conductors_data(XLSX_NETWORK_PATH, PU_basis)\n",
    "\n",
    "    return DistributionNetwork(lines, buses, conductors, pu_basis)\n",
    "end\n",
    "\n",
    "\n",
    "\n",
    "function get_lines_data(XLSX_NETWORK_PATH::String)\n",
    "    df_line = DataFrames.DataFrame(XLSX.readtable(XLSX_NETWORK_PATH, \"line\"))\n",
    "    L = DataFrames.nrow(df_line)\n",
    "    \n",
    "    edges = [Edge(l, (from_bus=df_line.from_bus[l], to_bus=df_line.to_bus[l])) for l in 1:L]\n",
    "    lines = [Line(edges[l], convert(Float64, df_line.length_km)) for l in 1:L]\n",
    "    \n",
    "    return lines\n",
    "end\n",
    "\n",
    "function get_buses_data(XLSX_NETWORK_PATH::String)\n",
    "    df_bus = DataFrames.DataFrame(XLSX.readtable(XLSX_NETWORK_PATH, \"bus\"))\n",
    "\n",
    "    N = DataFrames.nrow(df_bus)            # Total number of buses\n",
    "    Ns = sum(df_bus.type .== \"substation\") # Number of substation buses\n",
    "    Nu = N - Ns                            # Number of user buses\n",
    "\n",
    "    nodes = [Node(i, (x=convert(Float64, df_bus.x[i]), y=convert(Float64, df_bus.y[i]))) for i in 1:N]\n",
    "    \n",
    "    buses = [Substation(nodes[i], V_limits, convert(Float64, df_bus.S_rating_max[i])) for i in 1:Ns]\n",
    "    buses = [buses; User(nodes[i], V_limits, load_profile[i]) for i in Ns+1:N]\n",
    "\n",
    "    return buses\n",
    "end\n",
    "\n",
    "\n",
    "function add_load_profile(XLSX_NETWORK_PATH::String, user_bus::User, PU_basis::PU_BASIS)\n",
    "    \n",
    "    lines = get_lines_data(XLSX_NETWORK_PATH)\n",
    "    buses = get_buses_data(XLSX_NETWORK_PATH, voltage_limits)\n",
    "    conductors = get_conductors_data(XLSX_NETWORK_PATH, PU_basis)\n",
    "\n",
    "    return DistributionNetwork(lines, buses, conductors, pu_basis)\n",
    "end\n",
    "\n"
   ]
  }
 ],
 "metadata": {
  "kernelspec": {
   "display_name": "Julia 1.8.2",
   "language": "julia",
   "name": "julia-1.8"
  },
  "language_info": {
   "file_extension": ".jl",
   "mimetype": "application/julia",
   "name": "julia",
   "version": "1.8.2"
  },
  "orig_nbformat": 4
 },
 "nbformat": 4,
 "nbformat_minor": 2
}
