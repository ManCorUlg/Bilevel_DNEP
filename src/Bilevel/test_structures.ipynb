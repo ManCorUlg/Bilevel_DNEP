{
 "cells": [
  {
   "cell_type": "code",
   "execution_count": 1,
   "metadata": {},
   "outputs": [
    {
     "data": {
      "text/plain": [
       "get_network_data"
      ]
     },
     "metadata": {},
     "output_type": "display_data"
    }
   ],
   "source": [
    "# -- IMPORTATION OF THE PACKAGES --\n",
    "import DataFrames \n",
    "import XLSX\n",
    "include(\"structs.jl\")\n",
    "include(\"read_data.jl\")"
   ]
  },
  {
   "cell_type": "code",
   "execution_count": 2,
   "metadata": {},
   "outputs": [
    {
     "data": {
      "text/plain": [
       "\"/Users/manoncornet/Documents/University/TFE/Bilevel_DNEP/\""
      ]
     },
     "metadata": {},
     "output_type": "display_data"
    }
   ],
   "source": [
    "# -- FETCHING THE PATH OF THE ROOT DIRECTORY --\n",
    "\n",
    "root_dir = normpath(joinpath(@__FILE__,\"..\",\"..\",\"..\"))"
   ]
  },
  {
   "cell_type": "code",
   "execution_count": 3,
   "metadata": {},
   "outputs": [
    {
     "data": {
      "text/plain": [
       "\"/Users/manoncornet/Documents/University/TFE/Bilevel_DNEP/NetworkModels/network_Nahman_Peric_2S23H.xlsx\""
      ]
     },
     "metadata": {},
     "output_type": "display_data"
    }
   ],
   "source": [
    "# -- LOADING THE EXCEL FILE CONTAINING THE NETWORK TOPOLOGY --\n",
    "\n",
    "network_data_dir = joinpath(root_dir, \"NetworkModels\")\n",
    "XLSX_NETWORK_PATH = joinpath(network_data_dir, \"network_Nahman_Peric_2S23H.xlsx\")"
   ]
  },
  {
   "cell_type": "code",
   "execution_count": 4,
   "metadata": {},
   "outputs": [
    {
     "data": {
      "text/plain": [
       "\"/Users/manoncornet/Documents/University/TFE/Bilevel_DNEP/ManchesterData/LCT_profiles/Winter_EHP_Profiles.xlsx\""
      ]
     },
     "metadata": {},
     "output_type": "display_data"
    }
   ],
   "source": [
    "# -- LOADING THE EXCEL FILES CONTAINING THE DATA FOR LOAD AND PV PROFILES --\n",
    "\n",
    "profiles_data_dir = joinpath(root_dir, \"ManchesterData\", \"LCT_profiles\")\n",
    "XLSX_SUMMER_LOAD_PATH = joinpath(profiles_data_dir, \"Summer_Load_Profiles.xlsx\")\n",
    "XLSX_WINTER_LOAD_PATH = joinpath(profiles_data_dir, \"Winter_Load_Profiles.xlsx\")\n",
    "XLSX_PV_PATH = joinpath(profiles_data_dir, \"Summer_PV_Profiles.xlsx\")\n",
    "XLSX_EV_PATH = joinpath(profiles_data_dir, \"Winter_EV_Profiles.xlsx\")\n",
    "XLSX_HP_PATH = joinpath(profiles_data_dir, \"Winter_EHP_Profiles.xlsx\")"
   ]
  },
  {
   "cell_type": "code",
   "execution_count": 19,
   "metadata": {},
   "outputs": [
    {
     "data": {
      "text/plain": [
       "create_base_load_profiles (generic function with 1 method)"
      ]
     },
     "metadata": {},
     "output_type": "display_data"
    }
   ],
   "source": [
    "# PROFILES is a list that contains the path to the significative days profiles \n",
    "\n",
    "function create_base_load_profiles( PROFILES::Vector{String},\n",
    "                                    nb_profiles::Int64, \n",
    "                                    peak_power::Float64,\n",
    "                                    peak_distribution::Vector{Float64};\n",
    "                                    winter::Bool=true,\n",
    "                                    seed=nothing\n",
    "                                )\n",
    "\n",
    "    # Fixing the seed to choose randomly the load profiles selected \n",
    "    if !isnothing(seed)\n",
    "        Random.seed!(seed)\n",
    "        id_loads = Random.rand(1:ncols, nb_profiles)\n",
    "    else \n",
    "        id_loads = 1:nb_profiles\n",
    "    end\n",
    "\n",
    "    nrows, ncols = size(XLSX.readxlsx(PROFILES[1])[1][:])\n",
    "    base_load_profiles = Matrix{Float64}(undef, 0, ncols)\n",
    "\n",
    "    for file in PROFILES \n",
    "        profiles = convert(Matrix{Float64}, XLSX.readxlsx(file)[1][:])\n",
    "        selected_profiles = reshape(profiles[:, id_loads], (nrows, length(id_loads)))\n",
    "        base_load_profiles = [base_load_profiles; selected_profiles]\n",
    "    end\n",
    "\n",
    "    sum_user_profiles = vec(sum(base_load_profiles, dims=2))\n",
    "    peak_value, index_peak = findmax(sum_user_profiles)\n",
    "    initial_distribution = base_load_profiles[index_peak, :] ./\n",
    "    argmax(sum(base_load_profiles, dims=2))\n",
    "    # Computation to have the right distribution at peak time\n",
    "    \n",
    "    base_load_profiles[:, u] = base_load_profiles[:, u]/peak_value(distribution[u] * scaling_factor) * peak_power/scaling_factor\n",
    "    \n",
    "\n",
    "end\n"
   ]
  },
  {
   "cell_type": "code",
   "execution_count": null,
   "metadata": {},
   "outputs": [],
   "source": [
    "function simulation_load_profiles( PROFILE_DIR::String,\n",
    "    nb_profiles::Int64, \n",
    "    peak_power::Float64,\n",
    "    peak_distribution::Vector{Float64};\n",
    "    winter::Bool=true, \n",
    "    EV::Bool=false, \n",
    "    EHP::Bool=false,\n",
    "    seed=nothing\n",
    ")\n",
    "\n",
    "\n",
    "end"
   ]
  },
  {
   "cell_type": "code",
   "execution_count": 5,
   "metadata": {},
   "outputs": [
    {
     "data": {
      "text/plain": [
       "(DistributionNetwork(Line[Line(Edge(1, Node(1, (x = 8.525, y = 6.055)), Node(10, (x = 8.325, y = 6.026))), 0.20209156340629467, false, nothing, nothing, nothing, nothing, nothing), Line(Edge(2, Node(10, (x = 8.325, y = 6.026)), Node(20, (x = 8.825, y = 6.512))), 0.697277563098082, false, nothing, nothing, nothing, nothing, nothing), Line(Edge(3, Node(10, (x = 8.325, y = 6.026)), Node(14, (x = 7.925, y = 5.869))), 0.42970804041814203, false, nothing, nothing, nothing, nothing, nothing), Line(Edge(4, Node(10, (x = 8.325, y = 6.026)), Node(19, (x = 8.868, y = 5.783))), 0.5948932677380043, false, nothing, nothing, nothing, nothing, nothing), Line(Edge(5, Node(19, (x = 8.868, y = 5.783)), Node(20, (x = 8.825, y = 6.512))), 0.7302670744323606, false, nothing, nothing, nothing, nothing, nothing), Line(Edge(6, Node(19, (x = 8.868, y = 5.783)), Node(21, (x = 9.039, y = 5.255))), 0.5550000000000003, false, nothing, nothing, nothing, nothing, nothing), Line(Edge(7, Node(19, (x = 8.868, y = 5.783)), Node(22, (x = 9.425, y = 5.612))), 0.582657703973783, false, nothing, nothing, nothing, nothing, nothing), Line(Edge(8, Node(22, (x = 9.425, y = 5.612)), Node(16, (x = 9.325, y = 6.555))), 0.9482874036915178, false, nothing, nothing, nothing, nothing, nothing), Line(Edge(9, Node(22, (x = 9.425, y = 5.612)), Node(11, (x = 9.596, y = 4.941))), 0.6924463878164143, false, nothing, nothing, nothing, nothing, nothing), Line(Edge(10, Node(11, (x = 9.596, y = 4.941)), Node(21, (x = 9.039, y = 5.255))), 0.6394098841901026, false, nothing, nothing, nothing, nothing, nothing)  …  Line(Edge(25, Node(6, (x = 8.154, y = 6.654)), Node(16, (x = 9.325, y = 6.555))), 1.1751774334116523, false, nothing, nothing, nothing, nothing, nothing), Line(Edge(26, Node(6, (x = 8.154, y = 6.654)), Node(7, (x = 8.325, y = 7.454))), 0.818071512766457, false, nothing, nothing, nothing, nothing, nothing), Line(Edge(27, Node(7, (x = 8.325, y = 7.454)), Node(8, (x = 8.354, y = 8.14))), 0.6866127001447039, false, nothing, nothing, nothing, nothing, nothing), Line(Edge(28, Node(8, (x = 8.354, y = 8.14)), Node(2, (x = 8.4, y = 8.2))), 0.07560423268574289, false, nothing, nothing, nothing, nothing, nothing), Line(Edge(29, Node(8, (x = 8.354, y = 8.14)), Node(9, (x = 7.383, y = 9.953))), 2.0566501890209707, false, nothing, nothing, nothing, nothing, nothing), Line(Edge(30, Node(8, (x = 8.354, y = 8.14)), Node(4, (x = 6.654, y = 6.583))), 2.305265494471298, false, nothing, nothing, nothing, nothing, nothing), Line(Edge(31, Node(4, (x = 6.654, y = 6.583)), Node(9, (x = 7.383, y = 9.953))), 3.4479473603870456, false, nothing, nothing, nothing, nothing, nothing), Line(Edge(32, Node(9, (x = 7.383, y = 9.953)), Node(3, (x = 9.011, y = 10.767))), 1.8201593336848283, false, nothing, nothing, nothing, nothing, nothing), Line(Edge(33, Node(8, (x = 8.354, y = 8.14)), Node(3, (x = 9.011, y = 10.767))), 2.7079102643920816, false, nothing, nothing, nothing, nothing, nothing), Line(Edge(34, Node(3, (x = 9.011, y = 10.767)), Node(16, (x = 9.325, y = 6.555))), 4.223687961959311, false, nothing, nothing, nothing, nothing, nothing)], Substation[Substation(Node(1, (x = 8.525, y = 6.055)), (V_min = 0.95, V_max = 1.05), 15.0, nothing, nothing, nothing, nothing), Substation(Node(2, (x = 8.4, y = 8.2)), (V_min = 0.95, V_max = 1.05), 15.0, nothing, nothing, nothing, nothing)], User[User(Node(3, (x = 9.011, y = 10.767)), (V_min = 0.95, V_max = 1.05), nothing, nothing, nothing), User(Node(4, (x = 6.654, y = 6.583)), (V_min = 0.95, V_max = 1.05), nothing, nothing, nothing), User(Node(5, (x = 6.926, y = 5.683)), (V_min = 0.95, V_max = 1.05), nothing, nothing, nothing), User(Node(6, (x = 8.154, y = 6.654)), (V_min = 0.95, V_max = 1.05), nothing, nothing, nothing), User(Node(7, (x = 8.325, y = 7.454)), (V_min = 0.95, V_max = 1.05), nothing, nothing, nothing), User(Node(8, (x = 8.354, y = 8.14)), (V_min = 0.95, V_max = 1.05), nothing, nothing, nothing), User(Node(9, (x = 7.383, y = 9.953)), (V_min = 0.95, V_max = 1.05), nothing, nothing, nothing), User(Node(10, (x = 8.325, y = 6.026)), (V_min = 0.95, V_max = 1.05), nothing, nothing, nothing), User(Node(11, (x = 9.596, y = 4.941)), (V_min = 0.95, V_max = 1.05), nothing, nothing, nothing), User(Node(12, (x = 7.811, y = 4.927)), (V_min = 0.95, V_max = 1.05), nothing, nothing, nothing)  …  User(Node(14, (x = 7.925, y = 5.869)), (V_min = 0.95, V_max = 1.05), nothing, nothing, nothing), User(Node(15, (x = 8.768, y = 4.712)), (V_min = 0.95, V_max = 1.05), nothing, nothing, nothing), User(Node(16, (x = 9.325, y = 6.555)), (V_min = 0.95, V_max = 1.05), nothing, nothing, nothing), User(Node(17, (x = 8.282, y = 5.598)), (V_min = 0.95, V_max = 1.05), nothing, nothing, nothing), User(Node(18, (x = 8.468, y = 5.198)), (V_min = 0.95, V_max = 1.05), nothing, nothing, nothing), User(Node(19, (x = 8.868, y = 5.783)), (V_min = 0.95, V_max = 1.05), nothing, nothing, nothing), User(Node(20, (x = 8.825, y = 6.512)), (V_min = 0.95, V_max = 1.05), nothing, nothing, nothing), User(Node(21, (x = 9.039, y = 5.255)), (V_min = 0.95, V_max = 1.05), nothing, nothing, nothing), User(Node(22, (x = 9.425, y = 5.612)), (V_min = 0.95, V_max = 1.05), nothing, nothing, nothing), User(Node(23, (x = 7.554, y = 5.555)), (V_min = 0.95, V_max = 1.05), nothing, nothing, nothing)], Conductor[Conductor(\"Poppy\", 0.00046225582860743544, 0.0003604284814114682, 7.9350000000000005, 10.0), Conductor(\"Oxlip\", 0.0002307918504515858, 0.0003377441713925646, 11.73, 12.0), Conductor(\"Daisy\", 0.00018315479941188826, 0.0003310228943499265, 15.870000000000001, 15.0), Conductor(\"Tulip\", 0.0001455156479731149, 0.00032010081915563956, 18.285, 20.0)], (base_power = 1.0, base_voltage = 34.5, base_current = 0.028985507246376812, base_impedance = 1190.25, base_money = 1.0)), DistributionNetworkTopology(Node[Node(1, (x = 8.525, y = 6.055)), Node(2, (x = 8.4, y = 8.2)), Node(3, (x = 9.011, y = 10.767)), Node(4, (x = 6.654, y = 6.583)), Node(5, (x = 6.926, y = 5.683)), Node(6, (x = 8.154, y = 6.654)), Node(7, (x = 8.325, y = 7.454)), Node(8, (x = 8.354, y = 8.14)), Node(9, (x = 7.383, y = 9.953)), Node(10, (x = 8.325, y = 6.026))  …  Node(14, (x = 7.925, y = 5.869)), Node(15, (x = 8.768, y = 4.712)), Node(16, (x = 9.325, y = 6.555)), Node(17, (x = 8.282, y = 5.598)), Node(18, (x = 8.468, y = 5.198)), Node(19, (x = 8.868, y = 5.783)), Node(20, (x = 8.825, y = 6.512)), Node(21, (x = 9.039, y = 5.255)), Node(22, (x = 9.425, y = 5.612)), Node(23, (x = 7.554, y = 5.555))], Edge[Edge(1, Node(1, (x = 8.525, y = 6.055)), Node(10, (x = 8.325, y = 6.026))), Edge(2, Node(10, (x = 8.325, y = 6.026)), Node(20, (x = 8.825, y = 6.512))), Edge(3, Node(10, (x = 8.325, y = 6.026)), Node(14, (x = 7.925, y = 5.869))), Edge(4, Node(10, (x = 8.325, y = 6.026)), Node(19, (x = 8.868, y = 5.783))), Edge(5, Node(19, (x = 8.868, y = 5.783)), Node(20, (x = 8.825, y = 6.512))), Edge(6, Node(19, (x = 8.868, y = 5.783)), Node(21, (x = 9.039, y = 5.255))), Edge(7, Node(19, (x = 8.868, y = 5.783)), Node(22, (x = 9.425, y = 5.612))), Edge(8, Node(22, (x = 9.425, y = 5.612)), Node(16, (x = 9.325, y = 6.555))), Edge(9, Node(22, (x = 9.425, y = 5.612)), Node(11, (x = 9.596, y = 4.941))), Edge(10, Node(11, (x = 9.596, y = 4.941)), Node(21, (x = 9.039, y = 5.255)))  …  Edge(25, Node(6, (x = 8.154, y = 6.654)), Node(16, (x = 9.325, y = 6.555))), Edge(26, Node(6, (x = 8.154, y = 6.654)), Node(7, (x = 8.325, y = 7.454))), Edge(27, Node(7, (x = 8.325, y = 7.454)), Node(8, (x = 8.354, y = 8.14))), Edge(28, Node(8, (x = 8.354, y = 8.14)), Node(2, (x = 8.4, y = 8.2))), Edge(29, Node(8, (x = 8.354, y = 8.14)), Node(9, (x = 7.383, y = 9.953))), Edge(30, Node(8, (x = 8.354, y = 8.14)), Node(4, (x = 6.654, y = 6.583))), Edge(31, Node(4, (x = 6.654, y = 6.583)), Node(9, (x = 7.383, y = 9.953))), Edge(32, Node(9, (x = 7.383, y = 9.953)), Node(3, (x = 9.011, y = 10.767))), Edge(33, Node(8, (x = 8.354, y = 8.14)), Node(3, (x = 9.011, y = 10.767))), Edge(34, Node(3, (x = 9.011, y = 10.767)), Node(16, (x = 9.325, y = 6.555)))]))"
      ]
     },
     "metadata": {},
     "output_type": "display_data"
    }
   ],
   "source": [
    "# -- Verification of the above code --\n",
    "network_data, network_typology = get_network_data(XLSX_NETWORK_PATH)"
   ]
  },
  {
   "cell_type": "code",
   "execution_count": null,
   "metadata": {},
   "outputs": [],
   "source": [
    "# -- Function that prints the initial network structure -- \n",
    "\n",
    "function Base.show(io::IO, data::User) \n",
    "    println(io, \"User bus : \")\n",
    "    println(io, \"--------- \")\n",
    "    println(io, \" - At node $(data.node.id)\")\n",
    "    println(io, \" - V in [$(data.V_limits.V_min), $(data.V_limits.V_max)]\")\n",
    "    if !isnothing(data.load_profile)\n",
    "        println(io, \" - Total S consumption = $(sum(data.load_profile.profile .* data.load_profile.granularity))\")\n",
    "        println(io, \" - cos(phi) = $(data.load_profile.cos_phi)\")\n",
    "    end\n",
    "    if !isnothing(data.V_magn)\n",
    "        println(io, \" - V = $(data.V_magn) [pu]\")\n",
    "    end\n",
    "    if !isnothing(data.PV_installation)\n",
    "        println(io, \" - PV installation : yes\")\n",
    "    else\n",
    "        println(io, \" - PV installation : no\")\n",
    "    end\n",
    "  \n",
    "    return \n",
    "end\n"
   ]
  },
  {
   "cell_type": "code",
   "execution_count": null,
   "metadata": {},
   "outputs": [],
   "source": [
    "# -- DEFINITIONS OF THE PARAMETERS FOR LOAD PROFILES --\n",
    "\n",
    "WINTER = true               # extend the summer profile\n",
    "ELECTRIC_VEHICLES = false   # added to summer & winter profiles\n",
    "HEAT_PUMPS = false          # added to winter profile only\n",
    "PEAK_POWER = 7              # [MVA] maximum power of all the apparent demands\n",
    "DELTA_T = 15                # [min] Duration of a time step in time series"
   ]
  },
  {
   "cell_type": "code",
   "execution_count": null,
   "metadata": {},
   "outputs": [],
   "source": []
  },
  {
   "cell_type": "code",
   "execution_count": null,
   "metadata": {},
   "outputs": [],
   "source": [
    "# -- DEFINITIONS OF THE PARAMETERS REQUIRED FOR PV --\n",
    "MAX_PV_CAPACITY_PER_NODE = 0.4 # MVA \n",
    "PV_SCALE_SUMMER_WINTER = 0.1 # winter PV production wrt summer production\n",
    "PV_MAX_Q = 0.3 # max Q consumed/produced wrt P_peak\n",
    "PV_SLOPE = -1 # linear slope of the upper bound from the PQ diagram of PV\n",
    "COS_PHI = 0.95 # P_CONSUMPTION = COS_PHI * S_CONSUMPTION\n"
   ]
  },
  {
   "cell_type": "code",
   "execution_count": null,
   "metadata": {},
   "outputs": [],
   "source": []
  },
  {
   "cell_type": "code",
   "execution_count": null,
   "metadata": {},
   "outputs": [],
   "source": [
    "for i in network_data.load_buses\n",
    "    show(i)\n",
    "end\n"
   ]
  },
  {
   "cell_type": "code",
   "execution_count": null,
   "metadata": {},
   "outputs": [],
   "source": []
  },
  {
   "cell_type": "code",
   "execution_count": null,
   "metadata": {},
   "outputs": [],
   "source": []
  }
 ],
 "metadata": {
  "kernelspec": {
   "display_name": "Julia 1.8.2",
   "language": "julia",
   "name": "julia-1.8"
  },
  "language_info": {
   "file_extension": ".jl",
   "mimetype": "application/julia",
   "name": "julia",
   "version": "1.8.2"
  },
  "orig_nbformat": 4
 },
 "nbformat": 4,
 "nbformat_minor": 2
}
